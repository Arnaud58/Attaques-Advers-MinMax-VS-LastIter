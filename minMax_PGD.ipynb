{
  "nbformat": 4,
  "nbformat_minor": 0,
  "metadata": {
    "kernelspec": {
      "name": "python3",
      "display_name": "Python 3"
    },
    "language_info": {
      "codemirror_mode": {
        "name": "ipython",
        "version": 3
      },
      "file_extension": ".py",
      "mimetype": "text/x-python",
      "name": "python",
      "nbconvert_exporter": "python",
      "pygments_lexer": "ipython3",
      "version": "3.7.4"
    },
    "colab": {
      "name": "minMax_PGD.ipynb",
      "provenance": [],
      "collapsed_sections": [
        "7OOEzQaDRPNN"
      ],
      "machine_shape": "hm"
    },
    "accelerator": "GPU"
  },
  "cells": [
    {
      "cell_type": "code",
      "metadata": {
        "id": "lzKaeA24qqoZ",
        "colab_type": "code",
        "colab": {
          "base_uri": "https://localhost:8080/",
          "height": 125
        },
        "outputId": "ffcefb9b-988e-4875-9014-770ecd0b12bd"
      },
      "source": [
        "from google.colab import drive\n",
        "drive.mount('/content/gdrive', force_remount=True)"
      ],
      "execution_count": null,
      "outputs": [
        {
          "output_type": "stream",
          "text": [
            "Go to this URL in a browser: https://accounts.google.com/o/oauth2/auth?client_id=947318989803-6bn6qk8qdgf4n4g3pfee6491hc0brc4i.apps.googleusercontent.com&redirect_uri=urn%3aietf%3awg%3aoauth%3a2.0%3aoob&scope=email%20https%3a%2f%2fwww.googleapis.com%2fauth%2fdocs.test%20https%3a%2f%2fwww.googleapis.com%2fauth%2fdrive%20https%3a%2f%2fwww.googleapis.com%2fauth%2fdrive.photos.readonly%20https%3a%2f%2fwww.googleapis.com%2fauth%2fpeopleapi.readonly&response_type=code\n",
            "\n",
            "Enter your authorization code:\n",
            "··········\n",
            "Mounted at /content/gdrive\n"
          ],
          "name": "stdout"
        }
      ]
    },
    {
      "cell_type": "code",
      "metadata": {
        "id": "XxMaqVyNrwAX",
        "colab_type": "code",
        "colab": {
          "base_uri": "https://localhost:8080/",
          "height": 34
        },
        "outputId": "b4e1e268-e354-452f-81d3-fa41b2c80089"
      },
      "source": [
        "%tensorflow_version 1.x"
      ],
      "execution_count": null,
      "outputs": [
        {
          "output_type": "stream",
          "text": [
            "TensorFlow 1.x selected.\n"
          ],
          "name": "stdout"
        }
      ]
    },
    {
      "cell_type": "code",
      "metadata": {
        "id": "LVnWeHLmq_Yu",
        "colab_type": "code",
        "colab": {
          "base_uri": "https://localhost:8080/",
          "height": 532
        },
        "outputId": "f4ca6cc0-572c-4787-d7e7-f3ed035a0d50"
      },
      "source": [
        "pip install foolbox==2.4"
      ],
      "execution_count": null,
      "outputs": [
        {
          "output_type": "stream",
          "text": [
            "Collecting foolbox==2.4\n",
            "\u001b[?25l  Downloading https://files.pythonhosted.org/packages/07/b9/422ebc4a078700e41aadb709db500acff83bbcc91091995c0cf80bd78bc4/foolbox-2.4.0.tar.gz (1.9MB)\n",
            "\u001b[K     |████████████████████████████████| 1.9MB 5.5MB/s \n",
            "\u001b[?25h  Installing build dependencies ... \u001b[?25l\u001b[?25hdone\n",
            "  Getting requirements to build wheel ... \u001b[?25l\u001b[?25hdone\n",
            "    Preparing wheel metadata ... \u001b[?25l\u001b[?25hdone\n",
            "Requirement already satisfied: setuptools in /usr/local/lib/python3.6/dist-packages (from foolbox==2.4) (49.2.0)\n",
            "Collecting GitPython\n",
            "\u001b[?25l  Downloading https://files.pythonhosted.org/packages/f9/1e/a45320cab182bf1c8656107b3d4c042e659742822fc6bff150d769a984dd/GitPython-3.1.7-py3-none-any.whl (158kB)\n",
            "\u001b[K     |████████████████████████████████| 163kB 44.6MB/s \n",
            "\u001b[?25hRequirement already satisfied: numpy in /usr/local/lib/python3.6/dist-packages (from foolbox==2.4) (1.18.5)\n",
            "Requirement already satisfied: requests in /usr/local/lib/python3.6/dist-packages (from foolbox==2.4) (2.23.0)\n",
            "Requirement already satisfied: scipy in /usr/local/lib/python3.6/dist-packages (from foolbox==2.4) (1.4.1)\n",
            "Collecting gitdb<5,>=4.0.1\n",
            "\u001b[?25l  Downloading https://files.pythonhosted.org/packages/48/11/d1800bca0a3bae820b84b7d813ad1eff15a48a64caea9c823fc8c1b119e8/gitdb-4.0.5-py3-none-any.whl (63kB)\n",
            "\u001b[K     |████████████████████████████████| 71kB 7.3MB/s \n",
            "\u001b[?25hRequirement already satisfied: urllib3!=1.25.0,!=1.25.1,<1.26,>=1.21.1 in /usr/local/lib/python3.6/dist-packages (from requests->foolbox==2.4) (1.24.3)\n",
            "Requirement already satisfied: certifi>=2017.4.17 in /usr/local/lib/python3.6/dist-packages (from requests->foolbox==2.4) (2020.6.20)\n",
            "Requirement already satisfied: idna<3,>=2.5 in /usr/local/lib/python3.6/dist-packages (from requests->foolbox==2.4) (2.10)\n",
            "Requirement already satisfied: chardet<4,>=3.0.2 in /usr/local/lib/python3.6/dist-packages (from requests->foolbox==2.4) (3.0.4)\n",
            "Collecting smmap<4,>=3.0.1\n",
            "  Downloading https://files.pythonhosted.org/packages/b0/9a/4d409a6234eb940e6a78dfdfc66156e7522262f5f2fecca07dc55915952d/smmap-3.0.4-py2.py3-none-any.whl\n",
            "Building wheels for collected packages: foolbox\n",
            "  Building wheel for foolbox (PEP 517) ... \u001b[?25l\u001b[?25hdone\n",
            "  Created wheel for foolbox: filename=foolbox-2.4.0-cp36-none-any.whl size=1926223 sha256=ec5937f8ed3492125abc5a9b3ee36dc9a6fd293864a3b70d52dc97227fa8eb89\n",
            "  Stored in directory: /root/.cache/pip/wheels/ae/5a/11/a5b42761c70dd38c674d889f6ce7edc9867d0262f95de8712b\n",
            "Successfully built foolbox\n",
            "Installing collected packages: smmap, gitdb, GitPython, foolbox\n",
            "Successfully installed GitPython-3.1.7 foolbox-2.4.0 gitdb-4.0.5 smmap-3.0.4\n"
          ],
          "name": "stdout"
        }
      ]
    },
    {
      "cell_type": "code",
      "metadata": {
        "id": "f50XD73grRlo",
        "colab_type": "code",
        "colab": {
          "base_uri": "https://localhost:8080/",
          "height": 34
        },
        "outputId": "0de73f6e-6599-46e4-9c37-eb7c5dcfe5d2"
      },
      "source": [
        "cd '/content/gdrive/My Drive'"
      ],
      "execution_count": null,
      "outputs": [
        {
          "output_type": "stream",
          "text": [
            "/content/gdrive/My Drive\n"
          ],
          "name": "stdout"
        }
      ]
    },
    {
      "cell_type": "code",
      "metadata": {
        "id": "u4n_b-4Rqlrk",
        "colab_type": "code",
        "colab": {
          "base_uri": "https://localhost:8080/",
          "height": 87
        },
        "outputId": "3f99f860-5c22-49a0-f4f6-0ed73373b97f"
      },
      "source": [
        "import os\n",
        "import sys\n",
        "import foolbox\n",
        "import argparse\n",
        "import tensorflow as tf\n",
        "\n",
        "from classification_models.keras import Classifiers\n",
        "import numpy as np\n",
        "import matplotlib.pyplot as plt\n",
        "from random import randint\n",
        "from copy import copy\n",
        "import time\n",
        "\n",
        "print(sys.version)\n",
        "print(tf.__version__)"
      ],
      "execution_count": null,
      "outputs": [
        {
          "output_type": "stream",
          "text": [
            "Using TensorFlow backend.\n"
          ],
          "name": "stderr"
        },
        {
          "output_type": "stream",
          "text": [
            "3.6.9 (default, Jul 17 2020, 12:50:27) \n",
            "[GCC 8.4.0]\n",
            "1.15.2\n"
          ],
          "name": "stdout"
        }
      ]
    },
    {
      "cell_type": "code",
      "metadata": {
        "id": "e0r1UBguqlro",
        "colab_type": "code",
        "colab": {
          "base_uri": "https://localhost:8080/",
          "height": 34
        },
        "outputId": "e460958f-910f-4efa-d49a-a7e4feeb737a"
      },
      "source": [
        "print(\"Num GPUs Available: \", len(tf.config.experimental.list_physical_devices('GPU')))"
      ],
      "execution_count": null,
      "outputs": [
        {
          "output_type": "stream",
          "text": [
            "Num GPUs Available:  1\n"
          ],
          "name": "stdout"
        }
      ]
    },
    {
      "cell_type": "markdown",
      "metadata": {
        "id": "YbaCgaSRqlrq",
        "colab_type": "text"
      },
      "source": [
        "# Train"
      ]
    },
    {
      "cell_type": "code",
      "metadata": {
        "id": "WFpQmfk7qlrq",
        "colab_type": "code",
        "colab": {}
      },
      "source": [
        "histoYK = [[]]\n",
        "\n",
        "def loadCIFAR(test=False, train=False) :\n",
        "    cifar100 = tf.keras.datasets.cifar100\n",
        "    (x_train, y_train), (x_test, y_test) = cifar100.load_data()\n",
        "    '''\n",
        "    (x_train1, y_train), (x_test1, y_test) = cifar100.load_data()\n",
        "    x_train = x_train1.astype('float32') / 255\n",
        "    x_test = x_test1.astype('float32') / 255'''\n",
        "\n",
        "    image, label, labelf = [], [], []\n",
        "    if test :\n",
        "        for i in range(len(x_test)) :\n",
        "            if y_test[i] == 88 : # tigre (88) \n",
        "                label.append([0,1])\n",
        "                image.append(x_test[i])\n",
        "                labelf.append(1)\n",
        "            if y_test[i] == 42 and not train : # lion  (42)\n",
        "                label.append([1,0])\n",
        "                image.append(x_test[i])\n",
        "                labelf.append(0)\n",
        "            if y_test[i] == 90 and train: # train  (90)\n",
        "                label.append([1,0])\n",
        "                image.append(x_test[i])\n",
        "                labelf.append(0)\n",
        "    else :\n",
        "        for i in range(len(y_train)) :\n",
        "            if y_train[i] == 88 : # tigre (88) \n",
        "                label.append([0,1])\n",
        "                labelf.append(1)\n",
        "                image.append(x_train[i])\n",
        "            if y_train[i] == 42 and not train: # lion  (42)\n",
        "                label.append([1,0])\n",
        "                image.append(x_train[i])\n",
        "                labelf.append(0)\n",
        "            if y_train[i] == 90 and train: # train  (90)\n",
        "                label.append([1,0])\n",
        "                image.append(x_train[i])\n",
        "                labelf.append(0)\n",
        "\n",
        "    image = np.array(image)\n",
        "    label = np.array(label)\n",
        "    labelf = np.array(labelf)\n",
        "    return image, label, labelf\n",
        "\n",
        "def game(k,i,fks,zks,labelf) :\n",
        "    global histoYK\n",
        "    imgs = zks[:,i]\n",
        "    fMax = fks[0] #Le premier classifieur\n",
        "    maxZ = 0\n",
        "    classiNB = 0\n",
        "    \n",
        "    for ki in range(k) : # les classifeurs\n",
        "        actZ = fks[ki].predict(imgs)[0][labelf[i]] \n",
        "        if actZ>=maxZ : \n",
        "            maxZ=actZ\n",
        "            fMax = fks[ki]\n",
        "            classiNB = ki\n",
        "\n",
        "    histoYK[k-1].append(classiNB)\n",
        "\n",
        "    imgMin = fMax.predict(imgs)[:,labelf[i]].argmin()\n",
        "    yki = zks[imgMin][i]\n",
        "\n",
        "    return yki\n",
        "\n",
        "def printCPTTime(sec) :\n",
        "    sec = int(sec)\n",
        "    if sec <60 :\n",
        "        print(\"00:\"+str(sec))\n",
        "    elif sec<3600 : \n",
        "        print(str(sec//60)+\":\"+str(sec%60))\n",
        "    else :\n",
        "        reste = sec%3600\n",
        "        print(str(sec//3600)+\":\"+str(reste//60)+\":\"+str(reste%60))\n",
        "        \n",
        "def giveTime() :\n",
        "    return str(time.localtime()[3])+\":\"+str(time.localtime()[4])"
      ],
      "execution_count": null,
      "outputs": []
    },
    {
      "cell_type": "code",
      "metadata": {
        "id": "ZbJdHAi1qlrt",
        "colab_type": "code",
        "colab": {}
      },
      "source": [
        "theClassifieurs = np.array([])\n",
        "theZk = np.array([])\n",
        "theYk = np.array([])\n",
        "\n",
        "def start(kIter=10, nbEpoch=280, batchSize=256, filePath=\"modelCifar2\", TT=False) :\n",
        "    global theClassifieurs, theZk, theYk\n",
        "    ResNet18, preprocess_input = Classifiers.get('resnet18')\n",
        "    if not os.path.exists(filePath):\n",
        "        os.makedirs(filePath)\n",
        "\n",
        "    if not os.path.exists(filePath+\"/dataset\"):\n",
        "        os.makedirs(filePath+\"/dataset\")\n",
        "\n",
        "    # Charge les images\n",
        "    image, label, labelf = loadCIFAR(train=TT)\n",
        "    N = len(image)\n",
        "\n",
        "    # Creer f0\n",
        "    # f0 = tf.keras.applications.MobileNetV2(input_shape=[32,32,3], include_top=True, classes=2, weights=None) #, weights='imagenet'\n",
        "    model = ResNet18(input_shape=[32,32,3], include_top=True, classes=2, weights=None) \n",
        "    optim = tf.compat.v1.train.AdamOptimizer(1e-4)\n",
        "    loss = tf.keras.losses.MeanSquaredError() #.BinaryCrossentropy(from_logits=True)\n",
        "    model.compile(optim, loss, metrics=['accuracy'])\n",
        "    theClassifieurs = np.array([copy(model) for i in range(kIter+1)])\n",
        "\n",
        "    # Si un f0 existe déjà, le charger sinon en entrainer un\n",
        "    if os.path.exists(filePath+\"/f0\") : \n",
        "        print(giveTime()+\" >>> Load F0\")\n",
        "        theClassifieurs[0].load_weights(filePath+'/f0')\n",
        "    else :\n",
        "        print(giveTime()+\" >>> Train F0\")\n",
        "        theClassifieurs[0].compile(optim, loss, metrics=['accuracy'])\n",
        "        theClassifieurs[0].fit(image, label, epochs=nbEpoch, batch_size=batchSize)\n",
        "        theClassifieurs[0].save_weights(filePath+'/f0')\n",
        "\n",
        "    attack = foolbox.attacks.L2BasicIterativeAttack(theClassifieurs[0], distance=foolbox.distances.MeanSquaredDistance)\n",
        "    test0 = attack(image, labelf, stepsize=0.06, iterations=200, return_early=True, random_start=True)\n",
        "    eqm  = tf.keras.losses.MSE(image/255,test0/255)\n",
        "    print(sess.run(eqm).mean())\n",
        "\n",
        "    # Créer Z0\n",
        "    print(giveTime()+\" >>> Create Z0\\n\\n\")\n",
        "    foolModel = foolbox.models.KerasModel(theClassifieurs[0], bounds=(0, 255))\n",
        "    attack = foolbox.attacks.L2BasicIterativeAttack(foolModel, distance=foolbox.distances.MeanSquaredDistance)\n",
        "    Z0 = attack(image, labelf, epsilon=5.0 , stepsize=0.06, iterations=200, return_early=True, random_start=True)\n",
        "    np.save(filePath+\"/dataset/Z0\", Z0)\n",
        "\n",
        "    # Créer ensemble des adversaires (et y place Z0)\n",
        "    theZk = np.array([Z0])\n",
        "    theYk = np.array([])\n",
        "\n",
        "    k=1\n",
        "    while k<=kIter :\n",
        "        # Générer Zk\n",
        "        print(giveTime()+\" >>> New Iter \"+str(k)+\"/\"+str(kIter))\n",
        "        print(giveTime()+\" >>> Create Z\"+str(k)+\"\")\n",
        "        foolModel = foolbox.models.KerasModel(theClassifieurs[k-1], bounds=(0, 255))\n",
        "        attack = foolbox.attacks.L2BasicIterativeAttack(foolModel, distance=foolbox.distances.MeanSquaredDistance)\n",
        "\n",
        "        itera = 200\n",
        "        epss  = 5.0\n",
        "        ZK = attack(image, labelf, epsilon=epss , stepsize=0.06, iterations=itera, return_early=True, random_start=True) #, epsilon=0.5 , stepsize=0.05, iterations=200, return_early=True)\n",
        "        Zk_acc = np.mean(theClassifieurs[k-1].predict(ZK).argmax(axis=-1) == labelf)\n",
        "\n",
        "        print(giveTime()+\" >>> Z\"+str(k)+\" acc \"+str(Zk_acc))\n",
        "\n",
        "        theZk = np.concatenate((theZk,[ZK]))\n",
        "        np.save(filePath+\"/dataset/Z\"+str(k), ZK)\n",
        "\n",
        "        # Jouer au jeu pour générer Yk\n",
        "        print(giveTime()+\" >>> Create Y\"+str(k)+\"\")\n",
        "        YK = np.array([])\n",
        "        for i in range(N) :\n",
        "            yki = game(k,i,theClassifieurs,theZk,labelf)\n",
        "\n",
        "            if YK.size == 0 :\n",
        "                YK = np.array([yki])\n",
        "            else :\n",
        "                YK = np.concatenate((YK,[yki]))\n",
        "                \n",
        "        np.save(filePath+\"/dataset/Y\"+str(k), YK)\n",
        "\n",
        "        Yk_acc = np.mean(theClassifieurs[k-1].predict(YK).argmax(axis=-1) == labelf)\n",
        "        print(giveTime()+\" >>> Y\"+str(k)+\" acc (k-1) \"+str(Yk_acc))\n",
        "\n",
        "        # Entraine un nouveau classifieur Fk à partir de Yk\n",
        "        print(giveTime()+\" >>> Train F\"+str(k))\n",
        "        theClassifieurs[k].compile(optim, loss, metrics=['accuracy'])\n",
        "        theClassifieurs[k].fit(YK, label, epochs=nbEpoch, batch_size=batchSize)\n",
        "        theClassifieurs[k].save_weights(filePath+'/f'+str(k))\n",
        "\n",
        "        Yk_acc = np.mean(theClassifieurs[k].predict(YK).argmax(axis=-1) == labelf)\n",
        "        print(giveTime()+\" >>> Y\"+str(k)+\" acc (k) \"+str(Yk_acc))\n",
        "        print(giveTime()+\" >>> Image acc (k) \"+str(np.mean(theClassifieurs[k].predict(image).argmax(axis=-1) == labelf)))\n",
        "\n",
        "        # Ajoute ce Yk aux autres\n",
        "        if theYk.size == 0 :\n",
        "            theYk = np.array([YK])\n",
        "        else :\n",
        "            theYk = np.concatenate((theYk,[YK]))\n",
        "      \n",
        "        np.save(\"histoYK_PGD5\", histoYK)\n",
        "        histoYK.append([])\n",
        "        print(\"\\n\\n\")\n",
        "        k+=1"
      ],
      "execution_count": null,
      "outputs": []
    },
    {
      "cell_type": "code",
      "metadata": {
        "id": "8WNTNca5xA2d",
        "colab_type": "code",
        "colab": {
          "base_uri": "https://localhost:8080/",
          "height": 1000
        },
        "outputId": "b7ef3aae-7077-4fad-ee93-5e562815dfb6"
      },
      "source": [
        "histoYK = [[]]\n",
        "start(kIter=30, nbEpoch=200, filePath=\"resnetCifarTT_MINMAX_PGD31\", TT=True) "
      ],
      "execution_count": null,
      "outputs": [
        {
          "output_type": "stream",
          "text": [
            "Downloading data from https://www.cs.toronto.edu/~kriz/cifar-100-python.tar.gz\n",
            "169009152/169001437 [==============================] - 2s 0us/step\n",
            "WARNING:tensorflow:From /tensorflow-1.15.2/python3.6/tensorflow_core/python/ops/resource_variable_ops.py:1630: calling BaseResourceVariable.__init__ (from tensorflow.python.ops.resource_variable_ops) with constraint is deprecated and will be removed in a future version.\n",
            "Instructions for updating:\n",
            "If using Keras pass *_constraint arguments to layers.\n",
            "WARNING:tensorflow:From /tensorflow-1.15.2/python3.6/keras/backend/tensorflow_backend.py:4070: The name tf.nn.max_pool is deprecated. Please use tf.nn.max_pool2d instead.\n",
            "\n"
          ],
          "name": "stdout"
        },
        {
          "output_type": "stream",
          "text": [
            "/tensorflow-1.15.2/python3.6/keras/engine/saving.py:165: UserWarning: TensorFlow optimizers do not make it possible to access optimizer attributes or optimizer state after instantiation. As a result, we cannot save the optimizer as part of the model save file.You will have to compile your model again after loading it. Prefer using a Keras optimizer instead (see keras.io/optimizers).\n",
            "  'TensorFlow optimizers do not '\n",
            "/tensorflow-1.15.2/python3.6/keras/engine/saving.py:341: UserWarning: No training configuration found in save file: the model was *not* compiled. Compile it manually.\n",
            "  warnings.warn('No training configuration found in save file: '\n"
          ],
          "name": "stderr"
        },
        {
          "output_type": "stream",
          "text": [
            "17:51 >>> Train F0\n",
            "WARNING:tensorflow:From /tensorflow-1.15.2/python3.6/keras/backend/tensorflow_backend.py:422: The name tf.global_variables is deprecated. Please use tf.compat.v1.global_variables instead.\n",
            "\n",
            "WARNING:tensorflow:From /tensorflow-1.15.2/python3.6/keras/backend/tensorflow_backend.py:431: The name tf.is_variable_initialized is deprecated. Please use tf.compat.v1.is_variable_initialized instead.\n",
            "\n",
            "WARNING:tensorflow:From /tensorflow-1.15.2/python3.6/keras/backend/tensorflow_backend.py:438: The name tf.variables_initializer is deprecated. Please use tf.compat.v1.variables_initializer instead.\n",
            "\n",
            "Epoch 1/200\n",
            "1000/1000 [==============================] - 10s 10ms/step - loss: 0.2383 - accuracy: 0.6260\n",
            "Epoch 2/200\n",
            "1000/1000 [==============================] - 0s 162us/step - loss: 0.0956 - accuracy: 0.8760\n",
            "Epoch 3/200\n",
            "1000/1000 [==============================] - 0s 157us/step - loss: 0.0491 - accuracy: 0.9410\n",
            "Epoch 4/200\n",
            "1000/1000 [==============================] - 0s 157us/step - loss: 0.0347 - accuracy: 0.9590\n",
            "Epoch 5/200\n",
            "1000/1000 [==============================] - 0s 160us/step - loss: 0.0206 - accuracy: 0.9810\n",
            "Epoch 6/200\n",
            "1000/1000 [==============================] - 0s 156us/step - loss: 0.0152 - accuracy: 0.9850\n",
            "Epoch 7/200\n",
            "1000/1000 [==============================] - 0s 156us/step - loss: 0.0094 - accuracy: 0.9890\n",
            "Epoch 8/200\n",
            "1000/1000 [==============================] - 0s 159us/step - loss: 0.0049 - accuracy: 0.9950\n",
            "Epoch 9/200\n",
            "1000/1000 [==============================] - 0s 156us/step - loss: 0.0030 - accuracy: 0.9980\n",
            "Epoch 10/200\n",
            "1000/1000 [==============================] - 0s 161us/step - loss: 0.0021 - accuracy: 0.9990\n",
            "Epoch 11/200\n",
            "1000/1000 [==============================] - 0s 159us/step - loss: 0.0012 - accuracy: 0.9990\n",
            "Epoch 12/200\n",
            "1000/1000 [==============================] - 0s 157us/step - loss: 5.7755e-04 - accuracy: 1.0000\n",
            "Epoch 13/200\n",
            "1000/1000 [==============================] - 0s 159us/step - loss: 3.8925e-04 - accuracy: 1.0000\n",
            "Epoch 14/200\n",
            "1000/1000 [==============================] - 0s 158us/step - loss: 2.4469e-04 - accuracy: 1.0000\n",
            "Epoch 15/200\n",
            "1000/1000 [==============================] - 0s 156us/step - loss: 2.6759e-04 - accuracy: 1.0000\n",
            "Epoch 16/200\n",
            "1000/1000 [==============================] - 0s 157us/step - loss: 2.2509e-04 - accuracy: 1.0000\n",
            "Epoch 17/200\n",
            "1000/1000 [==============================] - 0s 157us/step - loss: 1.5730e-04 - accuracy: 1.0000\n",
            "Epoch 18/200\n",
            "1000/1000 [==============================] - 0s 157us/step - loss: 1.5454e-04 - accuracy: 1.0000\n",
            "Epoch 19/200\n",
            "1000/1000 [==============================] - 0s 155us/step - loss: 1.7720e-04 - accuracy: 1.0000\n",
            "Epoch 20/200\n",
            "1000/1000 [==============================] - 0s 160us/step - loss: 1.6471e-04 - accuracy: 1.0000\n",
            "Epoch 21/200\n",
            "1000/1000 [==============================] - 0s 157us/step - loss: 9.9565e-05 - accuracy: 1.0000\n",
            "Epoch 22/200\n",
            "1000/1000 [==============================] - 0s 159us/step - loss: 9.7548e-05 - accuracy: 1.0000\n",
            "Epoch 23/200\n",
            "1000/1000 [==============================] - 0s 160us/step - loss: 1.0368e-04 - accuracy: 1.0000\n",
            "Epoch 24/200\n",
            "1000/1000 [==============================] - 0s 160us/step - loss: 9.9732e-05 - accuracy: 1.0000\n",
            "Epoch 25/200\n",
            "1000/1000 [==============================] - 0s 158us/step - loss: 1.0098e-04 - accuracy: 1.0000\n",
            "Epoch 26/200\n",
            "1000/1000 [==============================] - 0s 162us/step - loss: 8.7491e-05 - accuracy: 1.0000\n",
            "Epoch 27/200\n",
            "1000/1000 [==============================] - 0s 156us/step - loss: 8.8353e-05 - accuracy: 1.0000\n",
            "Epoch 28/200\n",
            "1000/1000 [==============================] - 0s 159us/step - loss: 1.1984e-04 - accuracy: 1.0000\n",
            "Epoch 29/200\n",
            "1000/1000 [==============================] - 0s 161us/step - loss: 7.3949e-05 - accuracy: 1.0000\n",
            "Epoch 30/200\n",
            "1000/1000 [==============================] - 0s 160us/step - loss: 5.8479e-05 - accuracy: 1.0000\n",
            "Epoch 31/200\n",
            "1000/1000 [==============================] - 0s 156us/step - loss: 6.7152e-05 - accuracy: 1.0000\n",
            "Epoch 32/200\n",
            "1000/1000 [==============================] - 0s 158us/step - loss: 9.1046e-05 - accuracy: 1.0000\n",
            "Epoch 33/200\n",
            "1000/1000 [==============================] - 0s 158us/step - loss: 7.7286e-05 - accuracy: 1.0000\n",
            "Epoch 34/200\n",
            "1000/1000 [==============================] - 0s 157us/step - loss: 5.1505e-05 - accuracy: 1.0000\n",
            "Epoch 35/200\n",
            "1000/1000 [==============================] - 0s 159us/step - loss: 5.0929e-05 - accuracy: 1.0000\n",
            "Epoch 36/200\n",
            "1000/1000 [==============================] - 0s 159us/step - loss: 5.5169e-05 - accuracy: 1.0000\n",
            "Epoch 37/200\n",
            "1000/1000 [==============================] - 0s 157us/step - loss: 5.5482e-05 - accuracy: 1.0000\n",
            "Epoch 38/200\n",
            "1000/1000 [==============================] - 0s 157us/step - loss: 8.2990e-05 - accuracy: 1.0000\n",
            "Epoch 39/200\n",
            "1000/1000 [==============================] - 0s 157us/step - loss: 5.6632e-05 - accuracy: 1.0000\n",
            "Epoch 40/200\n",
            "1000/1000 [==============================] - 0s 157us/step - loss: 4.1331e-05 - accuracy: 1.0000\n",
            "Epoch 41/200\n",
            "1000/1000 [==============================] - 0s 158us/step - loss: 5.0767e-05 - accuracy: 1.0000\n",
            "Epoch 42/200\n",
            "1000/1000 [==============================] - 0s 158us/step - loss: 5.6271e-05 - accuracy: 1.0000\n",
            "Epoch 43/200\n",
            "1000/1000 [==============================] - 0s 161us/step - loss: 4.4868e-05 - accuracy: 1.0000\n",
            "Epoch 44/200\n",
            "1000/1000 [==============================] - 0s 156us/step - loss: 3.6706e-05 - accuracy: 1.0000\n",
            "Epoch 45/200\n",
            "1000/1000 [==============================] - 0s 158us/step - loss: 3.6757e-05 - accuracy: 1.0000\n",
            "Epoch 46/200\n",
            "1000/1000 [==============================] - 0s 158us/step - loss: 4.0227e-05 - accuracy: 1.0000\n",
            "Epoch 47/200\n",
            "1000/1000 [==============================] - 0s 157us/step - loss: 4.3679e-05 - accuracy: 1.0000\n",
            "Epoch 48/200\n",
            "1000/1000 [==============================] - 0s 159us/step - loss: 3.4980e-05 - accuracy: 1.0000\n",
            "Epoch 49/200\n",
            "1000/1000 [==============================] - 0s 159us/step - loss: 3.1096e-05 - accuracy: 1.0000\n",
            "Epoch 50/200\n",
            "1000/1000 [==============================] - 0s 155us/step - loss: 3.1270e-05 - accuracy: 1.0000\n",
            "Epoch 51/200\n",
            "1000/1000 [==============================] - 0s 158us/step - loss: 5.1623e-05 - accuracy: 1.0000\n",
            "Epoch 52/200\n",
            "1000/1000 [==============================] - 0s 157us/step - loss: 3.4547e-05 - accuracy: 1.0000\n",
            "Epoch 53/200\n",
            "1000/1000 [==============================] - 0s 156us/step - loss: 4.6442e-05 - accuracy: 1.0000\n",
            "Epoch 54/200\n",
            "1000/1000 [==============================] - 0s 159us/step - loss: 3.1674e-05 - accuracy: 1.0000\n",
            "Epoch 55/200\n",
            "1000/1000 [==============================] - 0s 160us/step - loss: 5.2962e-05 - accuracy: 1.0000\n",
            "Epoch 56/200\n",
            "1000/1000 [==============================] - 0s 157us/step - loss: 4.2367e-05 - accuracy: 1.0000\n",
            "Epoch 57/200\n",
            "1000/1000 [==============================] - 0s 156us/step - loss: 2.7237e-05 - accuracy: 1.0000\n",
            "Epoch 58/200\n",
            "1000/1000 [==============================] - 0s 158us/step - loss: 3.0113e-05 - accuracy: 1.0000\n",
            "Epoch 59/200\n",
            "1000/1000 [==============================] - 0s 158us/step - loss: 3.0890e-05 - accuracy: 1.0000\n",
            "Epoch 60/200\n",
            "1000/1000 [==============================] - 0s 156us/step - loss: 4.3731e-05 - accuracy: 1.0000\n",
            "Epoch 61/200\n",
            "1000/1000 [==============================] - 0s 156us/step - loss: 3.2037e-05 - accuracy: 1.0000\n",
            "Epoch 62/200\n",
            "1000/1000 [==============================] - 0s 156us/step - loss: 3.0976e-05 - accuracy: 1.0000\n",
            "Epoch 63/200\n",
            "1000/1000 [==============================] - 0s 156us/step - loss: 2.7019e-05 - accuracy: 1.0000\n",
            "Epoch 64/200\n",
            "1000/1000 [==============================] - 0s 157us/step - loss: 2.9558e-05 - accuracy: 1.0000\n",
            "Epoch 65/200\n",
            "1000/1000 [==============================] - 0s 156us/step - loss: 2.8365e-05 - accuracy: 1.0000\n",
            "Epoch 66/200\n",
            "1000/1000 [==============================] - 0s 156us/step - loss: 4.1995e-05 - accuracy: 1.0000\n",
            "Epoch 67/200\n",
            "1000/1000 [==============================] - 0s 162us/step - loss: 2.4448e-05 - accuracy: 1.0000\n",
            "Epoch 68/200\n",
            "1000/1000 [==============================] - 0s 159us/step - loss: 2.7181e-05 - accuracy: 1.0000\n",
            "Epoch 69/200\n",
            "1000/1000 [==============================] - 0s 157us/step - loss: 2.2728e-05 - accuracy: 1.0000\n",
            "Epoch 70/200\n",
            "1000/1000 [==============================] - 0s 158us/step - loss: 2.7510e-05 - accuracy: 1.0000\n",
            "Epoch 71/200\n",
            "1000/1000 [==============================] - 0s 157us/step - loss: 2.5596e-05 - accuracy: 1.0000\n",
            "Epoch 72/200\n",
            "1000/1000 [==============================] - 0s 158us/step - loss: 1.8119e-05 - accuracy: 1.0000\n",
            "Epoch 73/200\n",
            "1000/1000 [==============================] - 0s 157us/step - loss: 2.2371e-05 - accuracy: 1.0000\n",
            "Epoch 74/200\n",
            "1000/1000 [==============================] - 0s 159us/step - loss: 1.7104e-05 - accuracy: 1.0000\n",
            "Epoch 75/200\n",
            "1000/1000 [==============================] - 0s 153us/step - loss: 1.8915e-05 - accuracy: 1.0000\n",
            "Epoch 76/200\n",
            "1000/1000 [==============================] - 0s 157us/step - loss: 2.2714e-05 - accuracy: 1.0000\n",
            "Epoch 77/200\n",
            "1000/1000 [==============================] - 0s 155us/step - loss: 1.7037e-05 - accuracy: 1.0000\n",
            "Epoch 78/200\n",
            "1000/1000 [==============================] - 0s 159us/step - loss: 1.6520e-05 - accuracy: 1.0000\n",
            "Epoch 79/200\n",
            "1000/1000 [==============================] - 0s 158us/step - loss: 2.0220e-05 - accuracy: 1.0000\n",
            "Epoch 80/200\n",
            "1000/1000 [==============================] - 0s 157us/step - loss: 2.5114e-05 - accuracy: 1.0000\n",
            "Epoch 81/200\n",
            "1000/1000 [==============================] - 0s 156us/step - loss: 1.9132e-05 - accuracy: 1.0000\n",
            "Epoch 82/200\n",
            "1000/1000 [==============================] - 0s 159us/step - loss: 2.2847e-05 - accuracy: 1.0000\n",
            "Epoch 83/200\n",
            "1000/1000 [==============================] - 0s 158us/step - loss: 2.2379e-05 - accuracy: 1.0000\n",
            "Epoch 84/200\n",
            "1000/1000 [==============================] - 0s 159us/step - loss: 2.0582e-05 - accuracy: 1.0000\n",
            "Epoch 85/200\n",
            "1000/1000 [==============================] - 0s 156us/step - loss: 3.7418e-05 - accuracy: 1.0000\n",
            "Epoch 86/200\n",
            "1000/1000 [==============================] - 0s 159us/step - loss: 2.5270e-05 - accuracy: 1.0000\n",
            "Epoch 87/200\n",
            "1000/1000 [==============================] - 0s 157us/step - loss: 2.1002e-05 - accuracy: 1.0000\n",
            "Epoch 88/200\n",
            "1000/1000 [==============================] - 0s 154us/step - loss: 2.0478e-05 - accuracy: 1.0000\n",
            "Epoch 89/200\n",
            "1000/1000 [==============================] - 0s 159us/step - loss: 1.4243e-05 - accuracy: 1.0000\n",
            "Epoch 90/200\n",
            "1000/1000 [==============================] - 0s 161us/step - loss: 1.3587e-05 - accuracy: 1.0000\n",
            "Epoch 91/200\n",
            "1000/1000 [==============================] - 0s 159us/step - loss: 1.3830e-05 - accuracy: 1.0000\n",
            "Epoch 92/200\n",
            "1000/1000 [==============================] - 0s 158us/step - loss: 1.3758e-05 - accuracy: 1.0000\n",
            "Epoch 93/200\n",
            "1000/1000 [==============================] - 0s 158us/step - loss: 1.8476e-05 - accuracy: 1.0000\n",
            "Epoch 94/200\n",
            "1000/1000 [==============================] - 0s 154us/step - loss: 1.2801e-05 - accuracy: 1.0000\n",
            "Epoch 95/200\n",
            "1000/1000 [==============================] - 0s 160us/step - loss: 1.8225e-05 - accuracy: 1.0000\n",
            "Epoch 96/200\n",
            "1000/1000 [==============================] - 0s 158us/step - loss: 1.8893e-05 - accuracy: 1.0000\n",
            "Epoch 97/200\n",
            "1000/1000 [==============================] - 0s 157us/step - loss: 1.3917e-05 - accuracy: 1.0000\n",
            "Epoch 98/200\n",
            "1000/1000 [==============================] - 0s 156us/step - loss: 2.2304e-05 - accuracy: 1.0000\n",
            "Epoch 99/200\n",
            "1000/1000 [==============================] - 0s 158us/step - loss: 1.1334e-05 - accuracy: 1.0000\n",
            "Epoch 100/200\n",
            "1000/1000 [==============================] - 0s 158us/step - loss: 1.3081e-05 - accuracy: 1.0000\n",
            "Epoch 101/200\n",
            "1000/1000 [==============================] - 0s 162us/step - loss: 1.0022e-05 - accuracy: 1.0000\n",
            "Epoch 102/200\n",
            "1000/1000 [==============================] - 0s 161us/step - loss: 1.3027e-05 - accuracy: 1.0000\n",
            "Epoch 103/200\n",
            "1000/1000 [==============================] - 0s 155us/step - loss: 1.5643e-05 - accuracy: 1.0000\n",
            "Epoch 104/200\n",
            "1000/1000 [==============================] - 0s 160us/step - loss: 3.4584e-05 - accuracy: 1.0000\n",
            "Epoch 105/200\n",
            "1000/1000 [==============================] - 0s 161us/step - loss: 1.2216e-05 - accuracy: 1.0000\n",
            "Epoch 106/200\n",
            "1000/1000 [==============================] - 0s 155us/step - loss: 1.1602e-05 - accuracy: 1.0000\n",
            "Epoch 107/200\n",
            "1000/1000 [==============================] - 0s 166us/step - loss: 1.1180e-05 - accuracy: 1.0000\n",
            "Epoch 108/200\n",
            "1000/1000 [==============================] - 0s 158us/step - loss: 9.2746e-06 - accuracy: 1.0000\n",
            "Epoch 109/200\n",
            "1000/1000 [==============================] - 0s 155us/step - loss: 9.8812e-06 - accuracy: 1.0000\n",
            "Epoch 110/200\n",
            "1000/1000 [==============================] - 0s 157us/step - loss: 1.0597e-05 - accuracy: 1.0000\n",
            "Epoch 111/200\n",
            "1000/1000 [==============================] - 0s 159us/step - loss: 1.4167e-05 - accuracy: 1.0000\n",
            "Epoch 112/200\n",
            "1000/1000 [==============================] - 0s 156us/step - loss: 1.1403e-05 - accuracy: 1.0000\n",
            "Epoch 113/200\n",
            "1000/1000 [==============================] - 0s 159us/step - loss: 1.2394e-05 - accuracy: 1.0000\n",
            "Epoch 114/200\n",
            "1000/1000 [==============================] - 0s 157us/step - loss: 1.7569e-05 - accuracy: 1.0000\n",
            "Epoch 115/200\n",
            "1000/1000 [==============================] - 0s 157us/step - loss: 1.7167e-05 - accuracy: 1.0000\n",
            "Epoch 116/200\n",
            "1000/1000 [==============================] - 0s 158us/step - loss: 9.8394e-06 - accuracy: 1.0000\n",
            "Epoch 117/200\n",
            "1000/1000 [==============================] - 0s 158us/step - loss: 2.5094e-05 - accuracy: 1.0000\n",
            "Epoch 118/200\n",
            "1000/1000 [==============================] - 0s 159us/step - loss: 1.2844e-05 - accuracy: 1.0000\n",
            "Epoch 119/200\n",
            "1000/1000 [==============================] - 0s 159us/step - loss: 9.3021e-06 - accuracy: 1.0000\n",
            "Epoch 120/200\n",
            "1000/1000 [==============================] - 0s 159us/step - loss: 1.1758e-05 - accuracy: 1.0000\n",
            "Epoch 121/200\n",
            "1000/1000 [==============================] - 0s 161us/step - loss: 1.4530e-05 - accuracy: 1.0000\n",
            "Epoch 122/200\n",
            "1000/1000 [==============================] - 0s 158us/step - loss: 1.5424e-05 - accuracy: 1.0000\n",
            "Epoch 123/200\n",
            "1000/1000 [==============================] - 0s 164us/step - loss: 1.3415e-05 - accuracy: 1.0000\n",
            "Epoch 124/200\n",
            "1000/1000 [==============================] - 0s 159us/step - loss: 1.2605e-05 - accuracy: 1.0000\n",
            "Epoch 125/200\n",
            "1000/1000 [==============================] - 0s 158us/step - loss: 1.2571e-05 - accuracy: 1.0000\n",
            "Epoch 126/200\n",
            "1000/1000 [==============================] - 0s 158us/step - loss: 8.5259e-06 - accuracy: 1.0000\n",
            "Epoch 127/200\n",
            "1000/1000 [==============================] - 0s 156us/step - loss: 1.0920e-05 - accuracy: 1.0000\n",
            "Epoch 128/200\n",
            "1000/1000 [==============================] - 0s 155us/step - loss: 1.1564e-05 - accuracy: 1.0000\n",
            "Epoch 129/200\n",
            "1000/1000 [==============================] - 0s 158us/step - loss: 9.0474e-06 - accuracy: 1.0000\n",
            "Epoch 130/200\n",
            "1000/1000 [==============================] - 0s 162us/step - loss: 7.3454e-06 - accuracy: 1.0000\n",
            "Epoch 131/200\n",
            "1000/1000 [==============================] - 0s 159us/step - loss: 7.5157e-06 - accuracy: 1.0000\n",
            "Epoch 132/200\n",
            "1000/1000 [==============================] - 0s 161us/step - loss: 9.3325e-06 - accuracy: 1.0000\n",
            "Epoch 133/200\n",
            "1000/1000 [==============================] - 0s 156us/step - loss: 7.6571e-06 - accuracy: 1.0000\n",
            "Epoch 134/200\n",
            "1000/1000 [==============================] - 0s 156us/step - loss: 1.0267e-05 - accuracy: 1.0000\n",
            "Epoch 135/200\n",
            "1000/1000 [==============================] - 0s 159us/step - loss: 9.0439e-06 - accuracy: 1.0000\n",
            "Epoch 136/200\n",
            "1000/1000 [==============================] - 0s 158us/step - loss: 8.6190e-06 - accuracy: 1.0000\n",
            "Epoch 137/200\n",
            "1000/1000 [==============================] - 0s 156us/step - loss: 6.1617e-06 - accuracy: 1.0000\n",
            "Epoch 138/200\n",
            "1000/1000 [==============================] - 0s 159us/step - loss: 6.7239e-06 - accuracy: 1.0000\n",
            "Epoch 139/200\n",
            "1000/1000 [==============================] - 0s 159us/step - loss: 6.7480e-06 - accuracy: 1.0000\n",
            "Epoch 140/200\n",
            "1000/1000 [==============================] - 0s 157us/step - loss: 6.5148e-06 - accuracy: 1.0000\n",
            "Epoch 141/200\n",
            "1000/1000 [==============================] - 0s 158us/step - loss: 7.2952e-06 - accuracy: 1.0000\n",
            "Epoch 142/200\n",
            "1000/1000 [==============================] - 0s 157us/step - loss: 8.2081e-06 - accuracy: 1.0000\n",
            "Epoch 143/200\n",
            "1000/1000 [==============================] - 0s 159us/step - loss: 8.1824e-06 - accuracy: 1.0000\n",
            "Epoch 144/200\n",
            "1000/1000 [==============================] - 0s 160us/step - loss: 5.7260e-06 - accuracy: 1.0000\n",
            "Epoch 145/200\n",
            "1000/1000 [==============================] - 0s 162us/step - loss: 6.8124e-06 - accuracy: 1.0000\n",
            "Epoch 146/200\n",
            "1000/1000 [==============================] - 0s 157us/step - loss: 8.6921e-06 - accuracy: 1.0000\n",
            "Epoch 147/200\n",
            "1000/1000 [==============================] - 0s 158us/step - loss: 1.1103e-05 - accuracy: 1.0000\n",
            "Epoch 148/200\n",
            "1000/1000 [==============================] - 0s 159us/step - loss: 8.6474e-06 - accuracy: 1.0000\n",
            "Epoch 149/200\n",
            "1000/1000 [==============================] - 0s 159us/step - loss: 7.9758e-06 - accuracy: 1.0000\n",
            "Epoch 150/200\n",
            "1000/1000 [==============================] - 0s 158us/step - loss: 7.4438e-06 - accuracy: 1.0000\n",
            "Epoch 151/200\n",
            "1000/1000 [==============================] - 0s 158us/step - loss: 6.1060e-06 - accuracy: 1.0000\n",
            "Epoch 152/200\n",
            "1000/1000 [==============================] - 0s 168us/step - loss: 5.2299e-06 - accuracy: 1.0000\n",
            "Epoch 153/200\n",
            "1000/1000 [==============================] - 0s 157us/step - loss: 5.7088e-06 - accuracy: 1.0000\n",
            "Epoch 154/200\n",
            "1000/1000 [==============================] - 0s 157us/step - loss: 5.5232e-06 - accuracy: 1.0000\n",
            "Epoch 155/200\n",
            "1000/1000 [==============================] - 0s 163us/step - loss: 1.0904e-05 - accuracy: 1.0000\n",
            "Epoch 156/200\n",
            "1000/1000 [==============================] - 0s 163us/step - loss: 6.3362e-06 - accuracy: 1.0000\n",
            "Epoch 157/200\n",
            "1000/1000 [==============================] - 0s 155us/step - loss: 5.6927e-06 - accuracy: 1.0000\n",
            "Epoch 158/200\n",
            "1000/1000 [==============================] - 0s 155us/step - loss: 5.8742e-06 - accuracy: 1.0000\n",
            "Epoch 159/200\n",
            "1000/1000 [==============================] - 0s 156us/step - loss: 6.0340e-06 - accuracy: 1.0000\n",
            "Epoch 160/200\n",
            "1000/1000 [==============================] - 0s 157us/step - loss: 5.4294e-06 - accuracy: 1.0000\n",
            "Epoch 161/200\n",
            "1000/1000 [==============================] - 0s 158us/step - loss: 5.1403e-06 - accuracy: 1.0000\n",
            "Epoch 162/200\n",
            "1000/1000 [==============================] - 0s 160us/step - loss: 8.6805e-06 - accuracy: 1.0000\n",
            "Epoch 163/200\n",
            "1000/1000 [==============================] - 0s 160us/step - loss: 6.2249e-06 - accuracy: 1.0000\n",
            "Epoch 164/200\n",
            "1000/1000 [==============================] - 0s 157us/step - loss: 1.5042e-05 - accuracy: 1.0000\n",
            "Epoch 165/200\n",
            "1000/1000 [==============================] - 0s 156us/step - loss: 4.9423e-06 - accuracy: 1.0000\n",
            "Epoch 166/200\n",
            "1000/1000 [==============================] - 0s 155us/step - loss: 7.1834e-06 - accuracy: 1.0000\n",
            "Epoch 167/200\n",
            "1000/1000 [==============================] - 0s 160us/step - loss: 1.2617e-05 - accuracy: 1.0000\n",
            "Epoch 168/200\n",
            "1000/1000 [==============================] - 0s 159us/step - loss: 6.6892e-06 - accuracy: 1.0000\n",
            "Epoch 169/200\n",
            "1000/1000 [==============================] - 0s 161us/step - loss: 7.4580e-06 - accuracy: 1.0000\n",
            "Epoch 170/200\n",
            "1000/1000 [==============================] - 0s 154us/step - loss: 5.7114e-06 - accuracy: 1.0000\n",
            "Epoch 171/200\n",
            "1000/1000 [==============================] - 0s 155us/step - loss: 5.8227e-06 - accuracy: 1.0000\n",
            "Epoch 172/200\n",
            "1000/1000 [==============================] - 0s 157us/step - loss: 5.6715e-06 - accuracy: 1.0000\n",
            "Epoch 173/200\n",
            "1000/1000 [==============================] - 0s 157us/step - loss: 7.1985e-06 - accuracy: 1.0000\n",
            "Epoch 174/200\n",
            "1000/1000 [==============================] - 0s 158us/step - loss: 1.4570e-05 - accuracy: 1.0000\n",
            "Epoch 175/200\n",
            "1000/1000 [==============================] - 0s 158us/step - loss: 9.3802e-06 - accuracy: 1.0000\n",
            "Epoch 176/200\n",
            "1000/1000 [==============================] - 0s 156us/step - loss: 5.4618e-06 - accuracy: 1.0000\n",
            "Epoch 177/200\n",
            "1000/1000 [==============================] - 0s 154us/step - loss: 4.3513e-06 - accuracy: 1.0000\n",
            "Epoch 178/200\n",
            "1000/1000 [==============================] - 0s 157us/step - loss: 5.0833e-06 - accuracy: 1.0000\n",
            "Epoch 179/200\n",
            "1000/1000 [==============================] - 0s 156us/step - loss: 4.9512e-06 - accuracy: 1.0000\n",
            "Epoch 180/200\n",
            "1000/1000 [==============================] - 0s 161us/step - loss: 6.8351e-06 - accuracy: 1.0000\n",
            "Epoch 181/200\n",
            "1000/1000 [==============================] - 0s 161us/step - loss: 4.1233e-06 - accuracy: 1.0000\n",
            "Epoch 182/200\n",
            "1000/1000 [==============================] - 0s 160us/step - loss: 6.4655e-06 - accuracy: 1.0000\n",
            "Epoch 183/200\n",
            "1000/1000 [==============================] - 0s 155us/step - loss: 5.2398e-06 - accuracy: 1.0000\n",
            "Epoch 184/200\n",
            "1000/1000 [==============================] - 0s 160us/step - loss: 4.0836e-06 - accuracy: 1.0000\n",
            "Epoch 185/200\n",
            "1000/1000 [==============================] - 0s 157us/step - loss: 4.4112e-06 - accuracy: 1.0000\n",
            "Epoch 186/200\n",
            "1000/1000 [==============================] - 0s 158us/step - loss: 4.3556e-06 - accuracy: 1.0000\n",
            "Epoch 187/200\n",
            "1000/1000 [==============================] - 0s 154us/step - loss: 5.6916e-06 - accuracy: 1.0000\n",
            "Epoch 188/200\n",
            "1000/1000 [==============================] - 0s 159us/step - loss: 4.6675e-06 - accuracy: 1.0000\n",
            "Epoch 189/200\n",
            "1000/1000 [==============================] - 0s 155us/step - loss: 7.1579e-06 - accuracy: 1.0000\n",
            "Epoch 190/200\n",
            "1000/1000 [==============================] - 0s 155us/step - loss: 8.9939e-06 - accuracy: 1.0000\n",
            "Epoch 191/200\n",
            "1000/1000 [==============================] - 0s 158us/step - loss: 3.2932e-06 - accuracy: 1.0000\n",
            "Epoch 192/200\n",
            "1000/1000 [==============================] - 0s 157us/step - loss: 6.9786e-06 - accuracy: 1.0000\n",
            "Epoch 193/200\n",
            "1000/1000 [==============================] - 0s 158us/step - loss: 9.0282e-06 - accuracy: 1.0000\n",
            "Epoch 194/200\n",
            "1000/1000 [==============================] - 0s 156us/step - loss: 3.7777e-06 - accuracy: 1.0000\n",
            "Epoch 195/200\n",
            "1000/1000 [==============================] - 0s 155us/step - loss: 5.8702e-06 - accuracy: 1.0000\n",
            "Epoch 196/200\n",
            "1000/1000 [==============================] - 0s 155us/step - loss: 4.1935e-06 - accuracy: 1.0000\n",
            "Epoch 197/200\n",
            "1000/1000 [==============================] - 0s 156us/step - loss: 5.8802e-06 - accuracy: 1.0000\n",
            "Epoch 198/200\n",
            "1000/1000 [==============================] - 0s 156us/step - loss: 6.0724e-06 - accuracy: 1.0000\n",
            "Epoch 199/200\n",
            "1000/1000 [==============================] - 0s 162us/step - loss: 4.4490e-06 - accuracy: 1.0000\n",
            "Epoch 200/200\n",
            "1000/1000 [==============================] - 0s 158us/step - loss: 3.7132e-06 - accuracy: 1.0000\n"
          ],
          "name": "stdout"
        },
        {
          "output_type": "error",
          "ename": "AttributeError",
          "evalue": "ignored",
          "traceback": [
            "\u001b[0;31m---------------------------------------------------------------------------\u001b[0m",
            "\u001b[0;31mAttributeError\u001b[0m                            Traceback (most recent call last)",
            "\u001b[0;32m<ipython-input-11-df6d12f1554c>\u001b[0m in \u001b[0;36m<module>\u001b[0;34m()\u001b[0m\n\u001b[1;32m      1\u001b[0m \u001b[0mhistoYK\u001b[0m \u001b[0;34m=\u001b[0m \u001b[0;34m[\u001b[0m\u001b[0;34m[\u001b[0m\u001b[0;34m]\u001b[0m\u001b[0;34m]\u001b[0m\u001b[0;34m\u001b[0m\u001b[0;34m\u001b[0m\u001b[0m\n\u001b[0;32m----> 2\u001b[0;31m \u001b[0mstart\u001b[0m\u001b[0;34m(\u001b[0m\u001b[0mkIter\u001b[0m\u001b[0;34m=\u001b[0m\u001b[0;36m30\u001b[0m\u001b[0;34m,\u001b[0m \u001b[0mnbEpoch\u001b[0m\u001b[0;34m=\u001b[0m\u001b[0;36m200\u001b[0m\u001b[0;34m,\u001b[0m \u001b[0mfilePath\u001b[0m\u001b[0;34m=\u001b[0m\u001b[0;34m\"resnetCifarTT_MINMAX_PGD31\"\u001b[0m\u001b[0;34m,\u001b[0m \u001b[0mTT\u001b[0m\u001b[0;34m=\u001b[0m\u001b[0;32mTrue\u001b[0m\u001b[0;34m)\u001b[0m\u001b[0;34m\u001b[0m\u001b[0;34m\u001b[0m\u001b[0m\n\u001b[0m",
            "\u001b[0;32m<ipython-input-9-90e9f4aec586>\u001b[0m in \u001b[0;36mstart\u001b[0;34m(kIter, nbEpoch, batchSize, filePath, TT)\u001b[0m\n\u001b[1;32m     35\u001b[0m \u001b[0;34m\u001b[0m\u001b[0m\n\u001b[1;32m     36\u001b[0m     \u001b[0mattack\u001b[0m \u001b[0;34m=\u001b[0m \u001b[0mfoolbox\u001b[0m\u001b[0;34m.\u001b[0m\u001b[0mattacks\u001b[0m\u001b[0;34m.\u001b[0m\u001b[0mL2BasicIterativeAttack\u001b[0m\u001b[0;34m(\u001b[0m\u001b[0mtheClassifieurs\u001b[0m\u001b[0;34m[\u001b[0m\u001b[0;36m0\u001b[0m\u001b[0;34m]\u001b[0m\u001b[0;34m,\u001b[0m \u001b[0mdistance\u001b[0m\u001b[0;34m=\u001b[0m\u001b[0mfoolbox\u001b[0m\u001b[0;34m.\u001b[0m\u001b[0mdistances\u001b[0m\u001b[0;34m.\u001b[0m\u001b[0mMeanSquaredDistance\u001b[0m\u001b[0;34m)\u001b[0m\u001b[0;34m\u001b[0m\u001b[0;34m\u001b[0m\u001b[0m\n\u001b[0;32m---> 37\u001b[0;31m     \u001b[0mtest0\u001b[0m \u001b[0;34m=\u001b[0m \u001b[0mattack\u001b[0m\u001b[0;34m(\u001b[0m\u001b[0mimage\u001b[0m\u001b[0;34m,\u001b[0m \u001b[0mlabelf\u001b[0m\u001b[0;34m,\u001b[0m \u001b[0mstepsize\u001b[0m\u001b[0;34m=\u001b[0m\u001b[0;36m0.06\u001b[0m\u001b[0;34m,\u001b[0m \u001b[0miterations\u001b[0m\u001b[0;34m=\u001b[0m\u001b[0;36m200\u001b[0m\u001b[0;34m,\u001b[0m \u001b[0mreturn_early\u001b[0m\u001b[0;34m=\u001b[0m\u001b[0;32mTrue\u001b[0m\u001b[0;34m,\u001b[0m \u001b[0mrandom_start\u001b[0m\u001b[0;34m=\u001b[0m\u001b[0;32mTrue\u001b[0m\u001b[0;34m)\u001b[0m\u001b[0;34m\u001b[0m\u001b[0;34m\u001b[0m\u001b[0m\n\u001b[0m\u001b[1;32m     38\u001b[0m     \u001b[0meqm\u001b[0m  \u001b[0;34m=\u001b[0m \u001b[0mtf\u001b[0m\u001b[0;34m.\u001b[0m\u001b[0mkeras\u001b[0m\u001b[0;34m.\u001b[0m\u001b[0mlosses\u001b[0m\u001b[0;34m.\u001b[0m\u001b[0mMSE\u001b[0m\u001b[0;34m(\u001b[0m\u001b[0mimage\u001b[0m\u001b[0;34m/\u001b[0m\u001b[0;36m255\u001b[0m\u001b[0;34m,\u001b[0m\u001b[0mtest0\u001b[0m\u001b[0;34m/\u001b[0m\u001b[0;36m255\u001b[0m\u001b[0;34m)\u001b[0m\u001b[0;34m\u001b[0m\u001b[0;34m\u001b[0m\u001b[0m\n\u001b[1;32m     39\u001b[0m     \u001b[0mprint\u001b[0m\u001b[0;34m(\u001b[0m\u001b[0msess\u001b[0m\u001b[0;34m.\u001b[0m\u001b[0mrun\u001b[0m\u001b[0;34m(\u001b[0m\u001b[0meqm\u001b[0m\u001b[0;34m)\u001b[0m\u001b[0;34m.\u001b[0m\u001b[0mmean\u001b[0m\u001b[0;34m(\u001b[0m\u001b[0;34m)\u001b[0m\u001b[0;34m)\u001b[0m\u001b[0;34m\u001b[0m\u001b[0;34m\u001b[0m\u001b[0m\n",
            "\u001b[0;32m/usr/local/lib/python3.6/dist-packages/foolbox/attacks/base.py\u001b[0m in \u001b[0;36m__call__\u001b[0;34m(self, inputs, labels, unpack, individual_kwargs, **kwargs)\u001b[0m\n\u001b[1;32m     50\u001b[0m             \u001b[0mthreshold\u001b[0m\u001b[0;34m=\u001b[0m\u001b[0mthreshold\u001b[0m\u001b[0;34m,\u001b[0m\u001b[0;34m\u001b[0m\u001b[0;34m\u001b[0m\u001b[0m\n\u001b[1;32m     51\u001b[0m             \u001b[0mindividual_kwargs\u001b[0m\u001b[0;34m=\u001b[0m\u001b[0mindividual_kwargs\u001b[0m\u001b[0;34m,\u001b[0m\u001b[0;34m\u001b[0m\u001b[0;34m\u001b[0m\u001b[0m\n\u001b[0;32m---> 52\u001b[0;31m             \u001b[0;34m**\u001b[0m\u001b[0mkwargs\u001b[0m\u001b[0;34m,\u001b[0m\u001b[0;34m\u001b[0m\u001b[0;34m\u001b[0m\u001b[0m\n\u001b[0m\u001b[1;32m     53\u001b[0m         )\n\u001b[1;32m     54\u001b[0m \u001b[0;34m\u001b[0m\u001b[0m\n",
            "\u001b[0;32m/usr/local/lib/python3.6/dist-packages/foolbox/batching.py\u001b[0m in \u001b[0;36mrun_parallel\u001b[0;34m(create_attack_fn, model, criterion, inputs, labels, distance, threshold, verbose, individual_kwargs, **kwargs)\u001b[0m\n\u001b[1;32m    239\u001b[0m             \u001b[0mverbose\u001b[0m\u001b[0;34m=\u001b[0m\u001b[0mverbose\u001b[0m\u001b[0;34m,\u001b[0m\u001b[0;34m\u001b[0m\u001b[0;34m\u001b[0m\u001b[0m\n\u001b[1;32m    240\u001b[0m         )\n\u001b[0;32m--> 241\u001b[0;31m         \u001b[0;32mfor\u001b[0m \u001b[0m_criterion\u001b[0m\u001b[0;34m,\u001b[0m \u001b[0m_distance\u001b[0m\u001b[0;34m,\u001b[0m \u001b[0mx\u001b[0m\u001b[0;34m,\u001b[0m \u001b[0mlabel\u001b[0m \u001b[0;32min\u001b[0m \u001b[0mzip\u001b[0m\u001b[0;34m(\u001b[0m\u001b[0mcriterion\u001b[0m\u001b[0;34m,\u001b[0m \u001b[0mdistance\u001b[0m\u001b[0;34m,\u001b[0m \u001b[0minputs\u001b[0m\u001b[0;34m,\u001b[0m \u001b[0mlabels\u001b[0m\u001b[0;34m)\u001b[0m\u001b[0;34m\u001b[0m\u001b[0;34m\u001b[0m\u001b[0m\n\u001b[0m\u001b[1;32m    242\u001b[0m     ]\n\u001b[1;32m    243\u001b[0m     attacks = [\n",
            "\u001b[0;32m/usr/local/lib/python3.6/dist-packages/foolbox/batching.py\u001b[0m in \u001b[0;36m<listcomp>\u001b[0;34m(.0)\u001b[0m\n\u001b[1;32m    239\u001b[0m             \u001b[0mverbose\u001b[0m\u001b[0;34m=\u001b[0m\u001b[0mverbose\u001b[0m\u001b[0;34m,\u001b[0m\u001b[0;34m\u001b[0m\u001b[0;34m\u001b[0m\u001b[0m\n\u001b[1;32m    240\u001b[0m         )\n\u001b[0;32m--> 241\u001b[0;31m         \u001b[0;32mfor\u001b[0m \u001b[0m_criterion\u001b[0m\u001b[0;34m,\u001b[0m \u001b[0m_distance\u001b[0m\u001b[0;34m,\u001b[0m \u001b[0mx\u001b[0m\u001b[0;34m,\u001b[0m \u001b[0mlabel\u001b[0m \u001b[0;32min\u001b[0m \u001b[0mzip\u001b[0m\u001b[0;34m(\u001b[0m\u001b[0mcriterion\u001b[0m\u001b[0;34m,\u001b[0m \u001b[0mdistance\u001b[0m\u001b[0;34m,\u001b[0m \u001b[0minputs\u001b[0m\u001b[0;34m,\u001b[0m \u001b[0mlabels\u001b[0m\u001b[0;34m)\u001b[0m\u001b[0;34m\u001b[0m\u001b[0;34m\u001b[0m\u001b[0m\n\u001b[0m\u001b[1;32m    242\u001b[0m     ]\n\u001b[1;32m    243\u001b[0m     attacks = [\n",
            "\u001b[0;32m/usr/local/lib/python3.6/dist-packages/foolbox/v1/adversarial.py\u001b[0m in \u001b[0;36m__init__\u001b[0;34m(self, model, criterion, unperturbed, original_class, distance, threshold, verbose)\u001b[0m\n\u001b[1;32m     88\u001b[0m \u001b[0;34m\u001b[0m\u001b[0m\n\u001b[1;32m     89\u001b[0m         \u001b[0;31m# check if the original input is already adversarial\u001b[0m\u001b[0;34m\u001b[0m\u001b[0;34m\u001b[0m\u001b[0;34m\u001b[0m\u001b[0m\n\u001b[0;32m---> 90\u001b[0;31m         \u001b[0mself\u001b[0m\u001b[0;34m.\u001b[0m\u001b[0m_check_unperturbed\u001b[0m\u001b[0;34m(\u001b[0m\u001b[0;34m)\u001b[0m\u001b[0;34m\u001b[0m\u001b[0;34m\u001b[0m\u001b[0m\n\u001b[0m\u001b[1;32m     91\u001b[0m \u001b[0;34m\u001b[0m\u001b[0m\n\u001b[1;32m     92\u001b[0m     \u001b[0;32mdef\u001b[0m \u001b[0m_check_unperturbed\u001b[0m\u001b[0;34m(\u001b[0m\u001b[0mself\u001b[0m\u001b[0;34m)\u001b[0m\u001b[0;34m:\u001b[0m\u001b[0;34m\u001b[0m\u001b[0;34m\u001b[0m\u001b[0m\n",
            "\u001b[0;32m/usr/local/lib/python3.6/dist-packages/foolbox/adversarial.py\u001b[0m in \u001b[0;36m_check_unperturbed\u001b[0;34m(self)\u001b[0m\n\u001b[1;32m     15\u001b[0m             \u001b[0;31m# for now, we use the non-yielding implementation in the super-class\u001b[0m\u001b[0;34m\u001b[0m\u001b[0;34m\u001b[0m\u001b[0;34m\u001b[0m\u001b[0m\n\u001b[1;32m     16\u001b[0m             \u001b[0;31m# TODO: add support for batching this first call as well\u001b[0m\u001b[0;34m\u001b[0m\u001b[0;34m\u001b[0m\u001b[0;34m\u001b[0m\u001b[0m\n\u001b[0;32m---> 17\u001b[0;31m             \u001b[0msuper\u001b[0m\u001b[0;34m(\u001b[0m\u001b[0mAdversarial\u001b[0m\u001b[0;34m,\u001b[0m \u001b[0mself\u001b[0m\u001b[0;34m)\u001b[0m\u001b[0;34m.\u001b[0m\u001b[0mforward_one\u001b[0m\u001b[0;34m(\u001b[0m\u001b[0mself\u001b[0m\u001b[0;34m.\u001b[0m\u001b[0m_Adversarial__unperturbed\u001b[0m\u001b[0;34m)\u001b[0m\u001b[0;34m\u001b[0m\u001b[0;34m\u001b[0m\u001b[0m\n\u001b[0m\u001b[1;32m     18\u001b[0m         \u001b[0;32mexcept\u001b[0m \u001b[0mStopAttack\u001b[0m\u001b[0;34m:\u001b[0m\u001b[0;34m\u001b[0m\u001b[0;34m\u001b[0m\u001b[0m\n\u001b[1;32m     19\u001b[0m             \u001b[0;31m# if a threshold is specified and the unperturbed input is\u001b[0m\u001b[0;34m\u001b[0m\u001b[0;34m\u001b[0m\u001b[0;34m\u001b[0m\u001b[0m\n",
            "\u001b[0;32m/usr/local/lib/python3.6/dist-packages/foolbox/v1/adversarial.py\u001b[0m in \u001b[0;36mforward_one\u001b[0;34m(self, x, strict, return_details)\u001b[0m\n\u001b[1;32m    306\u001b[0m \u001b[0;34m\u001b[0m\u001b[0m\n\u001b[1;32m    307\u001b[0m         \"\"\"\n\u001b[0;32m--> 308\u001b[0;31m         \u001b[0min_bounds\u001b[0m \u001b[0;34m=\u001b[0m \u001b[0mself\u001b[0m\u001b[0;34m.\u001b[0m\u001b[0min_bounds\u001b[0m\u001b[0;34m(\u001b[0m\u001b[0mx\u001b[0m\u001b[0;34m)\u001b[0m\u001b[0;34m\u001b[0m\u001b[0;34m\u001b[0m\u001b[0m\n\u001b[0m\u001b[1;32m    309\u001b[0m         \u001b[0;32massert\u001b[0m \u001b[0;32mnot\u001b[0m \u001b[0mstrict\u001b[0m \u001b[0;32mor\u001b[0m \u001b[0min_bounds\u001b[0m\u001b[0;34m\u001b[0m\u001b[0;34m\u001b[0m\u001b[0m\n\u001b[1;32m    310\u001b[0m \u001b[0;34m\u001b[0m\u001b[0m\n",
            "\u001b[0;32m/usr/local/lib/python3.6/dist-packages/foolbox/v1/adversarial.py\u001b[0m in \u001b[0;36min_bounds\u001b[0;34m(self, input_)\u001b[0m\n\u001b[1;32m    260\u001b[0m \u001b[0;34m\u001b[0m\u001b[0m\n\u001b[1;32m    261\u001b[0m     \u001b[0;32mdef\u001b[0m \u001b[0min_bounds\u001b[0m\u001b[0;34m(\u001b[0m\u001b[0mself\u001b[0m\u001b[0;34m,\u001b[0m \u001b[0minput_\u001b[0m\u001b[0;34m)\u001b[0m\u001b[0;34m:\u001b[0m\u001b[0;34m\u001b[0m\u001b[0;34m\u001b[0m\u001b[0m\n\u001b[0;32m--> 262\u001b[0;31m         \u001b[0mmin_\u001b[0m\u001b[0;34m,\u001b[0m \u001b[0mmax_\u001b[0m \u001b[0;34m=\u001b[0m \u001b[0mself\u001b[0m\u001b[0;34m.\u001b[0m\u001b[0mbounds\u001b[0m\u001b[0;34m(\u001b[0m\u001b[0;34m)\u001b[0m\u001b[0;34m\u001b[0m\u001b[0;34m\u001b[0m\u001b[0m\n\u001b[0m\u001b[1;32m    263\u001b[0m         \u001b[0;32mreturn\u001b[0m \u001b[0mmin_\u001b[0m \u001b[0;34m<=\u001b[0m \u001b[0minput_\u001b[0m\u001b[0;34m.\u001b[0m\u001b[0mmin\u001b[0m\u001b[0;34m(\u001b[0m\u001b[0;34m)\u001b[0m \u001b[0;32mand\u001b[0m \u001b[0minput_\u001b[0m\u001b[0;34m.\u001b[0m\u001b[0mmax\u001b[0m\u001b[0;34m(\u001b[0m\u001b[0;34m)\u001b[0m \u001b[0;34m<=\u001b[0m \u001b[0mmax_\u001b[0m\u001b[0;34m\u001b[0m\u001b[0;34m\u001b[0m\u001b[0m\n\u001b[1;32m    264\u001b[0m \u001b[0;34m\u001b[0m\u001b[0m\n",
            "\u001b[0;32m/usr/local/lib/python3.6/dist-packages/foolbox/v1/adversarial.py\u001b[0m in \u001b[0;36mbounds\u001b[0;34m(self)\u001b[0m\n\u001b[1;32m    253\u001b[0m \u001b[0;34m\u001b[0m\u001b[0m\n\u001b[1;32m    254\u001b[0m     \u001b[0;32mdef\u001b[0m \u001b[0mbounds\u001b[0m\u001b[0;34m(\u001b[0m\u001b[0mself\u001b[0m\u001b[0;34m)\u001b[0m\u001b[0;34m:\u001b[0m\u001b[0;34m\u001b[0m\u001b[0;34m\u001b[0m\u001b[0m\n\u001b[0;32m--> 255\u001b[0;31m         \u001b[0mmin_\u001b[0m\u001b[0;34m,\u001b[0m \u001b[0mmax_\u001b[0m \u001b[0;34m=\u001b[0m \u001b[0mself\u001b[0m\u001b[0;34m.\u001b[0m\u001b[0m__model\u001b[0m\u001b[0;34m.\u001b[0m\u001b[0mbounds\u001b[0m\u001b[0;34m(\u001b[0m\u001b[0;34m)\u001b[0m\u001b[0;34m\u001b[0m\u001b[0;34m\u001b[0m\u001b[0m\n\u001b[0m\u001b[1;32m    256\u001b[0m         \u001b[0;32massert\u001b[0m \u001b[0misinstance\u001b[0m\u001b[0;34m(\u001b[0m\u001b[0mmin_\u001b[0m\u001b[0;34m,\u001b[0m \u001b[0mnumbers\u001b[0m\u001b[0;34m.\u001b[0m\u001b[0mNumber\u001b[0m\u001b[0;34m)\u001b[0m\u001b[0;34m\u001b[0m\u001b[0;34m\u001b[0m\u001b[0m\n\u001b[1;32m    257\u001b[0m         \u001b[0;32massert\u001b[0m \u001b[0misinstance\u001b[0m\u001b[0;34m(\u001b[0m\u001b[0mmax_\u001b[0m\u001b[0;34m,\u001b[0m \u001b[0mnumbers\u001b[0m\u001b[0;34m.\u001b[0m\u001b[0mNumber\u001b[0m\u001b[0;34m)\u001b[0m\u001b[0;34m\u001b[0m\u001b[0;34m\u001b[0m\u001b[0m\n",
            "\u001b[0;31mAttributeError\u001b[0m: 'Model' object has no attribute 'bounds'"
          ]
        }
      ]
    },
    {
      "cell_type": "markdown",
      "metadata": {
        "id": "myTqWSmlCHvz",
        "colab_type": "text"
      },
      "source": [
        ""
      ]
    },
    {
      "cell_type": "code",
      "metadata": {
        "id": "oEx3831vR4U2",
        "colab_type": "code",
        "colab": {}
      },
      "source": [
        "np.save(\"histoYK_PGD30\", histoYK)"
      ],
      "execution_count": null,
      "outputs": []
    },
    {
      "cell_type": "markdown",
      "metadata": {
        "id": "I26GjzxC9Vjk",
        "colab_type": "text"
      },
      "source": [
        "# Load Data"
      ]
    },
    {
      "cell_type": "code",
      "metadata": {
        "id": "9IY4JLQZqlry",
        "colab_type": "code",
        "colab": {
          "base_uri": "https://localhost:8080/",
          "height": 52
        },
        "outputId": "bbfd67ab-6db1-4db0-9773-c5cdaf302ea6"
      },
      "source": [
        "filePath=\"resnetCifarTT_MINMAX_PGD30\"\n",
        "maxIter, upTo = 30, 30\n",
        "\n",
        "image, label, labelf = loadCIFAR(train=True)\n",
        "imageTest, labelTest, labelTestf = loadCIFAR(True,True)\n",
        "#histoYK = np.load(\"histoYK_PGD20.npy\", allow_pickle=True)"
      ],
      "execution_count": null,
      "outputs": [
        {
          "output_type": "stream",
          "text": [
            "Downloading data from https://www.cs.toronto.edu/~kriz/cifar-100-python.tar.gz\n",
            "169009152/169001437 [==============================] - 4s 0us/step\n"
          ],
          "name": "stdout"
        }
      ]
    },
    {
      "cell_type": "code",
      "metadata": {
        "scrolled": true,
        "id": "Np_XArZaqlr7",
        "colab_type": "code",
        "colab": {
          "base_uri": "https://localhost:8080/",
          "height": 70
        },
        "outputId": "7eeeb23d-3a7c-43fc-95b3-84873cd74a00"
      },
      "source": [
        "sess = tf.InteractiveSession()\n",
        "sess.run(tf.initialize_all_variables())"
      ],
      "execution_count": null,
      "outputs": [
        {
          "output_type": "stream",
          "text": [
            "WARNING:tensorflow:From /tensorflow-1.15.2/python3.6/tensorflow_core/python/util/tf_should_use.py:198: initialize_all_variables (from tensorflow.python.ops.variables) is deprecated and will be removed after 2017-03-02.\n",
            "Instructions for updating:\n",
            "Use `tf.global_variables_initializer` instead.\n"
          ],
          "name": "stdout"
        }
      ]
    },
    {
      "cell_type": "code",
      "metadata": {
        "id": "5BbblK4lqlr0",
        "colab_type": "code",
        "colab": {}
      },
      "source": [
        "def loadDatas(iterMax) :\n",
        "    global theClassifieurs, theZk, theYk\n",
        "    ResNet18, preprocess_input = Classifiers.get('resnet18')\n",
        "    \n",
        "    f0 = ResNet18(input_shape=[32,32,3], include_top=True, classes=2, weights=None)\n",
        "    optim = tf.compat.v1.train.AdamOptimizer(1e-4)\n",
        "    f0.compile(optim, loss=tf.keras.losses.MeanSquaredError(), metrics=['accuracy'])\n",
        "    theClassifieurs = np.array([copy(f0) for i in range(upTo+1)]) # np.array([copy(f0) for i in range(maxIter+1)])\n",
        "    \n",
        "    theClassifieurs[0].load_weights(filePath+'/f'+str(0))\n",
        "    theZk = np.array([np.load(filePath+\"/dataset/Z\"+str(maxIter)+\".npy\")])\n",
        "    theYk = np.array([np.load(filePath+\"/dataset/Z\"+str(maxIter)+\".npy\")])\n",
        "    \n",
        "    for i in range(1,iterMax+1) : \n",
        "        theClassifieurs[i].load_weights(filePath+'/f'+str(i))\n",
        "        theZk = np.concatenate((theZk,np.array([np.load(filePath+\"/dataset/Z\"+str(i)+\".npy\")])))\n",
        "        theYk = np.concatenate((theYk,np.array([np.load(filePath+\"/dataset/Y\"+str(i)+\".npy\")])))"
      ],
      "execution_count": null,
      "outputs": []
    },
    {
      "cell_type": "code",
      "metadata": {
        "id": "F0z6QjFGqlr2",
        "colab_type": "code",
        "colab": {
          "base_uri": "https://localhost:8080/",
          "height": 107
        },
        "outputId": "9ba76f0c-5101-485f-900e-d35ce1ba77a4"
      },
      "source": [
        "loadDatas(maxIter)"
      ],
      "execution_count": null,
      "outputs": [
        {
          "output_type": "stream",
          "text": [
            "/tensorflow-1.15.2/python3.6/keras/engine/saving.py:165: UserWarning: TensorFlow optimizers do not make it possible to access optimizer attributes or optimizer state after instantiation. As a result, we cannot save the optimizer as part of the model save file.You will have to compile your model again after loading it. Prefer using a Keras optimizer instead (see keras.io/optimizers).\n",
            "  'TensorFlow optimizers do not '\n",
            "/tensorflow-1.15.2/python3.6/keras/engine/saving.py:341: UserWarning: No training configuration found in save file: the model was *not* compiled. Compile it manually.\n",
            "  warnings.warn('No training configuration found in save file: '\n"
          ],
          "name": "stderr"
        }
      ]
    },
    {
      "cell_type": "markdown",
      "metadata": {
        "id": "pEgIsvgRqlr6",
        "colab_type": "text"
      },
      "source": [
        "## Distance"
      ]
    },
    {
      "cell_type": "code",
      "metadata": {
        "id": "3MqXFwVW4eUO",
        "colab_type": "code",
        "colab": {}
      },
      "source": [
        "dest_YK, dest_ZK = [], []\n",
        "Zfinal = np.load(filePath+\"/dataset/Z\"+str(maxIter)+\".npy\")\n",
        "for k in range(1,maxIter+1) :\n",
        "  Yk = np.load(filePath+\"/dataset/Y\"+str(k)+\".npy\")\n",
        "  eqm  = tf.keras.losses.MSE(image/255,Yk/255)\n",
        "  dest_YK.append(sess.run(eqm).mean())\n",
        "\n",
        "  Zk = np.load(filePath+\"/dataset/Z\"+str(k)+\".npy\")\n",
        "  eqm  = tf.keras.losses.MSE(image/255,Zk/255)\n",
        "  dest_ZK.append(sess.run(eqm).mean())"
      ],
      "execution_count": null,
      "outputs": []
    },
    {
      "cell_type": "code",
      "metadata": {
        "id": "sL-_g7DIfLMZ",
        "colab_type": "code",
        "colab": {
          "base_uri": "https://localhost:8080/",
          "height": 392
        },
        "outputId": "6fc4d83e-e53d-48e5-8359-1c966605631e"
      },
      "source": [
        "plt.rcParams[\"figure.figsize\"] = (9,6)\n",
        "plt.plot([i+1 for i in range(maxIter)], dest_YK, 'r', label=\"Norme  du  signal  adverse de Yk  en  fonction  de  k.\")\n",
        "plt.plot([i+1 for i in range(maxIter)], dest_ZK, 'g', label=\"Norme  du  signal  adverse de Zk  en  fonction  de  k.\")\n",
        "plt.legend()"
      ],
      "execution_count": null,
      "outputs": [
        {
          "output_type": "execute_result",
          "data": {
            "text/plain": [
              "<matplotlib.legend.Legend at 0x7f62d7756940>"
            ]
          },
          "metadata": {
            "tags": []
          },
          "execution_count": 21
        },
        {
          "output_type": "display_data",
          "data": {
            "image/png": "[encoded data removed]",
            "text/plain": [
              "<Figure size 648x432 with 1 Axes>"
            ]
          },
          "metadata": {
            "tags": [],
            "needs_background": "light"
          }
        }
      ]
    },
    {
      "cell_type": "code",
      "metadata": {
        "id": "nYq324bbxWLD",
        "colab_type": "code",
        "colab": {
          "base_uri": "https://localhost:8080/"
        },
        "outputId": "b252342e-c297-4508-9c66-66d9f377a150"
      },
      "source": [
        "foolModel = foolbox.models.KerasModel(theClassifieurs[0], bounds=(0, 255))\n",
        "attack = foolbox.attacks.GradientSignAttack(foolModel, distance=foolbox.distances.MeanSquaredDistance)\n",
        "Z0FGSM = attack(image, labelf, epsilons=2000, max_epsilon=5)"
      ],
      "execution_count": null,
      "outputs": [
        {
          "output_type": "stream",
          "text": [
            "WARNING:tensorflow:From /tensorflow-1.15.2/python3.6/keras/backend/tensorflow_backend.py:422: The name tf.global_variables is deprecated. Please use tf.compat.v1.global_variables instead.\n",
            "\n"
          ],
          "name": "stdout"
        },
        {
          "output_type": "stream",
          "text": [
            "/usr/local/lib/python3.6/dist-packages/foolbox/attacks/base.py:95: UserWarning: GradientSignAttack did not find an adversarial, maybe the model or the criterion is not supported by this attack.\n",
            "  \" attack.\".format(self.name())\n"
          ],
          "name": "stderr"
        }
      ]
    },
    {
      "cell_type": "code",
      "metadata": {
        "id": "iNKbrDx7xWN_",
        "colab_type": "code",
        "colab": {}
      },
      "source": [
        "eqm  = tf.keras.losses.MSE(image/255,Z0FGSM/255)"
      ],
      "execution_count": null,
      "outputs": []
    },
    {
      "cell_type": "code",
      "metadata": {
        "id": "OevFHdSSxlEr",
        "colab_type": "code",
        "colab": {
          "base_uri": "https://localhost:8080/"
        },
        "outputId": "645c07c5-5053-4052-cb63-cb4436c2859f"
      },
      "source": [
        "sess.run(eqm).mean()"
      ],
      "execution_count": null,
      "outputs": [
        {
          "output_type": "execute_result",
          "data": {
            "text/plain": [
              "0.0060390923"
            ]
          },
          "metadata": {
            "tags": []
          },
          "execution_count": 26
        }
      ]
    },
    {
      "cell_type": "code",
      "metadata": {
        "id": "q2SfbaIzxlK3",
        "colab_type": "code",
        "colab": {}
      },
      "source": [
        ""
      ],
      "execution_count": null,
      "outputs": []
    },
    {
      "cell_type": "code",
      "metadata": {
        "id": "0L0Ge-Xzc3XN",
        "colab_type": "code",
        "colab": {
          "base_uri": "https://localhost:8080/"
        },
        "outputId": "76be3f20-267d-486b-a5f9-87f613731a0e"
      },
      "source": [
        "len(histoYK[0])"
      ],
      "execution_count": null,
      "outputs": [
        {
          "output_type": "execute_result",
          "data": {
            "text/plain": [
              "0"
            ]
          },
          "metadata": {
            "tags": []
          },
          "execution_count": 31
        }
      ]
    },
    {
      "cell_type": "code",
      "metadata": {
        "id": "31lSyAv4qlsF",
        "colab_type": "code",
        "colab": {
          "base_uri": "https://localhost:8080/"
        },
        "outputId": "a5d80972-f00e-438f-f748-9e680353f33a"
      },
      "source": [
        "eps = 0.5\n",
        "\n",
        "a = time.time()\n",
        "print(eps)\n",
        "all_PGD = np.array([])\n",
        "for i in range(maxIter+1) :\n",
        "    foolModel = foolbox.models.KerasModel(theClassifieurs[i], bounds=(0, 255))\n",
        "    attack = foolbox.attacks.L2BasicIterativeAttack(foolModel, distance=foolbox.distances.MeanSquaredDistance) #, L2BasicIterativeAttack(foolModel, distance=foolbox.distances.MeanSquaredDistance)\n",
        "    PGD = attack(imageTest, labelTestf, epsilon=5.0 , stepsize=0.05, iterations=200, return_early=True) #, epsilons=2000, max_epsilon=5)\n",
        "\n",
        "    if all_PGD.size == 0 :\n",
        "        all_PGD = np.array([np.copy(PGD)])\n",
        "    else :\n",
        "        all_PGD = np.concatenate((all_PGD,[np.copy(PGD)]))\n",
        "\n",
        "b = time.time()\n",
        "printCPTTime(b-a)"
      ],
      "execution_count": null,
      "outputs": [
        {
          "output_type": "stream",
          "text": [
            "0.5\n",
            "1:17:1\n"
          ],
          "name": "stdout"
        }
      ]
    },
    {
      "cell_type": "code",
      "metadata": {
        "id": "JY9lQ0sJqlsI",
        "colab_type": "code",
        "colab": {}
      },
      "source": [
        "#np.save(\"eps_FGSM_test\", eps_PGD)\n",
        "# eps_PGD = np.load(\"eps_FGSM_test.npy\")"
      ],
      "execution_count": null,
      "outputs": []
    },
    {
      "cell_type": "code",
      "metadata": {
        "id": "9hen7KVSu2GO",
        "colab_type": "code",
        "colab": {}
      },
      "source": [
        "#np.save(\"histoYK_PGD\", histoYK)\n",
        "#histoYK = np.load(\"histoYK_PGD.npy\")"
      ],
      "execution_count": null,
      "outputs": []
    },
    {
      "cell_type": "code",
      "metadata": {
        "scrolled": true,
        "id": "8obbLFc_qlsK",
        "colab_type": "code",
        "colab": {
          "base_uri": "https://localhost:8080/"
        },
        "outputId": "a9fe8a29-413e-4caa-fbb7-4f39253bbc69"
      },
      "source": [
        "eps_better_PGD = np.array([])\n",
        "better_PGD = np.array([])\n",
        "\n",
        "a = time.time()\n",
        "\n",
        "histoYK = [[]]\n",
        "theZk = np.array([all_PGD[0]])\n",
        "for k in range(1,maxIter+1) : \n",
        "  print(k)\n",
        "  theZk = np.concatenate((theZk,[all_PGD[k]]))\n",
        "  better_PGD = np.array([])\n",
        "\n",
        "  for i in range(len(imageTest)) :\n",
        "      better_image = game(k,i,theClassifieurs,all_PGD,labelTestf)\n",
        "\n",
        "      if better_PGD.size == 0 :\n",
        "          better_PGD = np.array([np.copy(better_image)])\n",
        "      else :\n",
        "          better_PGD = np.concatenate((better_PGD,[np.copy(better_image)]))\n",
        "\n",
        "  histoYK.append([])\n",
        "  print(better_PGD.shape)\n",
        "  if eps_better_PGD.size == 0 :\n",
        "      eps_better_PGD = np.array([np.copy(better_PGD)])\n",
        "  else :\n",
        "      eps_better_PGD = np.concatenate((eps_better_PGD,[np.copy(better_PGD)]))\n",
        "\n",
        "b = time.time()\n",
        "printCPTTime(b-a) "
      ],
      "execution_count": null,
      "outputs": [
        {
          "output_type": "stream",
          "text": [
            "1\n",
            "(200, 32, 32, 3)\n",
            "2\n",
            "(200, 32, 32, 3)\n",
            "3\n",
            "(200, 32, 32, 3)\n",
            "4\n",
            "(200, 32, 32, 3)\n",
            "5\n",
            "(200, 32, 32, 3)\n",
            "6\n",
            "(200, 32, 32, 3)\n",
            "7\n",
            "(200, 32, 32, 3)\n",
            "8\n",
            "(200, 32, 32, 3)\n",
            "9\n",
            "(200, 32, 32, 3)\n",
            "10\n",
            "(200, 32, 32, 3)\n",
            "11\n",
            "(200, 32, 32, 3)\n",
            "12\n",
            "(200, 32, 32, 3)\n",
            "13\n",
            "(200, 32, 32, 3)\n",
            "14\n",
            "(200, 32, 32, 3)\n",
            "15\n",
            "(200, 32, 32, 3)\n",
            "16\n",
            "(200, 32, 32, 3)\n",
            "17\n",
            "(200, 32, 32, 3)\n",
            "18\n",
            "(200, 32, 32, 3)\n",
            "19\n",
            "(200, 32, 32, 3)\n",
            "20\n",
            "(200, 32, 32, 3)\n",
            "21\n",
            "(200, 32, 32, 3)\n",
            "22\n",
            "(200, 32, 32, 3)\n",
            "23\n",
            "(200, 32, 32, 3)\n",
            "24\n",
            "(200, 32, 32, 3)\n",
            "25\n",
            "(200, 32, 32, 3)\n",
            "26\n",
            "(200, 32, 32, 3)\n",
            "27\n",
            "(200, 32, 32, 3)\n",
            "28\n",
            "(200, 32, 32, 3)\n",
            "29\n",
            "(200, 32, 32, 3)\n",
            "30\n",
            "(200, 32, 32, 3)\n",
            "15:33\n"
          ],
          "name": "stdout"
        }
      ]
    },
    {
      "cell_type": "code",
      "metadata": {
        "id": "1qm2Xy_K4q6E",
        "colab_type": "code",
        "colab": {
          "base_uri": "https://localhost:8080/"
        },
        "outputId": "5b8f6d35-f247-48db-9e58-617ae289f590"
      },
      "source": [
        "predictN, predictT, predictYT, predictNT = [], [], [], []\n",
        "predictY, predictZ, predictZF = [], [0], []\n",
        "Zfinal = np.load(filePath+\"/dataset/Z\"+str(maxIter)+\".npy\")\n",
        "for k in range(0,maxIter+1) :    \n",
        "    predictNT.append(np.mean(theClassifieurs[k].predict(imageTest).argmax(axis=-1) == labelTestf))\n",
        "    predictN.append(np.mean(theClassifieurs[k].predict(image).argmax(axis=-1) == labelf))\n",
        "    \n",
        "    if k == 0 :\n",
        "        predictY.append(0)\n",
        "        predictT.append(predictNT[k])\n",
        "    else :\n",
        "        Yk = np.load(filePath+\"/dataset/Y\"+str(k)+\".npy\")\n",
        "        print('f'+str(k)+' load')\n",
        "        predictY.append(np.mean(theClassifieurs[k].predict(Yk).argmax(axis=-1) == labelf))\n",
        "    \n",
        "        Zk = np.load(filePath+\"/dataset/Z\"+str(k)+\".npy\")\n",
        "        print('Z'+str(k)+' load \\n')\n",
        "        predictZ.append(np.mean(theClassifieurs[k-1].predict(Zk).argmax(axis=-1) == labelf))\n",
        "        predictYT.append(np.mean(theClassifieurs[k].predict(eps_better_PGD[k-1]).argmax(axis=-1) == labelTestf))\n",
        "        #predictT.append((predictNT[k]+predictYT[k-1])/2)\n",
        "\n",
        "    predictZF.append(np.mean(theClassifieurs[k].predict(Zfinal).argmax(axis=-1) == labelf))"
      ],
      "execution_count": null,
      "outputs": [
        {
          "output_type": "stream",
          "text": [
            "f1 load\n",
            "Z1 load \n",
            "\n",
            "f2 load\n",
            "Z2 load \n",
            "\n",
            "f3 load\n",
            "Z3 load \n",
            "\n",
            "f4 load\n",
            "Z4 load \n",
            "\n",
            "f5 load\n",
            "Z5 load \n",
            "\n",
            "f6 load\n",
            "Z6 load \n",
            "\n",
            "f7 load\n",
            "Z7 load \n",
            "\n",
            "f8 load\n",
            "Z8 load \n",
            "\n",
            "f9 load\n",
            "Z9 load \n",
            "\n",
            "f10 load\n",
            "Z10 load \n",
            "\n",
            "f11 load\n",
            "Z11 load \n",
            "\n",
            "f12 load\n",
            "Z12 load \n",
            "\n",
            "f13 load\n",
            "Z13 load \n",
            "\n",
            "f14 load\n",
            "Z14 load \n",
            "\n",
            "f15 load\n",
            "Z15 load \n",
            "\n",
            "f16 load\n",
            "Z16 load \n",
            "\n",
            "f17 load\n",
            "Z17 load \n",
            "\n",
            "f18 load\n",
            "Z18 load \n",
            "\n",
            "f19 load\n",
            "Z19 load \n",
            "\n",
            "f20 load\n",
            "Z20 load \n",
            "\n",
            "f21 load\n",
            "Z21 load \n",
            "\n",
            "f22 load\n",
            "Z22 load \n",
            "\n",
            "f23 load\n",
            "Z23 load \n",
            "\n",
            "f24 load\n",
            "Z24 load \n",
            "\n",
            "f25 load\n",
            "Z25 load \n",
            "\n",
            "f26 load\n",
            "Z26 load \n",
            "\n",
            "f27 load\n",
            "Z27 load \n",
            "\n",
            "f28 load\n",
            "Z28 load \n",
            "\n",
            "f29 load\n",
            "Z29 load \n",
            "\n",
            "f30 load\n",
            "Z30 load \n",
            "\n"
          ],
          "name": "stdout"
        }
      ]
    },
    {
      "cell_type": "code",
      "metadata": {
        "id": "mUbLIt8mfqm7",
        "colab_type": "code",
        "colab": {
          "base_uri": "https://localhost:8080/"
        },
        "outputId": "0e9c2867-0254-4d0b-a535-f0a27aa7c127"
      },
      "source": [
        "eps_better_PGD.shape"
      ],
      "execution_count": null,
      "outputs": [
        {
          "output_type": "execute_result",
          "data": {
            "text/plain": [
              "(30, 200, 32, 32, 3)"
            ]
          },
          "metadata": {
            "tags": []
          },
          "execution_count": 37
        }
      ]
    },
    {
      "cell_type": "code",
      "metadata": {
        "id": "T0vPW0cSqlsM",
        "colab_type": "code",
        "colab": {
          "base_uri": "https://localhost:8080/"
        },
        "outputId": "21221c6e-784e-48f9-8f70-4c6a19b1c943"
      },
      "source": [
        "theClassifieurs[0].predict(np.array(all_PGD)[:,1])[0][labelf[i]]"
      ],
      "execution_count": null,
      "outputs": [
        {
          "output_type": "execute_result",
          "data": {
            "text/plain": [
              "0.49997374"
            ]
          },
          "metadata": {
            "tags": []
          },
          "execution_count": 38
        }
      ]
    },
    {
      "cell_type": "code",
      "metadata": {
        "scrolled": true,
        "id": "ZrkEzTZHqlsO",
        "colab_type": "code",
        "colab": {
          "base_uri": "https://localhost:8080/"
        },
        "outputId": "67945e4a-371f-4acf-9b39-967e167f426e"
      },
      "source": [
        "## Distortion non entrainer\n",
        "eqm  = tf.keras.losses.MSE(imageTest/255,all_PGD[0]/255)\n",
        "print(sess.run(eqm).mean())"
      ],
      "execution_count": null,
      "outputs": [
        {
          "output_type": "stream",
          "text": [
            "3.4502464e-05\n"
          ],
          "name": "stdout"
        }
      ]
    },
    {
      "cell_type": "code",
      "metadata": {
        "id": "0ucakmxnqlsQ",
        "colab_type": "code",
        "colab": {
          "base_uri": "https://localhost:8080/"
        },
        "outputId": "2701ea41-2a0d-4e33-b33b-7af04a8caf21"
      },
      "source": [
        "## Distortion entrainer\n",
        "eqm  = tf.keras.losses.MSE(imageTest/255,all_PGD[maxIter]/255)\n",
        "print(sess.run(eqm).mean())"
      ],
      "execution_count": null,
      "outputs": [
        {
          "output_type": "stream",
          "text": [
            "2.7450817e-05\n"
          ],
          "name": "stdout"
        }
      ]
    },
    {
      "cell_type": "code",
      "metadata": {
        "id": "cEgX9osZE1sw",
        "colab_type": "code",
        "colab": {
          "base_uri": "https://localhost:8080/"
        },
        "outputId": "d0a6a8f0-a21b-4755-9799-0ae487af57a9"
      },
      "source": [
        "eps_better_PGD.shape"
      ],
      "execution_count": null,
      "outputs": [
        {
          "output_type": "execute_result",
          "data": {
            "text/plain": [
              "(30, 200, 32, 32, 3)"
            ]
          },
          "metadata": {
            "tags": []
          },
          "execution_count": 41
        }
      ]
    },
    {
      "cell_type": "code",
      "metadata": {
        "id": "oOsfDD5cqlsS",
        "colab_type": "code",
        "colab": {
          "base_uri": "https://localhost:8080/"
        },
        "outputId": "bc2b5d44-1a8d-479d-d3d4-27ec144652ec"
      },
      "source": [
        "## Joue Jeu\n",
        "eqm  = tf.keras.losses.MSE(imageTest/255,eps_better_PGD[maxIter-1]/255)\n",
        "max_eqm  = np.mean(sess.run(eqm))\n",
        "eqm_std  = np.std(sess.run(eqm))\n",
        "print(max_eqm)"
      ],
      "execution_count": null,
      "outputs": [
        {
          "output_type": "stream",
          "text": [
            "3.7943868e-05\n"
          ],
          "name": "stdout"
        }
      ]
    },
    {
      "cell_type": "markdown",
      "metadata": {
        "id": "B78inNoiqlsU",
        "colab_type": "text"
      },
      "source": [
        "# Plot"
      ]
    },
    {
      "cell_type": "code",
      "metadata": {
        "id": "7Urh1y9GFy-n",
        "colab_type": "code",
        "colab": {}
      },
      "source": [
        "histoYK = np.load(\"histoYK_PGD5.npy\",allow_pickle=True)"
      ],
      "execution_count": null,
      "outputs": []
    },
    {
      "cell_type": "code",
      "metadata": {
        "id": "P_cnZrWn7bMi",
        "colab_type": "code",
        "colab": {}
      },
      "source": [
        "data = [[0 for i in range(maxIter)] for j in range(maxIter)]\n",
        "#data = [[0 for i in range(maxIter)] for j in range(1)]\n",
        "for i in range(maxIter) :\n",
        "  x = np.array(histoYK[i])\n",
        "  y = np.bincount(x)\n",
        "  ii = np.nonzero(y)[0]\n",
        "  d = dict()\n",
        "  for j in range(0,i+1) :\n",
        "    try :\n",
        "      data[j][i] = y[j]\n",
        "    except :\n",
        "      data[j][i] = 0"
      ],
      "execution_count": null,
      "outputs": []
    },
    {
      "cell_type": "code",
      "metadata": {
        "id": "IkwM9o-v6vtd",
        "colab_type": "code",
        "colab": {
          "base_uri": "https://localhost:8080/"
        },
        "outputId": "fc5b014c-9099-467f-82ad-ed5a2e3d3e63"
      },
      "source": [
        "plt.rcParams[\"figure.figsize\"] = (20,6)\n",
        "X = np.arange(1,maxIter+1)\n",
        "fig = plt.figure()\n",
        "ax = fig.add_axes([0,0,1,1])\n",
        "allColors = [\"b\",\"g\",\"r\",\"y\",\"orange\",\"brown\",\"mediumorchid\",\"dodgerblue\",\"forestgreen\",\"mediumblue\",\"aquamarine\",\"darkviolet\"]\n",
        "for i in range(maxIter) :\n",
        "    ax.bar(X + 1/maxIter*i, data[i], color = allColors[(i)%12], width = 1/maxIter)"
      ],
      "execution_count": null,
      "outputs": [
        {
          "output_type": "display_data",
          "data": {
            "image/png": "[encoded data removed]",
            "text/plain": [
              "<Figure size 1440x432 with 1 Axes>"
            ]
          },
          "metadata": {
            "tags": [],
            "needs_background": "light"
          }
        }
      ]
    },
    {
      "cell_type": "code",
      "metadata": {
        "scrolled": true,
        "id": "lrfIX0BqqlsU",
        "colab_type": "code",
        "colab": {
          "base_uri": "https://localhost:8080/"
        },
        "outputId": "5a4ed670-2170-4e3f-adfa-babc3e36bd69"
      },
      "source": [
        "plt.rcParams[\"figure.figsize\"] = (9,6) #(8,5)\n",
        "plt.plot([i for i in range(maxIter+1)], predictN, 'b', label=\"Prediction Image\", dashes=[3, 4]) #Ne pas mélanger\n",
        "plt.plot([i for i in range(maxIter+1)], predictNT, 'gold', label=\"Prediction Image Naturel Test en fonction de K\", dashes=[3, 2])\n",
        "plt.plot([i for i in range(1,maxIter+1)], predictYT, 'red', label=\"Prediction Image YTest en fonction de K\", dashes=[6, 2])\n",
        "#plt.plot([i for i in range(maxIter+1)], predictT, 'r', label=\"Prediction Image Test en fonction de K\")\n",
        "plt.plot([i for i in range(1,maxIter+1)], predictY[1:], 'g', label=\"Prediction Yk par Fk en fonction de K\", dashes=[6, 2])\n",
        "plt.plot([i for i in range(maxIter+1)], predictZ, 'y', label=\"Prediction Zk  par Fk-1 en fonction de K\", dashes=[3, 2])\n",
        "#plt.plot([i for i in range(maxIter+1)], predictZF, 'purple', label=\"Prediction de Zk par Zfinal en fonction de K\")\n",
        "#plt.plot([i for i in range(maxIter+1)], [0.5 for i in range(maxIter+1)], 'orange', label=\"Y=0.5\")\n",
        "plt.legend()\n",
        "x1,x2,y1,y2 = plt.axis()\n",
        "plt.axis((x1,x2,0,1.1))"
      ],
      "execution_count": null,
      "outputs": [
        {
          "output_type": "execute_result",
          "data": {
            "text/plain": [
              "(-1.5, 31.5, 0.0, 1.1)"
            ]
          },
          "metadata": {
            "tags": []
          },
          "execution_count": 51
        },
        {
          "output_type": "display_data",
          "data": {
            "image/png": "[encoded data removed]",
            "text/plain": [
              "<Figure size 648x432 with 1 Axes>"
            ]
          },
          "metadata": {
            "tags": [],
            "needs_background": "light"
          }
        }
      ]
    },
    {
      "cell_type": "code",
      "metadata": {
        "id": "W55tlbyO5vuG",
        "colab_type": "code",
        "colab": {}
      },
      "source": [
        ""
      ],
      "execution_count": null,
      "outputs": []
    },
    {
      "cell_type": "markdown",
      "metadata": {
        "id": "XKog2SPLrH7s",
        "colab_type": "text"
      },
      "source": [
        "# Show Image Exemple"
      ]
    },
    {
      "cell_type": "code",
      "metadata": {
        "id": "6pOytwE05IQo",
        "colab_type": "code",
        "colab": {
          "base_uri": "https://localhost:8080/"
        },
        "outputId": "6afba31c-a440-45f0-b723-4538b132ee7d"
      },
      "source": [
        "imgNum, plt.rcParams[\"figure.figsize\"] = 10, (10,7)\n",
        "\n",
        "if theClassifieurs[-1].predict(image[imgNum:imgNum+1]).argmax(axis=-1) != labelf[imgNum:imgNum+1] : \n",
        "  print(\"diff\")\n",
        "\n",
        "\n",
        "plt.subplot(2, 3, 1)\n",
        "plt.imshow(image[imgNum])\n",
        "\n",
        "foolModel = foolbox.models.KerasModel(theClassifieurs[0], bounds=(0, 255))\n",
        "attack = foolbox.attacks.L2BasicIterativeAttack(foolModel, distance=foolbox.distances.MeanSquaredDistance)\n",
        "ad0 = attack(image[imgNum:imgNum+1], labelf[imgNum:imgNum+1], epsilon=5.0 , stepsize=0.05, iterations=200, return_early=True)\n",
        "plt.subplot(2, 3, 2)\n",
        "plt.imshow(np.asarray(ad0[0], dtype=int))\n",
        "\n",
        "foolModel = foolbox.models.KerasModel(theClassifieurs[maxIter], bounds=(0, 255))\n",
        "attack = foolbox.attacks.L2BasicIterativeAttack(foolModel, distance=foolbox.distances.MeanSquaredDistance)\n",
        "adf = attack(image[imgNum:imgNum+1], labelf[imgNum:imgNum+1], epsilon=5.0 , stepsize=0.05, iterations=200, return_early=True)\n",
        "plt.subplot(2, 3, 3)\n",
        "plt.imshow(np.asarray(adf[0], dtype=int))\n",
        "\n",
        "plt.subplot(2, 3, 4)\n",
        "plt.imshow(np.absolute(image[imgNum] - image[imgNum]))\n",
        "\n",
        "diff1 = np.absolute(image[imgNum] - ad0)\n",
        "diff1 = (diff1)**(1/2)\n",
        "mi, ma = np.min(diff1[0]), np.max(diff1[0])\n",
        "#diff1 = 255*(diff1[0]-mi)/(ma-mi)\n",
        "plt.subplot(2, 3, 5)\n",
        "plt.imshow(np.asarray(diff1[0]*50, dtype=int))\n",
        "\n",
        "diff2 = np.absolute(image[imgNum] - adf)\n",
        "diff2 = (diff2)**(1/2)\n",
        "mi, ma = np.min(diff2[0]), np.max(diff2[0])\n",
        "#diff2 = 255*(diff2[0]-mi)/(ma-mi)\n",
        "plt.subplot(2, 3, 6)\n",
        "plt.imshow(np.asarray(diff2[0]*50, dtype=int)) #diff2[0]*10"
      ],
      "execution_count": null,
      "outputs": [
        {
          "output_type": "execute_result",
          "data": {
            "text/plain": [
              "<matplotlib.image.AxesImage at 0x7f61535d26a0>"
            ]
          },
          "metadata": {
            "tags": []
          },
          "execution_count": 52
        },
        {
          "output_type": "display_data",
          "data": {
            "image/png": "[encoded data removed]",
            "text/plain": [
              "<Figure size 720x504 with 6 Axes>"
            ]
          },
          "metadata": {
            "tags": [],
            "needs_background": "light"
          }
        }
      ]
    },
    {
      "cell_type": "code",
      "metadata": {
        "id": "SGfUvrtHZ1rr",
        "colab_type": "code",
        "colab": {
          "base_uri": "https://localhost:8080/"
        },
        "outputId": "d6bfa7b7-1849-47c7-9bbf-1b795efe6f84"
      },
      "source": [
        "imgNum, plt.rcParams[\"figure.figsize\"] = 71, (10,7)\n",
        "\n",
        "if theClassifieurs[-1].predict(image[imgNum:imgNum+1]).argmax(axis=-1) != labelf[imgNum:imgNum+1] : \n",
        "  print(\"diff\")\n",
        "\n",
        "\n",
        "plt.subplot(2, 3, 1)\n",
        "plt.imshow(image[imgNum])\n",
        "\n",
        "foolModel = foolbox.models.KerasModel(theClassifieurs[0], bounds=(0, 255))\n",
        "attack = foolbox.attacks.L2BasicIterativeAttack(foolModel, distance=foolbox.distances.MeanSquaredDistance)\n",
        "ad0 = attack(image[imgNum:imgNum+1], labelf[imgNum:imgNum+1], epsilon=5.0 , stepsize=0.05, iterations=200, return_early=True)\n",
        "plt.subplot(2, 3, 2)\n",
        "plt.imshow(np.asarray(ad0[0], dtype=int))\n",
        "\n",
        "foolModel = foolbox.models.KerasModel(theClassifieurs[maxIter], bounds=(0, 255))\n",
        "attack = foolbox.attacks.L2BasicIterativeAttack(foolModel, distance=foolbox.distances.MeanSquaredDistance)\n",
        "adf = attack(image[imgNum:imgNum+1], labelf[imgNum:imgNum+1], epsilon=5.0 , stepsize=0.05, iterations=200, return_early=True)\n",
        "plt.subplot(2, 3, 3)\n",
        "plt.imshow(np.asarray(adf[0], dtype=int))\n",
        "\n",
        "plt.subplot(2, 3, 4)\n",
        "plt.imshow(np.absolute(image[imgNum] - image[imgNum]))\n",
        "\n",
        "diff1 = np.absolute(image[imgNum] - ad0)\n",
        "diff1 = (diff1)**(1/2)\n",
        "mi, ma = np.min(diff1[0]), np.max(diff1[0])\n",
        "#diff1 = 255*(diff1[0]-mi)/(ma-mi)\n",
        "plt.subplot(2, 3, 5)\n",
        "plt.imshow(np.asarray(diff1[0]*50, dtype=int))\n",
        "\n",
        "diff2 = np.absolute(image[imgNum] - adf)\n",
        "diff2 = (diff2)**(1/2)\n",
        "mi, ma = np.min(diff2[0]), np.max(diff2[0])\n",
        "#diff2 = 255*(diff2[0]-mi)/(ma-mi)\n",
        "plt.subplot(2, 3, 6)\n",
        "plt.imshow(np.asarray(diff2[0]*50, dtype=int)) #diff2[0]*10"
      ],
      "execution_count": null,
      "outputs": [
        {
          "output_type": "execute_result",
          "data": {
            "text/plain": [
              "<matplotlib.image.AxesImage at 0x7f6152a9efd0>"
            ]
          },
          "metadata": {
            "tags": []
          },
          "execution_count": 53
        },
        {
          "output_type": "display_data",
          "data": {
            "image/png": "[encoded data removed]",
            "text/plain": [
              "<Figure size 720x504 with 6 Axes>"
            ]
          },
          "metadata": {
            "tags": [],
            "needs_background": "light"
          }
        }
      ]
    },
    {
      "cell_type": "code",
      "metadata": {
        "id": "CUcwnO5lwyXz",
        "colab_type": "code",
        "colab": {}
      },
      "source": [
        "imgNum, plt.rcParams[\"figure.figsize\"] = 11, (10,7)\n",
        "\n",
        "tab = []\n",
        "\n",
        "for i in range(100) :\n",
        "  if theClassifieurs[0].predict(image[i:i+1]).argmax(axis=-1) != labelf[i:i+1] : \n",
        "    print(str(i)+\" : 0\")\n",
        "\n",
        "  if theClassifieurs[-1].predict(image[i:i+1]).argmax(axis=-1) != labelf[i:i+1] : \n",
        "    print(str(i)+\" : 30\")\n",
        "\n",
        "  foolModel = foolbox.models.KerasModel(theClassifieurs[-1], bounds=(0, 255))\n",
        "  attack = foolbox.attacks.L2BasicIterativeAttack(foolModel, distance=foolbox.distances.MeanSquaredDistance)\n",
        "  ad0 = attack(image[i:i+1], labelf[i:i+1], epsilon=5.0 , stepsize=0.06, iterations=200, return_early=True, random_start=True) \n",
        "  eqm  = tf.keras.losses.MSE(image[i:i+1]/255,ad0/255)\n",
        "  tab.append(sess.run(eqm).mean())"
      ],
      "execution_count": null,
      "outputs": []
    },
    {
      "cell_type": "code",
      "metadata": {
        "id": "srvG6Hjzn95F",
        "colab_type": "code",
        "colab": {}
      },
      "source": [
        "imgNum, plt.rcParams[\"figure.figsize\"] = 11, (10,7)\n",
        "\n",
        "tab = []\n",
        "\n",
        "for i in range(100) :\n",
        "  if theClassifieurs[0].predict(image[i:i+1]).argmax(axis=-1) != labelf[i:i+1] : \n",
        "    print(str(i)+\" : 0\")\n",
        "\n",
        "  if theClassifieurs[-1].predict(image[i:i+1]).argmax(axis=-1) != labelf[i:i+1] : \n",
        "    print(str(i)+\" : 30\")\n",
        "\n",
        "  foolModel = foolbox.models.KerasModel(theClassifieurs[-1], bounds=(0, 255))\n",
        "  attack = foolbox.attacks.L2BasicIterativeAttack(foolModel, distance=foolbox.distances.MeanSquaredDistance)\n",
        "  ad0 = attack(image[i:i+1], labelf[i:i+1], epsilon=5.0 , stepsize=0.06, iterations=200, return_early=True, random_start=True) \n",
        "  eqm  = tf.keras.losses.MSE(image[i:i+1]/255,ad0/255)\n",
        "  tab.append(sess.run(eqm).mean())"
      ],
      "execution_count": null,
      "outputs": []
    },
    {
      "cell_type": "code",
      "metadata": {
        "id": "fMZLauGjmaht",
        "colab_type": "code",
        "colab": {}
      },
      "source": [
        ""
      ],
      "execution_count": null,
      "outputs": []
    },
    {
      "cell_type": "code",
      "metadata": {
        "id": "be4Qv68dYjZj",
        "colab_type": "code",
        "colab": {}
      },
      "source": [
        "result_PGD = list(map(np.mean,sess.run([tf.keras.losses.MSE(imageTest/255,all_PGD[i]/255) for i in range(maxIter+1)])))\n",
        "result_STD = list(map(np.std ,sess.run([tf.keras.losses.MSE(imageTest/255,all_PGD[i]/255) for i in range(maxIter+1)])))\n",
        "\n",
        "error_PGD  = [np.mean(theClassifieurs[i].predict(all_PGD[i]).argmax(axis=-1) == labelTestf) for i in range(maxIter+1)]\n",
        "error_STD  = [np.std(theClassifieurs[i].predict(all_PGD[i]).argmax(axis=-1) == labelTestf) for i in range(maxIter+1)]"
      ],
      "execution_count": null,
      "outputs": []
    },
    {
      "cell_type": "code",
      "metadata": {
        "id": "YFh5odulqlsW",
        "colab_type": "code",
        "colab": {}
      },
      "source": [
        "plt.plot([i for i in range(maxIter+1)], result_PGD, 'g', label=\"Norme du signal adverse d'une attaque FGSM au classifieur k en fonction de k\")\n",
        "#plt.errorbar([i for i in range(maxIter+1)], result_PGD, yerr=result_STD, linestyle='None', capsize=3)\n",
        "#plt.plot([i for i in range(maxIter+1)], [max_eqm for i in range(maxIter+1)], 'b', label=\"Y=\"+str(max_eqm)+\" moyenne des distance avec le MinMax\")\n",
        "#plt.errorbar([i for i in range(maxIter+1)], [max_eqm for i in range(maxIter+1)], yerr=[eqm_std for i in range(maxIter+1)], fmt='.r', linestyle='None', capsize=3)\n",
        "plt.legend()"
      ],
      "execution_count": null,
      "outputs": []
    },
    {
      "cell_type": "code",
      "metadata": {
        "id": "h_NhjjBaqlsY",
        "colab_type": "code",
        "colab": {}
      },
      "source": [
        "plt.plot([i for i in range(maxIter+1)], [max_eqm for i in range(maxIter+1)], 'cyan', label=\"Y=\"+str(max_eqm))\n",
        "#plt.errorbar([i for i in range(maxIter+1)], [max_eqm for i in range(maxIter+1)], yerr=[sess.run(eqm).std() for i in range(maxIter+1)], linestyle='None', capsize=3)\n",
        "plt.legend()"
      ],
      "execution_count": null,
      "outputs": []
    },
    {
      "cell_type": "code",
      "metadata": {
        "id": "W5kYkulHEkeo",
        "colab_type": "code",
        "colab": {}
      },
      "source": [
        "plt.plot([i for i in range(maxIter+1)], error_PGD, 'g', label=\"Accuracy d'une attaque en fonction du classifieur k\")\n",
        "plt.plot([i for i in range(maxIter+1)], [np.mean(theClassifieurs[i].predict(imageTest).argmax(axis=-1) == labelTestf) for i in range(maxIter+1)], 'k', label=\"Accuracy des images de tests en fonction du classifieur k\")\n",
        "plt.plot([i for i in range(maxIter+1)], [np.mean(theClassifieurs[i].predict(image).argmax(axis=-1) == labelf) for i in range(maxIter+1)], 'm', label=\"Accuracy des image de train en fonction du classifieur k\")\n",
        "#plt.errorbar([i for i in range(maxIter+1)], error_PGD, yerr=error_STD, linestyle='None', capsize=3)\n",
        "plt.legend()\n",
        "x1,x2,y1,y2 = plt.axis()\n",
        "plt.axis((x1,x2,0,1.1))"
      ],
      "execution_count": null,
      "outputs": []
    },
    {
      "cell_type": "code",
      "metadata": {
        "id": "_1i53bTTZJdE",
        "colab_type": "code",
        "colab": {}
      },
      "source": [
        "eqm  = list(map(np.mean,sess.run(tf.keras.losses.MSE(imageTest/255,all_PGD[maxIter]/255))))\n",
        "err = theClassifieurs[maxIter].predict(all_PGD[maxIter])\n",
        "err = [err[i][labelTestf[i]] for i in range(200)]\n",
        "plt.plot(eqm, err, '.', label=\"Distance (L2 Norm)\")"
      ],
      "execution_count": null,
      "outputs": []
    }
  ]
}