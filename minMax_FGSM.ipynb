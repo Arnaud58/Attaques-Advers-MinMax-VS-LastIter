{
  "nbformat": 4,
  "nbformat_minor": 0,
  "metadata": {
    "kernelspec": {
      "name": "python3",
      "display_name": "Python 3"
    },
    "language_info": {
      "codemirror_mode": {
        "name": "ipython",
        "version": 3
      },
      "file_extension": ".py",
      "mimetype": "text/x-python",
      "name": "python",
      "nbconvert_exporter": "python",
      "pygments_lexer": "ipython3",
      "version": "3.7.4"
    },
    "colab": {
      "name": "minMax_FGSM",
      "provenance": [],
      "collapsed_sections": [
        "7OOEzQaDRPNN"
      ],
      "machine_shape": "hm"
    },
    "accelerator": "GPU"
  },
  "cells": [
    {
      "cell_type": "code",
      "metadata": {
        "id": "lzKaeA24qqoZ",
        "colab_type": "code",
        "colab": {
          "base_uri": "https://localhost:8080/",
          "height": 125
        },
        "outputId": "451ce930-5b4b-489b-9093-8d9ad6752a11"
      },
      "source": [
        "from google.colab import drive\n",
        "drive.mount('/content/gdrive', force_remount=True)"
      ],
      "execution_count": null,
      "outputs": [
        {
          "output_type": "stream",
          "text": [
            "Go to this URL in a browser: https://accounts.google.com/o/oauth2/auth?client_id=947318989803-6bn6qk8qdgf4n4g3pfee6491hc0brc4i.apps.googleusercontent.com&redirect_uri=urn%3aietf%3awg%3aoauth%3a2.0%3aoob&scope=email%20https%3a%2f%2fwww.googleapis.com%2fauth%2fdocs.test%20https%3a%2f%2fwww.googleapis.com%2fauth%2fdrive%20https%3a%2f%2fwww.googleapis.com%2fauth%2fdrive.photos.readonly%20https%3a%2f%2fwww.googleapis.com%2fauth%2fpeopleapi.readonly&response_type=code\n",
            "\n",
            "Enter your authorization code:\n",
            "··········\n",
            "Mounted at /content/gdrive\n"
          ],
          "name": "stdout"
        }
      ]
    },
    {
      "cell_type": "code",
      "metadata": {
        "id": "XxMaqVyNrwAX",
        "colab_type": "code",
        "colab": {
          "base_uri": "https://localhost:8080/",
          "height": 34
        },
        "outputId": "bf8da75d-483f-474e-c1a5-cc86a99a9c72"
      },
      "source": [
        "%tensorflow_version 1.x"
      ],
      "execution_count": null,
      "outputs": [
        {
          "output_type": "stream",
          "text": [
            "TensorFlow 1.x selected.\n"
          ],
          "name": "stdout"
        }
      ]
    },
    {
      "cell_type": "code",
      "metadata": {
        "id": "LVnWeHLmq_Yu",
        "colab_type": "code",
        "colab": {
          "base_uri": "https://localhost:8080/",
          "height": 532
        },
        "outputId": "603e6d43-c20e-4713-d820-ee7197897bd2"
      },
      "source": [
        "pip install foolbox==2.4"
      ],
      "execution_count": null,
      "outputs": [
        {
          "output_type": "stream",
          "text": [
            "Collecting foolbox==2.4\n",
            "\u001b[?25l  Downloading https://files.pythonhosted.org/packages/07/b9/422ebc4a078700e41aadb709db500acff83bbcc91091995c0cf80bd78bc4/foolbox-2.4.0.tar.gz (1.9MB)\n",
            "\u001b[K     |████████████████████████████████| 1.9MB 2.8MB/s \n",
            "\u001b[?25h  Installing build dependencies ... \u001b[?25l\u001b[?25hdone\n",
            "  Getting requirements to build wheel ... \u001b[?25l\u001b[?25hdone\n",
            "    Preparing wheel metadata ... \u001b[?25l\u001b[?25hdone\n",
            "Requirement already satisfied: setuptools in /usr/local/lib/python3.6/dist-packages (from foolbox==2.4) (49.2.0)\n",
            "Collecting GitPython\n",
            "\u001b[?25l  Downloading https://files.pythonhosted.org/packages/f9/1e/a45320cab182bf1c8656107b3d4c042e659742822fc6bff150d769a984dd/GitPython-3.1.7-py3-none-any.whl (158kB)\n",
            "\u001b[K     |████████████████████████████████| 163kB 19.2MB/s \n",
            "\u001b[?25hRequirement already satisfied: scipy in /usr/local/lib/python3.6/dist-packages (from foolbox==2.4) (1.4.1)\n",
            "Requirement already satisfied: requests in /usr/local/lib/python3.6/dist-packages (from foolbox==2.4) (2.23.0)\n",
            "Requirement already satisfied: numpy in /usr/local/lib/python3.6/dist-packages (from foolbox==2.4) (1.18.5)\n",
            "Collecting gitdb<5,>=4.0.1\n",
            "\u001b[?25l  Downloading https://files.pythonhosted.org/packages/48/11/d1800bca0a3bae820b84b7d813ad1eff15a48a64caea9c823fc8c1b119e8/gitdb-4.0.5-py3-none-any.whl (63kB)\n",
            "\u001b[K     |████████████████████████████████| 71kB 6.5MB/s \n",
            "\u001b[?25hRequirement already satisfied: chardet<4,>=3.0.2 in /usr/local/lib/python3.6/dist-packages (from requests->foolbox==2.4) (3.0.4)\n",
            "Requirement already satisfied: idna<3,>=2.5 in /usr/local/lib/python3.6/dist-packages (from requests->foolbox==2.4) (2.10)\n",
            "Requirement already satisfied: certifi>=2017.4.17 in /usr/local/lib/python3.6/dist-packages (from requests->foolbox==2.4) (2020.6.20)\n",
            "Requirement already satisfied: urllib3!=1.25.0,!=1.25.1,<1.26,>=1.21.1 in /usr/local/lib/python3.6/dist-packages (from requests->foolbox==2.4) (1.24.3)\n",
            "Collecting smmap<4,>=3.0.1\n",
            "  Downloading https://files.pythonhosted.org/packages/b0/9a/4d409a6234eb940e6a78dfdfc66156e7522262f5f2fecca07dc55915952d/smmap-3.0.4-py2.py3-none-any.whl\n",
            "Building wheels for collected packages: foolbox\n",
            "  Building wheel for foolbox (PEP 517) ... \u001b[?25l\u001b[?25hdone\n",
            "  Created wheel for foolbox: filename=foolbox-2.4.0-cp36-none-any.whl size=1926223 sha256=aabd612a7b72b6c694fb7fd4bc7cce754b28e64fd90c18c6f3f34444c36b7c75\n",
            "  Stored in directory: /root/.cache/pip/wheels/ae/5a/11/a5b42761c70dd38c674d889f6ce7edc9867d0262f95de8712b\n",
            "Successfully built foolbox\n",
            "Installing collected packages: smmap, gitdb, GitPython, foolbox\n",
            "Successfully installed GitPython-3.1.7 foolbox-2.4.0 gitdb-4.0.5 smmap-3.0.4\n"
          ],
          "name": "stdout"
        }
      ]
    },
    {
      "cell_type": "code",
      "metadata": {
        "id": "f50XD73grRlo",
        "colab_type": "code",
        "colab": {
          "base_uri": "https://localhost:8080/",
          "height": 34
        },
        "outputId": "30df5305-cd2e-48a9-e2ca-0ca2e627f96d"
      },
      "source": [
        "cd '/content/gdrive/My Drive'"
      ],
      "execution_count": null,
      "outputs": [
        {
          "output_type": "stream",
          "text": [
            "/content/gdrive/My Drive\n"
          ],
          "name": "stdout"
        }
      ]
    },
    {
      "cell_type": "code",
      "metadata": {
        "id": "u4n_b-4Rqlrk",
        "colab_type": "code",
        "colab": {
          "base_uri": "https://localhost:8080/",
          "height": 87
        },
        "outputId": "20af0944-c311-48c4-9212-53d39ad04475"
      },
      "source": [
        "import os\n",
        "import sys\n",
        "import foolbox\n",
        "import argparse\n",
        "import tensorflow as tf\n",
        "\n",
        "from classification_models.keras import Classifiers\n",
        "import numpy as np\n",
        "import matplotlib.pyplot as plt\n",
        "from random import randint\n",
        "from copy import copy\n",
        "import time\n",
        "\n",
        "print(sys.version)\n",
        "print(tf.__version__)"
      ],
      "execution_count": null,
      "outputs": [
        {
          "output_type": "stream",
          "text": [
            "Using TensorFlow backend.\n"
          ],
          "name": "stderr"
        },
        {
          "output_type": "stream",
          "text": [
            "3.6.9 (default, Jul 17 2020, 12:50:27) \n",
            "[GCC 8.4.0]\n",
            "1.15.2\n"
          ],
          "name": "stdout"
        }
      ]
    },
    {
      "cell_type": "code",
      "metadata": {
        "id": "e0r1UBguqlro",
        "colab_type": "code",
        "colab": {
          "base_uri": "https://localhost:8080/",
          "height": 34
        },
        "outputId": "a8f4bbe6-3a59-45bb-fdbd-4ed52bc8b9df"
      },
      "source": [
        "print(\"Num GPUs Available: \", len(tf.config.experimental.list_physical_devices('GPU')))"
      ],
      "execution_count": null,
      "outputs": [
        {
          "output_type": "stream",
          "text": [
            "Num GPUs Available:  1\n"
          ],
          "name": "stdout"
        }
      ]
    },
    {
      "cell_type": "markdown",
      "metadata": {
        "id": "YbaCgaSRqlrq",
        "colab_type": "text"
      },
      "source": [
        "# Train"
      ]
    },
    {
      "cell_type": "code",
      "metadata": {
        "id": "WFpQmfk7qlrq",
        "colab_type": "code",
        "colab": {}
      },
      "source": [
        "histoYK = [[] for i in range(30)]\n",
        "\n",
        "def loadCIFAR(test=False, train=False) :\n",
        "    cifar100 = tf.keras.datasets.cifar100\n",
        "    (x_train, y_train), (x_test, y_test) = cifar100.load_data()\n",
        "    '''\n",
        "    (x_train1, y_train), (x_test1, y_test) = cifar100.load_data()\n",
        "    x_train = x_train1.astype('float32') / 255\n",
        "    x_test = x_test1.astype('float32') / 255'''\n",
        "\n",
        "    image, label, labelf = [], [], []\n",
        "    if test :\n",
        "        for i in range(len(x_test)) :\n",
        "            if y_test[i] == 88 : # tigre (88) \n",
        "                label.append([0,1])\n",
        "                image.append(x_test[i])\n",
        "                labelf.append(1)\n",
        "            if y_test[i] == 42 and not train : # lion  (42)\n",
        "                label.append([1,0])\n",
        "                image.append(x_test[i])\n",
        "                labelf.append(0)\n",
        "            if y_test[i] == 90 and train: # train  (90)\n",
        "                label.append([1,0])\n",
        "                image.append(x_test[i])\n",
        "                labelf.append(0)\n",
        "    else :\n",
        "        for i in range(len(y_train)) :\n",
        "            if y_train[i] == 88 : # tigre (88) \n",
        "                label.append([0,1])\n",
        "                labelf.append(1)\n",
        "                image.append(x_train[i])\n",
        "            if y_train[i] == 42 and not train: # lion  (42)\n",
        "                label.append([1,0])\n",
        "                image.append(x_train[i])\n",
        "                labelf.append(0)\n",
        "            if y_train[i] == 90 and train: # train  (90)\n",
        "                label.append([1,0])\n",
        "                image.append(x_train[i])\n",
        "                labelf.append(0)\n",
        "\n",
        "    image = np.array(image)\n",
        "    label = np.array(label)\n",
        "    labelf = np.array(labelf)\n",
        "    return image, label, labelf\n",
        "\n",
        "def game(k,i,fks,zks,labelf) :\n",
        "    global histoYK\n",
        "    imgs = zks[:,i]\n",
        "    fMax = fks[0] #Le premier classifieur\n",
        "    maxZ = 0\n",
        "    classiNB = 0\n",
        "    \n",
        "    for ki in range(k) : # les classifeurs\n",
        "        actZ = fks[ki].predict(imgs)[0][labelf[i]] \n",
        "        if actZ>=maxZ : \n",
        "            maxZ=actZ\n",
        "            fMax = fks[ki]\n",
        "            classiNB = ki\n",
        "\n",
        "    histoYK[k-1].append(classiNB)\n",
        "\n",
        "    imgMin = fMax.predict(imgs)[:,labelf[i]].argmin()\n",
        "    yki = zks[imgMin][i]\n",
        "\n",
        "    return yki\n",
        "\n",
        "def printCPTTime(sec) :\n",
        "    sec = int(sec)\n",
        "    if sec <60 :\n",
        "        print(\"00:\"+str(sec))\n",
        "    elif sec<3600 : \n",
        "        print(str(sec//60)+\":\"+str(sec%60))\n",
        "    else :\n",
        "        reste = sec%3600\n",
        "        print(str(sec//3600)+\":\"+str(reste//60)+\":\"+str(reste%60))\n",
        "        \n",
        "def giveTime() :\n",
        "    return str(time.localtime()[3])+\":\"+str(time.localtime()[4])"
      ],
      "execution_count": null,
      "outputs": []
    },
    {
      "cell_type": "code",
      "metadata": {
        "id": "ZbJdHAi1qlrt",
        "colab_type": "code",
        "colab": {}
      },
      "source": [
        "theClassifieurs = np.array([])\n",
        "theZk = np.array([])\n",
        "theYk = np.array([])\n",
        "\n",
        "def start(kIter=10, nbEpoch=280, batchSize=256, filePath=\"modelCifar2\", TT=False) :\n",
        "    global theClassifieurs, theZk, theYk\n",
        "    ResNet18, preprocess_input = Classifiers.get('resnet18')\n",
        "    if not os.path.exists(filePath):\n",
        "        os.makedirs(filePath)\n",
        "\n",
        "    if not os.path.exists(filePath+\"/dataset\"):\n",
        "        os.makedirs(filePath+\"/dataset\")\n",
        "\n",
        "    # Charge les images\n",
        "    image, label, labelf = loadCIFAR(train=TT)\n",
        "    N = len(image)\n",
        "\n",
        "    # Creer f0\n",
        "    # f0 = tf.keras.applications.MobileNetV2(input_shape=[32,32,3], include_top=True, classes=2, weights=None) #, weights='imagenet'\n",
        "    model = ResNet18(input_shape=[32,32,3], include_top=True, classes=2, weights=None)\n",
        "    optim = tf.compat.v1.train.AdamOptimizer(1e-4)\n",
        "    loss = tf.keras.losses.MeanSquaredError() #.BinaryCrossentropy(from_logits=True)\n",
        "    model.compile(optim, loss, metrics=['accuracy'])\n",
        "    theClassifieurs = np.array([copy(model) for i in range(kIter+1)])\n",
        "\n",
        "    # Si un f0 existe déjà, le charger sinon en entrainer un\n",
        "    if os.path.exists(filePath+\"/f0\") : \n",
        "        print(giveTime()+\" >>> Load F0\")\n",
        "        theClassifieurs[0].load_weights(filePath+'/f0')\n",
        "    else :\n",
        "        print(giveTime()+\" >>> Train F0\")\n",
        "        theClassifieurs[0].fit(image, label, epochs=200, batch_size=256)\n",
        "        theClassifieurs[0].save_weights(filePath+'/f0')\n",
        "\n",
        "    # Créer Z0\n",
        "    print(giveTime()+\" >>> Create Z0\\n\\n\")\n",
        "    foolModel = foolbox.models.KerasModel(theClassifieurs[0], bounds=(0, 255))\n",
        "    attack = foolbox.attacks.GradientSignAttack(foolModel, distance=foolbox.distances.MeanSquaredDistance)\n",
        "    Z0 = image\n",
        "    np.save(filePath+\"/dataset/Z0\", Z0)\n",
        "\n",
        "    # Créer ensemble des adversaires (et y place Z0)\n",
        "    theZk = np.array([Z0])\n",
        "    theYk = np.array([])\n",
        "\n",
        "    k=1\n",
        "    while k<=kIter :\n",
        "        # Générer Zk\n",
        "        print(giveTime()+\" >>> New Iter \"+str(k)+\"/\"+str(kIter))\n",
        "        print(giveTime()+\" >>> Create Z\"+str(k)+\"\")\n",
        "        foolModel = foolbox.models.KerasModel(theClassifieurs[k-1], bounds=(0, 255))\n",
        "        attack = foolbox.attacks.GradientSignAttack(foolModel, distance=foolbox.distances.MeanSquaredDistance)\n",
        "\n",
        "        max_eps = 1\n",
        "        epss    = 2000\n",
        "        ZK = attack(image, labelf, epsilons=2000, max_epsilon=max_eps) #, epsilon=0.5 , stepsize=0.05, iterations=200, return_early=True)\n",
        "        Zk_acc = np.mean(theClassifieurs[k-1].predict(ZK).argmax(axis=-1) == labelf)\n",
        "        '''\n",
        "        while Zk_acc > 0.1 :\n",
        "          max_eps /= 10\n",
        "          print(giveTime()+\" >>> Z\"+str(k)+\" acc \"+str(Zk_acc)+\" \"+str(max_eps)+\" \"+str(epss))\n",
        "          ZK = attack(image, labelf, epsilons=2000, max_epsilon=max_eps) #, epsilon=0.5 , stepsize=0.05, iterations=200, return_early=True)\n",
        "          newZk_acc = np.mean(theClassifieurs[k-1].predict(ZK).argmax(axis=-1) == labelf)\n",
        "\n",
        "          if newZk_acc > Zk_acc :\n",
        "            epss    *= 10\n",
        "            #max_eps /= 10\n",
        "\n",
        "          Zk_acc = newZk_acc\n",
        "        '''\n",
        "        print(giveTime()+\" >>> Z\"+str(k)+\" acc \"+str(Zk_acc))\n",
        "\n",
        "        theZk = np.concatenate((theZk,[ZK]))\n",
        "        np.save(filePath+\"/dataset/Z\"+str(k), ZK)\n",
        "\n",
        "        # Jouer au jeu pour générer Yk\n",
        "        print(giveTime()+\" >>> Create Y\"+str(k)+\"\")\n",
        "        YK = np.array([])\n",
        "        for i in range(N) :\n",
        "            yki = game(k,i,theClassifieurs,theZk,labelf)\n",
        "\n",
        "            if YK.size == 0 :\n",
        "                YK = np.array([yki])\n",
        "            else :\n",
        "                YK = np.concatenate((YK,[yki]))\n",
        "                \n",
        "        np.save(filePath+\"/dataset/Y\"+str(k), YK)\n",
        "\n",
        "        Yk_acc = np.mean(theClassifieurs[k-1].predict(YK).argmax(axis=-1) == labelf)\n",
        "        print(giveTime()+\" >>> Y\"+str(k)+\" acc (k-1) \"+str(Yk_acc))\n",
        "\n",
        "        # Entraine un nouveau classifieur Fk à partir de Yk\n",
        "        print(giveTime()+\" >>> Train F\"+str(k))\n",
        "        theClassifieurs[k].compile(optim, loss, metrics=['accuracy'])\n",
        "        theClassifieurs[k].fit(YK, label, epochs=nbEpoch, batch_size=batchSize) #theClassifieurs[k].fit(np.concatenate((image,YK),axis=0), np.concatenate((label,label),axis=0), epochs=nbEpoch, batch_size=batchSize)\n",
        "        theClassifieurs[k].save_weights(filePath+'/f'+str(k))\n",
        "\n",
        "        Yk_acc = np.mean(theClassifieurs[k].predict(YK).argmax(axis=-1) == labelf)\n",
        "        print(giveTime()+\" >>> Y\"+str(k)+\" acc (k) \"+str(Yk_acc))\n",
        "\n",
        "        # Ajoute ce Yk aux autres\n",
        "        if theYk.size == 0 :\n",
        "            theYk = np.array([YK])\n",
        "        else :\n",
        "            theYk = np.concatenate((theYk,[YK]))\n",
        "\n",
        "        print(\"\\n\\n\")\n",
        "        k+=1"
      ],
      "execution_count": null,
      "outputs": []
    },
    {
      "cell_type": "code",
      "metadata": {
        "id": "RfWo_zdPclTI",
        "colab_type": "code",
        "colab": {}
      },
      "source": [
        "start(kIter=30, nbEpoch=200, filePath=\"resnetCifarTT_MINMAX_FGSM2\", TT=True) #resnetCifarTT_MINMAX_PGD"
      ],
      "execution_count": null,
      "outputs": []
    },
    {
      "cell_type": "code",
      "metadata": {
        "id": "ZwY2ll2sAXTw",
        "colab_type": "code",
        "colab": {}
      },
      "source": [
        "np.save(\"histoYK_FGSM2\", histoYK)"
      ],
      "execution_count": null,
      "outputs": []
    },
    {
      "cell_type": "markdown",
      "metadata": {
        "id": "NEZYzcLDqlrx",
        "colab_type": "text"
      },
      "source": [
        "# Test"
      ]
    },
    {
      "cell_type": "code",
      "metadata": {
        "id": "K7j9bxl2FxrY",
        "colab_type": "code",
        "colab": {}
      },
      "source": [
        "ResNet18, preprocess_input = Classifiers.get('resnet18')\n",
        "\n",
        "# Charge les images\n",
        "image, label, labelf = loadCIFAR(False,True)\n",
        "N = len(image)\n",
        "\n",
        "# Creer f0\n",
        "model = ResNet18(input_shape=[32,32,3], include_top=True, classes=2, weights=None)\n",
        "optim = tf.compat.v1.train.AdamOptimizer(1e-4)\n",
        "loss = tf.keras.losses.MeanSquaredError() #.BinaryCrossentropy(from_logits=True)\n",
        "model.compile(optim, loss, metrics=['accuracy'])\n",
        "theClassifieurs = np.array([copy(model) for i in range(30+1)])\n",
        "theClassifieurs[0].compile(optim, loss, metrics=['accuracy'])\n",
        "\n",
        "# Pré-train\n",
        "print(giveTime()+\" >>> Train F0\")\n",
        "theClassifieurs[0].fit(image, label, epochs=200, batch_size=256)"
      ],
      "execution_count": null,
      "outputs": []
    },
    {
      "cell_type": "markdown",
      "metadata": {
        "id": "I26GjzxC9Vjk",
        "colab_type": "text"
      },
      "source": [
        "# Load Data"
      ]
    },
    {
      "cell_type": "code",
      "metadata": {
        "id": "9IY4JLQZqlry",
        "colab_type": "code",
        "colab": {
          "base_uri": "https://localhost:8080/",
          "height": 52
        },
        "outputId": "433531e0-c9dd-4044-d6fe-97c59c303ae6"
      },
      "source": [
        "filePath=\"resnetCifarTT_MINMAX_FGSM2\"\n",
        "maxIter = 30\n",
        "\n",
        "image, label, labelf = loadCIFAR(train=True)\n",
        "imageTest, labelTest, labelTestf = loadCIFAR(True,True)"
      ],
      "execution_count": null,
      "outputs": [
        {
          "output_type": "stream",
          "text": [
            "Downloading data from https://www.cs.toronto.edu/~kriz/cifar-100-python.tar.gz\n",
            "169009152/169001437 [==============================] - 2s 0us/step\n"
          ],
          "name": "stdout"
        }
      ]
    },
    {
      "cell_type": "code",
      "metadata": {
        "scrolled": true,
        "id": "Np_XArZaqlr7",
        "colab_type": "code",
        "colab": {
          "base_uri": "https://localhost:8080/",
          "height": 70
        },
        "outputId": "71447fdf-e3cc-45ff-caf4-6c297ef4e870"
      },
      "source": [
        "sess = tf.InteractiveSession()\n",
        "sess.run(tf.initialize_all_variables())"
      ],
      "execution_count": null,
      "outputs": [
        {
          "output_type": "stream",
          "text": [
            "WARNING:tensorflow:From /tensorflow-1.15.2/python3.6/tensorflow_core/python/util/tf_should_use.py:198: initialize_all_variables (from tensorflow.python.ops.variables) is deprecated and will be removed after 2017-03-02.\n",
            "Instructions for updating:\n",
            "Use `tf.global_variables_initializer` instead.\n"
          ],
          "name": "stdout"
        }
      ]
    },
    {
      "cell_type": "code",
      "metadata": {
        "id": "5BbblK4lqlr0",
        "colab_type": "code",
        "colab": {}
      },
      "source": [
        "def loadDatas(iterMax) :\n",
        "    global theClassifieurs, theZk, theYk\n",
        "    ResNet18, preprocess_input = Classifiers.get('resnet18')\n",
        "    \n",
        "    f0 = ResNet18(input_shape=[32,32,3], include_top=True, classes=2, weights=None)\n",
        "    optim = tf.compat.v1.train.AdamOptimizer(1e-4)\n",
        "    f0.compile(optim, loss=tf.keras.losses.MeanSquaredError(), metrics=['accuracy'])\n",
        "    theClassifieurs = np.array([copy(f0) for i in range(maxIter+1)])\n",
        "    \n",
        "    theClassifieurs[0].load_weights(filePath+'/f'+str(0))\n",
        "    theZk = np.array([np.load(filePath+\"/dataset/Z\"+str(maxIter)+\".npy\")])\n",
        "    theYk = np.array([np.load(filePath+\"/dataset/Z\"+str(maxIter)+\".npy\")])\n",
        "    \n",
        "    for i in range(1,iterMax+1) : \n",
        "        theClassifieurs[i].load_weights(filePath+'/f'+str(i))\n",
        "        theZk = np.concatenate((theZk,np.array([np.load(filePath+\"/dataset/Z\"+str(i)+\".npy\")])))\n",
        "        theYk = np.concatenate((theYk,np.array([np.load(filePath+\"/dataset/Y\"+str(i)+\".npy\")])))"
      ],
      "execution_count": null,
      "outputs": []
    },
    {
      "cell_type": "code",
      "metadata": {
        "id": "F0z6QjFGqlr2",
        "colab_type": "code",
        "colab": {
          "base_uri": "https://localhost:8080/",
          "height": 196
        },
        "outputId": "fb09998f-2051-4468-da55-8742c64aff15"
      },
      "source": [
        "loadDatas(maxIter)"
      ],
      "execution_count": null,
      "outputs": [
        {
          "output_type": "stream",
          "text": [
            "WARNING:tensorflow:From /tensorflow-1.15.2/python3.6/tensorflow_core/python/ops/resource_variable_ops.py:1630: calling BaseResourceVariable.__init__ (from tensorflow.python.ops.resource_variable_ops) with constraint is deprecated and will be removed in a future version.\n",
            "Instructions for updating:\n",
            "If using Keras pass *_constraint arguments to layers.\n",
            "WARNING:tensorflow:From /tensorflow-1.15.2/python3.6/keras/backend/tensorflow_backend.py:4070: The name tf.nn.max_pool is deprecated. Please use tf.nn.max_pool2d instead.\n",
            "\n"
          ],
          "name": "stdout"
        },
        {
          "output_type": "stream",
          "text": [
            "/tensorflow-1.15.2/python3.6/keras/engine/saving.py:165: UserWarning: TensorFlow optimizers do not make it possible to access optimizer attributes or optimizer state after instantiation. As a result, we cannot save the optimizer as part of the model save file.You will have to compile your model again after loading it. Prefer using a Keras optimizer instead (see keras.io/optimizers).\n",
            "  'TensorFlow optimizers do not '\n",
            "/tensorflow-1.15.2/python3.6/keras/engine/saving.py:341: UserWarning: No training configuration found in save file: the model was *not* compiled. Compile it manually.\n",
            "  warnings.warn('No training configuration found in save file: '\n"
          ],
          "name": "stderr"
        }
      ]
    },
    {
      "cell_type": "markdown",
      "metadata": {
        "id": "pEgIsvgRqlr6",
        "colab_type": "text"
      },
      "source": [
        "## Distance"
      ]
    },
    {
      "cell_type": "code",
      "metadata": {
        "id": "RK7pl_-7ctX4",
        "colab_type": "code",
        "colab": {}
      },
      "source": [
        "dest_YK, dest_ZK = [], []\n",
        "Zfinal = np.load(filePath+\"/dataset/Z\"+str(maxIter)+\".npy\")\n",
        "\n",
        "Z0  = np.load(filePath+\"/dataset/Z0.npy\")\n",
        "eqm = tf.keras.losses.MSE(image/255,Z0/255)\n",
        "dest_ZK.append(sess.run(eqm).mean())\n",
        "\n",
        "for k in range(0,maxIter) :\n",
        "  Yk = np.load(filePath+\"/dataset/Y\"+str(k+1)+\".npy\")\n",
        "  eqm  = tf.keras.losses.MSE(image/255,Yk/255)\n",
        "  dest_YK.append(sess.run(eqm).mean())\n",
        "\n",
        "  Zk = np.load(filePath+\"/dataset/Z\"+str(k+1)+\".npy\")\n",
        "  eqm  = tf.keras.losses.MSE(image/255,Zk/255)\n",
        "  dest_ZK.append(sess.run(eqm).mean())"
      ],
      "execution_count": null,
      "outputs": []
    },
    {
      "cell_type": "code",
      "metadata": {
        "id": "sL-_g7DIfLMZ",
        "colab_type": "code",
        "colab": {
          "base_uri": "https://localhost:8080/",
          "height": 392
        },
        "outputId": "c40b5fad-36e1-4f20-a5be-dc25cd03aea3"
      },
      "source": [
        "plt.rcParams[\"figure.figsize\"] = (9,6)\n",
        "plt.plot([i+1 for i in range(maxIter)], dest_YK, 'r', label=\"Norme  du  signal  adverse de Yk  en  fonction  de  k.\")\n",
        "plt.plot([i for i in range(maxIter+1)], dest_ZK, 'g', label=\"Norme  du  signal  adverse de Zk  en  fonction  de  k.\")\n",
        "plt.legend()"
      ],
      "execution_count": null,
      "outputs": [
        {
          "output_type": "execute_result",
          "data": {
            "text/plain": [
              "<matplotlib.legend.Legend at 0x7f0f46fdb978>"
            ]
          },
          "metadata": {
            "tags": []
          },
          "execution_count": 19
        },
        {
          "output_type": "display_data",
          "data": {
            "image/png": "[encoded data removed]",
            "text/plain": [
              "<Figure size 648x432 with 1 Axes>"
            ]
          },
          "metadata": {
            "tags": [],
            "needs_background": "light"
          }
        }
      ]
    },
    {
      "cell_type": "code",
      "metadata": {
        "id": "4qSEiIHMP6nL",
        "colab_type": "code",
        "colab": {
          "base_uri": "https://localhost:8080/",
          "height": 34
        },
        "outputId": "45742259-b22c-43db-d1de-58852762d8f2"
      },
      "source": [
        "dest_YK[10:16]"
      ],
      "execution_count": null,
      "outputs": [
        {
          "output_type": "execute_result",
          "data": {
            "text/plain": [
              "[0.055128127, 0.056212276, 0.056809224, 0.057206534, 0.05812963, 0.058632523]"
            ]
          },
          "metadata": {
            "tags": []
          },
          "execution_count": 20
        }
      ]
    },
    {
      "cell_type": "code",
      "metadata": {
        "id": "31lSyAv4qlsF",
        "colab_type": "code",
        "colab": {}
      },
      "source": [
        "eps = 0.5\n",
        "\n",
        "a = time.time()\n",
        "print(eps)\n",
        "all_PGD = np.array([])\n",
        "for i in range(maxIter+1) :\n",
        "    foolModel = foolbox.models.KerasModel(theClassifieurs[i], bounds=(0, 255))\n",
        "    attack = foolbox.attacks.GradientSignAttack(foolModel, distance=foolbox.distances.MeanSquaredDistance)\n",
        "    PGD = attack(imageTest, labelTestf, epsilons=2000, max_epsilon=5)\n",
        "\n",
        "    if all_PGD.size == 0 :\n",
        "        all_PGD = np.array([np.copy(PGD)])\n",
        "    else :\n",
        "        all_PGD = np.concatenate((all_PGD,[np.copy(PGD)]))\n",
        "\n",
        "b = time.time()\n",
        "printCPTTime(b-a)"
      ],
      "execution_count": null,
      "outputs": []
    },
    {
      "cell_type": "code",
      "metadata": {
        "id": "JY9lQ0sJqlsI",
        "colab_type": "code",
        "colab": {}
      },
      "source": [
        "#np.save(\"eps_FGSM_test\", eps_PGD)\n",
        "# eps_PGD = np.load(\"eps_FGSM_test.npy\")"
      ],
      "execution_count": null,
      "outputs": []
    },
    {
      "cell_type": "code",
      "metadata": {
        "id": "9hen7KVSu2GO",
        "colab_type": "code",
        "colab": {}
      },
      "source": [
        "#np.save(\"histoYK_FGSM\", histoYK)\n",
        "#histoYK = np.load(\"histoYK.npy\")"
      ],
      "execution_count": null,
      "outputs": []
    },
    {
      "cell_type": "code",
      "metadata": {
        "id": "0L0Ge-Xzc3XN",
        "colab_type": "code",
        "colab": {
          "base_uri": "https://localhost:8080/",
          "height": 34
        },
        "outputId": "c4f24ec1-6fa4-4175-b6af-793ddffa5062"
      },
      "source": [
        "len(histoYK[0])"
      ],
      "execution_count": null,
      "outputs": [
        {
          "output_type": "execute_result",
          "data": {
            "text/plain": [
              "0"
            ]
          },
          "metadata": {
            "tags": []
          },
          "execution_count": 27
        }
      ]
    },
    {
      "cell_type": "code",
      "metadata": {
        "id": "6UB16UzvjFXi",
        "colab_type": "code",
        "colab": {}
      },
      "source": [
        ""
      ],
      "execution_count": null,
      "outputs": []
    },
    {
      "cell_type": "code",
      "metadata": {
        "scrolled": true,
        "id": "8obbLFc_qlsK",
        "colab_type": "code",
        "colab": {}
      },
      "source": [
        "eps_better_PGD = np.array([])\n",
        "better_PGD = np.array([])\n",
        "\n",
        "a = time.time()\n",
        "\n",
        "histoYK = [[] for i in range(maxIter)]\n",
        "theZk = np.array([all_PGD[0]])\n",
        "for k in range(1,maxIter+1) : \n",
        "  print(k)\n",
        "  theZk = np.concatenate((theZk,[all_PGD[k]]))\n",
        "  better_PGD = np.array([])\n",
        "\n",
        "  for i in range(len(imageTest)) :\n",
        "      better_image = game(k,i,theClassifieurs,all_PGD,labelTestf)\n",
        "\n",
        "      if better_PGD.size == 0 :\n",
        "          better_PGD = np.array([np.copy(better_image)])\n",
        "      else :\n",
        "          better_PGD = np.concatenate((better_PGD,[np.copy(better_image)]))\n",
        "\n",
        "  print(better_PGD.shape)\n",
        "  if eps_better_PGD.size == 0 :\n",
        "      eps_better_PGD = np.array([np.copy(better_PGD)])\n",
        "  else :\n",
        "      eps_better_PGD = np.concatenate((eps_better_PGD,[np.copy(better_PGD)]))\n",
        "\n",
        "b = time.time()\n",
        "printCPTTime(b-a) "
      ],
      "execution_count": null,
      "outputs": []
    },
    {
      "cell_type": "code",
      "metadata": {
        "id": "mUbLIt8mfqm7",
        "colab_type": "code",
        "colab": {
          "base_uri": "https://localhost:8080/",
          "height": 34
        },
        "outputId": "f2b3967b-e6c7-409f-e19b-21117212d771"
      },
      "source": [
        "eps_better_PGD.shape"
      ],
      "execution_count": null,
      "outputs": [
        {
          "output_type": "execute_result",
          "data": {
            "text/plain": [
              "(30, 200, 32, 32, 3)"
            ]
          },
          "metadata": {
            "tags": []
          },
          "execution_count": 30
        }
      ]
    },
    {
      "cell_type": "code",
      "metadata": {
        "id": "pPKBbkSz0efn",
        "colab_type": "code",
        "colab": {
          "base_uri": "https://localhost:8080/",
          "height": 1000
        },
        "outputId": "c3062e13-e2ad-4f4d-db1d-1899559a6cfd"
      },
      "source": [
        "predictN, predictT, predictYT, predictNT = [], [], [], []\n",
        "predictY, predictZ, predictZF = [], [0], []\n",
        "Zfinal = np.load(filePath+\"/dataset/Z\"+str(maxIter)+\".npy\")\n",
        "for k in range(0,maxIter+1) :    \n",
        "    predictNT.append(np.mean(theClassifieurs[k].predict(imageTest).argmax(axis=-1) == labelTestf))\n",
        "    predictN.append(np.mean(theClassifieurs[k].predict(image).argmax(axis=-1) == labelf))\n",
        "    \n",
        "    if k == 0 :\n",
        "        predictY.append(0)\n",
        "        predictT.append(predictNT[k])\n",
        "    else :\n",
        "        Yk = np.load(filePath+\"/dataset/Y\"+str(k)+\".npy\")\n",
        "        print('f'+str(k)+' load')\n",
        "        predictY.append(np.mean(theClassifieurs[k].predict(Yk).argmax(axis=-1) == labelf))\n",
        "    \n",
        "        Zk = np.load(filePath+\"/dataset/Z\"+str(k)+\".npy\")\n",
        "        print('Z'+str(k)+' load \\n')\n",
        "        predictZ.append(np.mean(theClassifieurs[k-1].predict(Zk).argmax(axis=-1) == labelf))\n",
        "        predictYT.append(np.mean(theClassifieurs[k].predict(eps_better_PGD[k-1]).argmax(axis=-1) == labelTestf))\n",
        "        #predictT.append((predictNT[k]+predictYT[k-1])/2)\n",
        "\n",
        "    predictZF.append(np.mean(theClassifieurs[k].predict(Zfinal).argmax(axis=-1) == labelf))"
      ],
      "execution_count": null,
      "outputs": [
        {
          "output_type": "stream",
          "text": [
            "f1 load\n",
            "Z1 load \n",
            "\n",
            "f2 load\n",
            "Z2 load \n",
            "\n",
            "f3 load\n",
            "Z3 load \n",
            "\n",
            "f4 load\n",
            "Z4 load \n",
            "\n",
            "f5 load\n",
            "Z5 load \n",
            "\n",
            "f6 load\n",
            "Z6 load \n",
            "\n",
            "f7 load\n",
            "Z7 load \n",
            "\n",
            "f8 load\n",
            "Z8 load \n",
            "\n",
            "f9 load\n",
            "Z9 load \n",
            "\n",
            "f10 load\n",
            "Z10 load \n",
            "\n",
            "f11 load\n",
            "Z11 load \n",
            "\n",
            "f12 load\n",
            "Z12 load \n",
            "\n",
            "f13 load\n",
            "Z13 load \n",
            "\n",
            "f14 load\n",
            "Z14 load \n",
            "\n",
            "f15 load\n",
            "Z15 load \n",
            "\n",
            "f16 load\n",
            "Z16 load \n",
            "\n",
            "f17 load\n",
            "Z17 load \n",
            "\n",
            "f18 load\n",
            "Z18 load \n",
            "\n",
            "f19 load\n",
            "Z19 load \n",
            "\n",
            "f20 load\n",
            "Z20 load \n",
            "\n",
            "f21 load\n",
            "Z21 load \n",
            "\n",
            "f22 load\n",
            "Z22 load \n",
            "\n",
            "f23 load\n",
            "Z23 load \n",
            "\n",
            "f24 load\n",
            "Z24 load \n",
            "\n",
            "f25 load\n",
            "Z25 load \n",
            "\n",
            "f26 load\n",
            "Z26 load \n",
            "\n",
            "f27 load\n",
            "Z27 load \n",
            "\n",
            "f28 load\n",
            "Z28 load \n",
            "\n",
            "f29 load\n",
            "Z29 load \n",
            "\n",
            "f30 load\n",
            "Z30 load \n",
            "\n"
          ],
          "name": "stdout"
        }
      ]
    },
    {
      "cell_type": "code",
      "metadata": {
        "id": "T0vPW0cSqlsM",
        "colab_type": "code",
        "colab": {
          "base_uri": "https://localhost:8080/",
          "height": 34
        },
        "outputId": "c1e4bf21-adb1-4d53-a050-f0add8ab60c5"
      },
      "source": [
        "theClassifieurs[0].predict(np.array(all_PGD)[:,1])[0][labelf[i]]"
      ],
      "execution_count": null,
      "outputs": [
        {
          "output_type": "execute_result",
          "data": {
            "text/plain": [
              "0.4960511"
            ]
          },
          "metadata": {
            "tags": []
          },
          "execution_count": 32
        }
      ]
    },
    {
      "cell_type": "code",
      "metadata": {
        "scrolled": true,
        "id": "ZrkEzTZHqlsO",
        "colab_type": "code",
        "colab": {
          "base_uri": "https://localhost:8080/",
          "height": 34
        },
        "outputId": "485a0e35-5267-45b3-9f62-9f7015c43b4f"
      },
      "source": [
        "## Distortion non entrainer\n",
        "eqm  = tf.keras.losses.MSE(imageTest/255,all_PGD[0]/255)\n",
        "print(sess.run(eqm).mean())"
      ],
      "execution_count": null,
      "outputs": [
        {
          "output_type": "stream",
          "text": [
            "0.012297771\n"
          ],
          "name": "stdout"
        }
      ]
    },
    {
      "cell_type": "code",
      "metadata": {
        "id": "0ucakmxnqlsQ",
        "colab_type": "code",
        "colab": {
          "base_uri": "https://localhost:8080/",
          "height": 34
        },
        "outputId": "ef7013a4-0dff-4d8e-e893-2d4289948d13"
      },
      "source": [
        "## Distortion entrainer\n",
        "eqm  = tf.keras.losses.MSE(imageTest/255,all_PGD[maxIter]/255)\n",
        "print(sess.run(eqm).mean())"
      ],
      "execution_count": null,
      "outputs": [
        {
          "output_type": "stream",
          "text": [
            "0.043812186\n"
          ],
          "name": "stdout"
        }
      ]
    },
    {
      "cell_type": "code",
      "metadata": {
        "id": "oOsfDD5cqlsS",
        "colab_type": "code",
        "colab": {
          "base_uri": "https://localhost:8080/",
          "height": 34
        },
        "outputId": "fe2b0699-40b9-4959-d83a-ab95d89203a7"
      },
      "source": [
        "## Joue Jeu\n",
        "eqm  = tf.keras.losses.MSE(imageTest/255,eps_better_PGD[4]/255)\n",
        "max_eqm  = np.mean(sess.run(eqm))\n",
        "eqm_std  = np.std(sess.run(eqm))\n",
        "print(max_eqm)"
      ],
      "execution_count": null,
      "outputs": [
        {
          "output_type": "stream",
          "text": [
            "0.042111732\n"
          ],
          "name": "stdout"
        }
      ]
    },
    {
      "cell_type": "markdown",
      "metadata": {
        "id": "B78inNoiqlsU",
        "colab_type": "text"
      },
      "source": [
        "# Plot"
      ]
    },
    {
      "cell_type": "code",
      "metadata": {
        "id": "E0YPWqt1RBnh",
        "colab_type": "code",
        "colab": {}
      },
      "source": [
        "histoYK = np.load(\"histoYK_FGSM2.npy\")"
      ],
      "execution_count": null,
      "outputs": []
    },
    {
      "cell_type": "code",
      "metadata": {
        "id": "P_cnZrWn7bMi",
        "colab_type": "code",
        "colab": {}
      },
      "source": [
        " #data2 = [[0 for i in range(maxIter)] for j in range(maxIter)]\n",
        "data = [[0 for i in range(maxIter)] for j in range(1)]\n",
        "for i in range(maxIter) :\n",
        "  print(i)\n",
        "  x = np.array(histoYK[i])\n",
        "  y = np.bincount(x)\n",
        "  ii = np.nonzero(y)[0]\n",
        "  d = dict()\n",
        "  for j in range(0,i+1) :\n",
        "    try :\n",
        "      data[j][i] = y[j]\n",
        "    except :\n",
        "      data[j][i] = 0"
      ],
      "execution_count": null,
      "outputs": []
    },
    {
      "cell_type": "code",
      "metadata": {
        "id": "IkwM9o-v6vtd",
        "colab_type": "code",
        "colab": {}
      },
      "source": [
        "plt.rcParams[\"figure.figsize\"] = (20,6)\n",
        "X = np.arange(1,maxIter+1)\n",
        "fig = plt.figure()\n",
        "ax = fig.add_axes([0,0,1,1])\n",
        "allColors = [\"b\",\"g\",\"r\",\"y\",\"orange\",\"brown\",\"mediumorchid\",\"dodgerblue\",\"forestgreen\",\"mediumblue\",\"aquamarine\",\"darkviolet\"]\n",
        "for i in range(maxIter) :\n",
        "    ax.bar(X + 1/maxIter*i, data[i], color = allColors[(i)%12], width = 1/maxIter)"
      ],
      "execution_count": null,
      "outputs": []
    },
    {
      "cell_type": "code",
      "metadata": {
        "scrolled": true,
        "id": "lrfIX0BqqlsU",
        "colab_type": "code",
        "colab": {}
      },
      "source": [
        "plt.rcParams[\"figure.figsize\"] = (9,6) #(8,5)\n",
        "plt.plot([i for i in range(maxIter+1)], predictN, 'b', label=\"Prediction Image\", dashes=[3, 4])\n",
        "plt.plot([i for i in range(maxIter+1)], predictNT, 'gold', label=\"Prediction Image Naturel Test en fonction de K\", dashes=[3, 2])\n",
        "plt.plot([i for i in range(1,maxIter+1)], predictYT, 'red', label=\"Prediction Image YTest en fonction de K\", dashes=[6, 2])\n",
        "plt.plot([i for i in range(1,maxIter+1)], predictY[1:], 'g', label=\"Prediction Yk par Fk en fonction de K\", dashes=[6, 2])\n",
        "plt.plot([i for i in range(maxIter+1)], predictZ, 'y', label=\"Prediction Zk  par Fk-1 en fonction de K\", dashes=[3, 2])\n",
        "#plt.plot([i for i in range(maxIter+1)], predictZF, 'purple', label=\"Prediction de Zk par Zfinal en fonction de K\")\n",
        "#plt.plot([i for i in range(maxIter+1)], [0.5 for i in range(maxIter+1)], 'orange', label=\"Y=0.5\")\n",
        "plt.legend()\n",
        "x1,x2,y1,y2 = plt.axis()\n",
        "plt.axis((x1,x2,0,1.1))"
      ],
      "execution_count": null,
      "outputs": []
    },
    {
      "cell_type": "markdown",
      "metadata": {
        "id": "Tv3V9m0QrQPQ",
        "colab_type": "text"
      },
      "source": [
        "# Show Image Exemple"
      ]
    },
    {
      "cell_type": "code",
      "metadata": {
        "id": "xeGFy4ouQH0N",
        "colab_type": "code",
        "colab": {
          "base_uri": "https://localhost:8080/",
          "height": 474
        },
        "outputId": "e0e55d75-1db4-4056-ab90-ae3d18296c07"
      },
      "source": [
        "imgNum, plt.rcParams[\"figure.figsize\"] = 10, (10,7)\n",
        "\n",
        "if theClassifieurs[-1].predict(image[imgNum:imgNum+1]).argmax(axis=-1) != labelf[imgNum:imgNum+1] : \n",
        "  print(\"diff\")\n",
        "\n",
        "plt.subplot(2, 3, 1)\n",
        "plt.imshow(image[imgNum])\n",
        "\n",
        "foolModel = foolbox.models.KerasModel(theClassifieurs[0], bounds=(0, 255))\n",
        "attack = foolbox.attacks.GradientSignAttack(foolModel, distance=foolbox.distances.MeanSquaredDistance)\n",
        "ad0 = attack(image[imgNum:imgNum+1], labelf[imgNum:imgNum+1], epsilons=2000, max_epsilon=1)\n",
        "plt.subplot(2, 3, 2)\n",
        "plt.imshow(np.asarray(ad0[0], dtype=int))\n",
        "\n",
        "foolModel = foolbox.models.KerasModel(theClassifieurs[maxIter], bounds=(0, 255))\n",
        "attack = foolbox.attacks.GradientSignAttack(foolModel, distance=foolbox.distances.MeanSquaredDistance)\n",
        "adf = attack(image[imgNum:imgNum+1], labelf[imgNum:imgNum+1], epsilons=2000, max_epsilon=1)\n",
        "plt.subplot(2, 3, 3)\n",
        "plt.imshow(np.asarray(adf[0], dtype=int))\n",
        "\n",
        "plt.subplot(2, 3, 4)\n",
        "plt.imshow(np.absolute(image[imgNum] - image[imgNum]))\n",
        "\n",
        "diff1 = np.absolute(image[imgNum] - ad0)\n",
        "diff1 = (diff1)**(1/2)\n",
        "mi, ma = np.min(diff1[0]), np.max(diff1[0])\n",
        "#diff1 = 255*(diff1[0]-mi)/(ma-mi)\n",
        "plt.subplot(2, 3, 5)\n",
        "plt.imshow(np.asarray(diff1[0]*50, dtype=int))\n",
        "\n",
        "diff2 = np.absolute(image[imgNum] - adf)\n",
        "diff2 = (diff2)**(1/2)\n",
        "mi, ma = np.min(diff2[0]), np.max(diff2[0])\n",
        "#diff2 = 255*(diff2[0]-mi)/(ma-mi)\n",
        "plt.subplot(2, 3, 6)\n",
        "plt.imshow(np.asarray(diff2[0]*50, dtype=int)) #diff2[0]*10"
      ],
      "execution_count": null,
      "outputs": [
        {
          "output_type": "stream",
          "text": [
            "WARNING:tensorflow:From /tensorflow-1.15.2/python3.6/keras/backend/tensorflow_backend.py:422: The name tf.global_variables is deprecated. Please use tf.compat.v1.global_variables instead.\n",
            "\n"
          ],
          "name": "stdout"
        },
        {
          "output_type": "execute_result",
          "data": {
            "text/plain": [
              "<matplotlib.image.AxesImage at 0x7f62888dcc50>"
            ]
          },
          "metadata": {
            "tags": []
          },
          "execution_count": 13
        },
        {
          "output_type": "display_data",
          "data": {
            "image/png": "[encoded data removed]",
            "text/plain": [
              "<Figure size 720x504 with 6 Axes>"
            ]
          },
          "metadata": {
            "tags": [],
            "needs_background": "light"
          }
        }
      ]
    },
    {
      "cell_type": "code",
      "metadata": {
        "id": "j99b6PGCsh8G",
        "colab_type": "code",
        "colab": {
          "base_uri": "https://localhost:8080/",
          "height": 438
        },
        "outputId": "b46a0b02-907b-4335-88ae-b48432434e56"
      },
      "source": [
        "imgNum, plt.rcParams[\"figure.figsize\"] = 1, (10,7)\n",
        "\n",
        "if theClassifieurs[-1].predict(image[imgNum:imgNum+1]).argmax(axis=-1) != labelf[imgNum:imgNum+1] : \n",
        "  print(\"diff\")\n",
        "\n",
        "plt.subplot(2, 3, 1)\n",
        "plt.imshow(image[imgNum])\n",
        "\n",
        "foolModel = foolbox.models.KerasModel(theClassifieurs[0], bounds=(0, 255))\n",
        "attack = foolbox.attacks.GradientSignAttack(foolModel, distance=foolbox.distances.MeanSquaredDistance)\n",
        "ad0 = attack(image[imgNum:imgNum+1], labelf[imgNum:imgNum+1], epsilons=2000, max_epsilon=1)\n",
        "plt.subplot(2, 3, 2)\n",
        "plt.imshow(np.asarray(ad0[0], dtype=int))\n",
        "\n",
        "foolModel = foolbox.models.KerasModel(theClassifieurs[maxIter], bounds=(0, 255))\n",
        "attack = foolbox.attacks.GradientSignAttack(foolModel, distance=foolbox.distances.MeanSquaredDistance)\n",
        "adf = attack(image[imgNum:imgNum+1], labelf[imgNum:imgNum+1], epsilons=2000, max_epsilon=1)\n",
        "plt.subplot(2, 3, 3)\n",
        "plt.imshow(np.asarray(adf[0], dtype=int))\n",
        "\n",
        "plt.subplot(2, 3, 4)\n",
        "plt.imshow(np.absolute(image[imgNum] - image[imgNum]))\n",
        "\n",
        "diff1 = np.absolute(image[imgNum] - ad0)\n",
        "mi, ma = np.min(diff1[0]), np.max(diff1[0])\n",
        "#diff1 = 255*(diff1[0]-mi)/(ma-mi)\n",
        "plt.subplot(2, 3, 5)\n",
        "plt.imshow(np.asarray(diff1[0]*10, dtype=int))\n",
        "\n",
        "diff2 = np.absolute(image[imgNum] - adf)\n",
        "mi, ma = np.min(diff2[0]), np.max(diff2[0])\n",
        "#diff2 = 255*(diff2[0]-mi)/(ma-mi)\n",
        "plt.subplot(2, 3, 6)\n",
        "plt.imshow(np.asarray(diff2[0]*10, dtype=int)) #diff2[0]*10"
      ],
      "execution_count": null,
      "outputs": [
        {
          "output_type": "execute_result",
          "data": {
            "text/plain": [
              "<matplotlib.image.AxesImage at 0x7f61e98d6e48>"
            ]
          },
          "metadata": {
            "tags": []
          },
          "execution_count": 14
        },
        {
          "output_type": "display_data",
          "data": {
            "image/png": "[encoded data removed]",
            "text/plain": [
              "<Figure size 720x504 with 6 Axes>"
            ]
          },
          "metadata": {
            "tags": [],
            "needs_background": "light"
          }
        }
      ]
    },
    {
      "cell_type": "code",
      "metadata": {
        "id": "4Y81BljbEqj3",
        "colab_type": "code",
        "colab": {}
      },
      "source": [
        "imgNum, plt.rcParams[\"figure.figsize\"] = 11, (10,7)\n",
        "\n",
        "tab = []\n",
        "\n",
        "for i in range(100) :\n",
        "  if theClassifieurs[0].predict(image[i:i+1]).argmax(axis=-1) != labelf[i:i+1] : \n",
        "    print(str(i)+\" : 0\")\n",
        "\n",
        "  if theClassifieurs[-1].predict(image[i:i+1]).argmax(axis=-1) != labelf[i:i+1] : \n",
        "    print(str(i)+\" : 30\")\n",
        "\n",
        "  foolModel = foolbox.models.KerasModel(theClassifieurs[-1], bounds=(0, 255))\n",
        "  attack = foolbox.attacks.GradientSignAttack(foolModel, distance=foolbox.distances.MeanSquaredDistance)\n",
        "  ad0 = attack(image[i:i+1], labelf[i:i+1], epsilons=2000, max_epsilon=1)\n",
        "  eqm  = tf.keras.losses.MSE(image[i:i+1]/255,ad0/255)\n",
        "  tab.append(sess.run(eqm).mean())"
      ],
      "execution_count": null,
      "outputs": []
    },
    {
      "cell_type": "code",
      "metadata": {
        "id": "be4Qv68dYjZj",
        "colab_type": "code",
        "colab": {}
      },
      "source": [
        "result_PGD = list(map(np.mean,sess.run([tf.keras.losses.MSE(imageTest/255,all_PGD[i]/255) for i in range(maxIter+1)])))\n",
        "result_STD = list(map(np.std ,sess.run([tf.keras.losses.MSE(imageTest/255,all_PGD[i]/255) for i in range(maxIter+1)])))\n",
        "\n",
        "error_PGD  = [np.mean(theClassifieurs[i].predict(all_PGD[i]).argmax(axis=-1) == labelTestf) for i in range(maxIter+1)]\n",
        "error_STD  = [np.std(theClassifieurs[i].predict(all_PGD[i]).argmax(axis=-1) == labelTestf) for i in range(maxIter+1)]"
      ],
      "execution_count": null,
      "outputs": []
    },
    {
      "cell_type": "code",
      "metadata": {
        "id": "YFh5odulqlsW",
        "colab_type": "code",
        "colab": {}
      },
      "source": [
        "plt.plot([i for i in range(maxIter+1)], result_PGD, 'g', label=\"Norme du signal adverse d'une attaque FGSM au classifieur k en fonction de k\")\n",
        "#plt.errorbar([i for i in range(maxIter+1)], result_PGD, yerr=result_STD, linestyle='None', capsize=3)\n",
        "#plt.plot([i for i in range(maxIter+1)], [max_eqm for i in range(maxIter+1)], 'b', label=\"Y=\"+str(max_eqm)+\" moyenne des distance avec le MinMax\")\n",
        "#plt.errorbar([i for i in range(maxIter+1)], [max_eqm for i in range(maxIter+1)], yerr=[eqm_std for i in range(maxIter+1)], fmt='.r', linestyle='None', capsize=3)\n",
        "plt.legend()"
      ],
      "execution_count": null,
      "outputs": []
    },
    {
      "cell_type": "code",
      "metadata": {
        "id": "h_NhjjBaqlsY",
        "colab_type": "code",
        "colab": {}
      },
      "source": [
        "plt.plot([i for i in range(maxIter+1)], [max_eqm for i in range(maxIter+1)], 'cyan', label=\"Y=\"+str(max_eqm))\n",
        "#plt.errorbar([i for i in range(maxIter+1)], [max_eqm for i in range(maxIter+1)], yerr=[sess.run(eqm).std() for i in range(maxIter+1)], linestyle='None', capsize=3)\n",
        "plt.legend()"
      ],
      "execution_count": null,
      "outputs": []
    },
    {
      "cell_type": "code",
      "metadata": {
        "id": "W5kYkulHEkeo",
        "colab_type": "code",
        "colab": {}
      },
      "source": [
        "plt.plot([i for i in range(maxIter+1)], error_PGD, 'g', label=\"Accuracy d'une attaque en fonction du classifieur k\")\n",
        "plt.plot([i for i in range(maxIter+1)], [np.mean(theClassifieurs[i].predict(imageTest).argmax(axis=-1) == labelTestf) for i in range(maxIter+1)], 'k', label=\"Accuracy des images de tests en fonction du classifieur k\")\n",
        "plt.plot([i for i in range(maxIter+1)], [np.mean(theClassifieurs[i].predict(image).argmax(axis=-1) == labelf) for i in range(maxIter+1)], 'm', label=\"Accuracy des image de train en fonction du classifieur k\")\n",
        "#plt.errorbar([i for i in range(maxIter+1)], error_PGD, yerr=error_STD, linestyle='None', capsize=3)\n",
        "plt.legend()\n",
        "x1,x2,y1,y2 = plt.axis()\n",
        "plt.axis((x1,x2,0,1.1))"
      ],
      "execution_count": null,
      "outputs": []
    },
    {
      "cell_type": "code",
      "metadata": {
        "id": "_1i53bTTZJdE",
        "colab_type": "code",
        "colab": {}
      },
      "source": [
        "eqm  = list(map(np.mean,sess.run(tf.keras.losses.MSE(imageTest/255,all_PGD[maxIter]/255))))\n",
        "err = theClassifieurs[maxIter].predict(all_PGD[maxIter])\n",
        "err = [err[i][labelTestf[i]] for i in range(200)]\n",
        "plt.plot(eqm, err, '.', label=\"Distance (L2 Norm)\")"
      ],
      "execution_count": null,
      "outputs": []
    },
    {
      "cell_type": "code",
      "metadata": {
        "id": "Lj5AenFwhMqK",
        "colab_type": "code",
        "colab": {}
      },
      "source": [
        ""
      ],
      "execution_count": null,
      "outputs": []
    }
  ]
}