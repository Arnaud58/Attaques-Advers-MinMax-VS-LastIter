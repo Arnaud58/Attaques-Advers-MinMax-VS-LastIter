{
  "nbformat": 4,
  "nbformat_minor": 0,
  "metadata": {
    "kernelspec": {
      "display_name": "Python 3",
      "language": "python",
      "name": "python3"
    },
    "language_info": {
      "codemirror_mode": {
        "name": "ipython",
        "version": 3
      },
      "file_extension": ".py",
      "mimetype": "text/x-python",
      "name": "python",
      "nbconvert_exporter": "python",
      "pygments_lexer": "ipython3",
      "version": "3.7.4"
    },
    "colab": {
      "name": "madry_FGSM.ipynb",
      "provenance": [],
      "collapsed_sections": []
    },
    "accelerator": "GPU"
  },
  "cells": [
    {
      "cell_type": "code",
      "metadata": {
        "id": "GiDYwkMkXhqd",
        "colab_type": "code",
        "colab": {
          "base_uri": "https://localhost:8080/",
          "height": 125
        },
        "outputId": "b845e3c1-60af-4d2b-f4dc-179b084540a1"
      },
      "source": [
        "from google.colab import drive\n",
        "drive.mount('/content/gdrive', force_remount=True)"
      ],
      "execution_count": null,
      "outputs": [
        {
          "output_type": "stream",
          "text": [
            "Go to this URL in a browser: https://accounts.google.com/o/oauth2/auth?client_id=947318989803-6bn6qk8qdgf4n4g3pfee6491hc0brc4i.apps.googleusercontent.com&redirect_uri=urn%3aietf%3awg%3aoauth%3a2.0%3aoob&scope=email%20https%3a%2f%2fwww.googleapis.com%2fauth%2fdocs.test%20https%3a%2f%2fwww.googleapis.com%2fauth%2fdrive%20https%3a%2f%2fwww.googleapis.com%2fauth%2fdrive.photos.readonly%20https%3a%2f%2fwww.googleapis.com%2fauth%2fpeopleapi.readonly&response_type=code\n",
            "\n",
            "Enter your authorization code:\n",
            "··········\n",
            "Mounted at /content/gdrive\n"
          ],
          "name": "stdout"
        }
      ]
    },
    {
      "cell_type": "code",
      "metadata": {
        "id": "YYV3fN9FXhnK",
        "colab_type": "code",
        "colab": {
          "base_uri": "https://localhost:8080/",
          "height": 34
        },
        "outputId": "e05fdc2f-4ca0-4426-ad13-d53ebfd92cf9"
      },
      "source": [
        "%tensorflow_version 1.x"
      ],
      "execution_count": null,
      "outputs": [
        {
          "output_type": "stream",
          "text": [
            "TensorFlow 1.x selected.\n"
          ],
          "name": "stdout"
        }
      ]
    },
    {
      "cell_type": "code",
      "metadata": {
        "id": "s1-oG74_XhkO",
        "colab_type": "code",
        "colab": {
          "base_uri": "https://localhost:8080/",
          "height": 532
        },
        "outputId": "f27d445b-f83d-4924-964e-d878438bf68f"
      },
      "source": [
        "pip install foolbox==2.4"
      ],
      "execution_count": null,
      "outputs": [
        {
          "output_type": "stream",
          "text": [
            "Collecting foolbox==2.4\n",
            "\u001b[?25l  Downloading https://files.pythonhosted.org/packages/07/b9/422ebc4a078700e41aadb709db500acff83bbcc91091995c0cf80bd78bc4/foolbox-2.4.0.tar.gz (1.9MB)\n",
            "\u001b[K     |████████████████████████████████| 1.9MB 1.4MB/s \n",
            "\u001b[?25h  Installing build dependencies ... \u001b[?25l\u001b[?25hdone\n",
            "  Getting requirements to build wheel ... \u001b[?25l\u001b[?25hdone\n",
            "    Preparing wheel metadata ... \u001b[?25l\u001b[?25hdone\n",
            "Requirement already satisfied: numpy in /usr/local/lib/python3.6/dist-packages (from foolbox==2.4) (1.18.5)\n",
            "Collecting GitPython\n",
            "\u001b[?25l  Downloading https://files.pythonhosted.org/packages/f9/1e/a45320cab182bf1c8656107b3d4c042e659742822fc6bff150d769a984dd/GitPython-3.1.7-py3-none-any.whl (158kB)\n",
            "\u001b[K     |████████████████████████████████| 163kB 10.3MB/s \n",
            "\u001b[?25hRequirement already satisfied: requests in /usr/local/lib/python3.6/dist-packages (from foolbox==2.4) (2.23.0)\n",
            "Requirement already satisfied: scipy in /usr/local/lib/python3.6/dist-packages (from foolbox==2.4) (1.4.1)\n",
            "Requirement already satisfied: setuptools in /usr/local/lib/python3.6/dist-packages (from foolbox==2.4) (49.2.0)\n",
            "Collecting gitdb<5,>=4.0.1\n",
            "\u001b[?25l  Downloading https://files.pythonhosted.org/packages/48/11/d1800bca0a3bae820b84b7d813ad1eff15a48a64caea9c823fc8c1b119e8/gitdb-4.0.5-py3-none-any.whl (63kB)\n",
            "\u001b[K     |████████████████████████████████| 71kB 5.7MB/s \n",
            "\u001b[?25hRequirement already satisfied: certifi>=2017.4.17 in /usr/local/lib/python3.6/dist-packages (from requests->foolbox==2.4) (2020.6.20)\n",
            "Requirement already satisfied: urllib3!=1.25.0,!=1.25.1,<1.26,>=1.21.1 in /usr/local/lib/python3.6/dist-packages (from requests->foolbox==2.4) (1.24.3)\n",
            "Requirement already satisfied: idna<3,>=2.5 in /usr/local/lib/python3.6/dist-packages (from requests->foolbox==2.4) (2.10)\n",
            "Requirement already satisfied: chardet<4,>=3.0.2 in /usr/local/lib/python3.6/dist-packages (from requests->foolbox==2.4) (3.0.4)\n",
            "Collecting smmap<4,>=3.0.1\n",
            "  Downloading https://files.pythonhosted.org/packages/b0/9a/4d409a6234eb940e6a78dfdfc66156e7522262f5f2fecca07dc55915952d/smmap-3.0.4-py2.py3-none-any.whl\n",
            "Building wheels for collected packages: foolbox\n",
            "  Building wheel for foolbox (PEP 517) ... \u001b[?25l\u001b[?25hdone\n",
            "  Created wheel for foolbox: filename=foolbox-2.4.0-cp36-none-any.whl size=1926223 sha256=f964719fa65ea1615360984dd1649ba6eac77976309ff60999c4294f8ba416af\n",
            "  Stored in directory: /root/.cache/pip/wheels/ae/5a/11/a5b42761c70dd38c674d889f6ce7edc9867d0262f95de8712b\n",
            "Successfully built foolbox\n",
            "Installing collected packages: smmap, gitdb, GitPython, foolbox\n",
            "Successfully installed GitPython-3.1.7 foolbox-2.4.0 gitdb-4.0.5 smmap-3.0.4\n"
          ],
          "name": "stdout"
        }
      ]
    },
    {
      "cell_type": "code",
      "metadata": {
        "id": "m18UZzSOX-9W",
        "colab_type": "code",
        "colab": {
          "base_uri": "https://localhost:8080/",
          "height": 34
        },
        "outputId": "16a3d1d6-2226-495e-81a6-37a5e0565e6f"
      },
      "source": [
        "cd '/content/gdrive/My Drive'"
      ],
      "execution_count": null,
      "outputs": [
        {
          "output_type": "stream",
          "text": [
            "/content/gdrive/My Drive\n"
          ],
          "name": "stdout"
        }
      ]
    },
    {
      "cell_type": "code",
      "metadata": {
        "id": "pgjDDYEMXSWE",
        "colab_type": "code",
        "colab": {
          "base_uri": "https://localhost:8080/",
          "height": 87
        },
        "outputId": "a7e4b712-6a5f-48ab-f955-75de91e79cae"
      },
      "source": [
        "import os\n",
        "import sys\n",
        "import foolbox\n",
        "import argparse\n",
        "import tensorflow as tf\n",
        "\n",
        "from classification_models.keras import Classifiers\n",
        "import numpy as np\n",
        "import matplotlib.pyplot as plt\n",
        "from random import randint\n",
        "from copy import copy\n",
        "import time\n",
        "\n",
        "print(sys.version)\n",
        "print(tf.__version__)\n",
        "\n",
        "from keras.applications.resnet50 import ResNet50"
      ],
      "execution_count": null,
      "outputs": [
        {
          "output_type": "stream",
          "text": [
            "Using TensorFlow backend.\n"
          ],
          "name": "stderr"
        },
        {
          "output_type": "stream",
          "text": [
            "3.6.9 (default, Jul 17 2020, 12:50:27) \n",
            "[GCC 8.4.0]\n",
            "1.15.2\n"
          ],
          "name": "stdout"
        }
      ]
    },
    {
      "cell_type": "code",
      "metadata": {
        "id": "-oQmusdeXSWH",
        "colab_type": "code",
        "colab": {
          "base_uri": "https://localhost:8080/",
          "height": 34
        },
        "outputId": "fd238289-2301-446a-c62f-72bea615b576"
      },
      "source": [
        "print(\"Num GPUs Available: \", len(tf.config.experimental.list_physical_devices('GPU')))"
      ],
      "execution_count": null,
      "outputs": [
        {
          "output_type": "stream",
          "text": [
            "Num GPUs Available:  1\n"
          ],
          "name": "stdout"
        }
      ]
    },
    {
      "cell_type": "code",
      "metadata": {
        "id": "rnZ6YoEmXSWK",
        "colab_type": "code",
        "colab": {}
      },
      "source": [
        "def loadCIFAR(test=False, train=False) :\n",
        "    cifar100 = tf.keras.datasets.cifar100\n",
        "    (x_train, y_train), (x_test, y_test) = cifar100.load_data()\n",
        "    '''\n",
        "    (x_train1, y_train), (x_test1, y_test) = cifar100.load_data()\n",
        "    x_train = x_train1.astype('float32') / 255\n",
        "    x_test = x_test1.astype('float32') / 255'''\n",
        "\n",
        "    image, label, labelf = [], [], []\n",
        "    if test :\n",
        "        for i in range(len(x_test)) :\n",
        "            if y_test[i] == 88 : # tigre (88) \n",
        "                label.append([0,1])\n",
        "                image.append(x_test[i])\n",
        "                labelf.append(1)\n",
        "            if y_test[i] == 42 and not train : # lion  (42)\n",
        "                label.append([1,0])\n",
        "                image.append(x_test[i])\n",
        "                labelf.append(0)\n",
        "            if y_test[i] == 90 and train: # train  (90)\n",
        "                label.append([1,0])\n",
        "                image.append(x_test[i])\n",
        "                labelf.append(0)\n",
        "    else :\n",
        "        for i in range(len(y_train)) :\n",
        "            if y_train[i] == 88 : # tigre (88) \n",
        "                label.append([0,1])\n",
        "                labelf.append(1)\n",
        "                image.append(x_train[i])\n",
        "            if y_train[i] == 42 and not train: # lion  (42)\n",
        "                label.append([1,0])\n",
        "                image.append(x_train[i])\n",
        "                labelf.append(0)\n",
        "            if y_train[i] == 90 and train: # train  (90)\n",
        "                label.append([1,0])\n",
        "                image.append(x_train[i])\n",
        "                labelf.append(0)\n",
        "\n",
        "    image = np.array(image)\n",
        "    label = np.array(label)\n",
        "    labelf = np.array(labelf)\n",
        "    return image, label, labelf\n",
        "\n",
        "def printCPTTime(sec) :\n",
        "    sec = int(sec)\n",
        "    if sec <60 :\n",
        "        print(\"00:\"+str(sec))\n",
        "    elif sec<3600 : \n",
        "        print(str(sec//60)+\":\"+str(sec%60))\n",
        "    else :\n",
        "        reste = sec%3600\n",
        "        print(str(sec//3600)+\":\"+str(reste//60)+\":\"+str(reste%60))\n",
        "    \n",
        "def giveTime() :\n",
        "    return str(time.localtime()[3])+\":\"+str(time.localtime()[4])"
      ],
      "execution_count": null,
      "outputs": []
    },
    {
      "cell_type": "code",
      "metadata": {
        "id": "DKwqjsxfXSWN",
        "colab_type": "code",
        "colab": {}
      },
      "source": [
        "beforeTrain, afterTrain = np.array([]), np.array([])\n",
        "attackK = np.array([])\n",
        "\n",
        "def start(kIter=500, lastK=1, nbEpoch=2, batchSize=256, filePath=\"modelCifar2\", TT=False) :\n",
        "    global beforeTrain, afterTrain, attackK\n",
        "    ResNet18, preprocess_input = Classifiers.get('resnet18')\n",
        "    if not os.path.exists(filePath):\n",
        "        os.makedirs(filePath)\n",
        "\n",
        "    if not os.path.exists(filePath+\"/dataset\"):\n",
        "        os.makedirs(filePath+\"/dataset\")\n",
        "\n",
        "    # Charge les images\n",
        "    image, label, labelf = loadCIFAR(False,TT)\n",
        "    N = len(image)\n",
        "\n",
        "    # Creer le modèle\n",
        "    # model = ResNet50(input_shape=[32,32,3], include_top=True, classes=2, weights=None)\n",
        "    model = ResNet18(input_shape=[32,32,3], include_top=True, classes=2, weights=None)\n",
        "    optim = tf.compat.v1.train.AdamOptimizer(1e-4)\n",
        "    loss = tf.keras.losses.MeanSquaredError()\n",
        "    model.compile(optim, loss, metrics=['accuracy'])\n",
        "\n",
        "    # Si un model existe déjà, le charger sinon en entrainer un\n",
        "    if os.path.exists(filePath+\"/Madry\"+str(lastK)) :\n",
        "        print(giveTime()+\" >>> Load Madry\")\n",
        "        model.load_weights(filePath+'/Madry'+str(lastK))\n",
        "    else :\n",
        "        print(giveTime()+\" >>> Train Madry\")\n",
        "        model.fit(image, label, epochs=200, batch_size=256)\n",
        "        model.save_weights(filePath+'/Madry0')\n",
        "    \n",
        "    \n",
        "    k=lastK+1\n",
        "    while k<=kIter :\n",
        "        print(giveTime()+\" >>> New Iter \"+str(k)+\"/\"+str(kIter))\n",
        "        \n",
        "        nbBatch = int(N/batchSize)\n",
        "        \n",
        "        for i in range(nbBatch) :\n",
        "            batch = image[i*batchSize:i*batchSize+batchSize]\n",
        "            \n",
        "            # Générer FGSM images\n",
        "            print(\" >>> Generate new FGSM pictures \"+str(i))\n",
        "            foolModel = foolbox.models.KerasModel(model, bounds=(0, 255))\n",
        "            attack = foolbox.attacks.GradientSignAttack(foolModel, distance=foolbox.distances.MeanSquaredDistance)\n",
        "            FGSM = attack(image[i*batchSize:i*batchSize+batchSize], labelf[i*batchSize:i*batchSize+batchSize], epsilons=2000, max_epsilon=1)\n",
        "            \n",
        "            FGSM_acc = np.mean(model.predict(FGSM).argmax(axis=-1) == labelf[i*batchSize:i*batchSize+batchSize])\n",
        "            print(giveTime()+\" >>> FGSM\"+str(nbBatch*k+i)+\" acc \"+str(FGSM_acc))\n",
        "            np.save(filePath+\"/dataset/FGSM\"+str(nbBatch*k+i), FGSM)\n",
        "\n",
        "            print(giveTime()+\" >>> Fit \")\n",
        "            model.fit(FGSM,label[i*batchSize:i*batchSize+batchSize], epochs=nbEpoch, batch_size=batchSize)\n",
        "        \n",
        "        model.save_weights(filePath+'/Madry'+str(k))\n",
        "\n",
        "        k+=1"
      ],
      "execution_count": null,
      "outputs": []
    },
    {
      "cell_type": "code",
      "metadata": {
        "id": "YAOKk5fFXSWQ",
        "colab_type": "code",
        "colab": {}
      },
      "source": [
        "start(kIter=30, lastK=29, filePath=\"resnetCifarTT_Madry_FGSM2\", nbEpoch=1, TT=True, batchSize=50)"
      ],
      "execution_count": null,
      "outputs": []
    },
    {
      "cell_type": "markdown",
      "metadata": {
        "id": "p4EwKizVXSWX",
        "colab_type": "text"
      },
      "source": [
        "# Test"
      ]
    },
    {
      "cell_type": "code",
      "metadata": {
        "id": "kfUVU5VxyVdW",
        "colab_type": "code",
        "colab": {
          "base_uri": "https://localhost:8080/",
          "height": 1000
        },
        "outputId": "e95a8411-3cda-435a-b201-a501b47c24a6"
      },
      "source": [
        "ResNet18, preprocess_input = Classifiers.get('resnet18')\n",
        "\n",
        "# Charge les images\n",
        "image, label, labelf = loadCIFAR(False,True)\n",
        "N = len(image)\n",
        "\n",
        "# Creer f0\n",
        "# f0 = tf.keras.applications.MobileNetV2(input_shape=[32,32,3], include_top=True, classes=2, weights=None) #, weights='imagenet'\n",
        "model = ResNet18(input_shape=[32,32,3], include_top=True, classes=2, weights=None)\n",
        "optim = tf.compat.v1.train.AdamOptimizer(1e-4)\n",
        "loss = tf.keras.losses.MeanSquaredError() #.BinaryCrossentropy(from_logits=True)\n",
        "model.compile(optim, loss, metrics=['accuracy'])\n",
        "theClassifieurs = np.array([copy(model) for i in range(30+1)])\n",
        "theClassifieurs[0].compile(optim, loss, metrics=['accuracy'])\n",
        "\n",
        "print(giveTime()+\" >>> Train F0\")\n",
        "theClassifieurs[0].fit(image, label, epochs=200, batch_size=256)"
      ],
      "execution_count": null,
      "outputs": [
        {
          "output_type": "stream",
          "text": [
            "Downloading data from https://www.cs.toronto.edu/~kriz/cifar-100-python.tar.gz\n",
            "169009152/169001437 [==============================] - 11s 0us/step\n",
            "WARNING:tensorflow:From /tensorflow-1.15.2/python3.6/tensorflow_core/python/ops/resource_variable_ops.py:1630: calling BaseResourceVariable.__init__ (from tensorflow.python.ops.resource_variable_ops) with constraint is deprecated and will be removed in a future version.\n",
            "Instructions for updating:\n",
            "If using Keras pass *_constraint arguments to layers.\n",
            "WARNING:tensorflow:From /tensorflow-1.15.2/python3.6/keras/backend/tensorflow_backend.py:4070: The name tf.nn.max_pool is deprecated. Please use tf.nn.max_pool2d instead.\n",
            "\n"
          ],
          "name": "stdout"
        },
        {
          "output_type": "stream",
          "text": [
            "/tensorflow-1.15.2/python3.6/keras/engine/saving.py:165: UserWarning: TensorFlow optimizers do not make it possible to access optimizer attributes or optimizer state after instantiation. As a result, we cannot save the optimizer as part of the model save file.You will have to compile your model again after loading it. Prefer using a Keras optimizer instead (see keras.io/optimizers).\n",
            "  'TensorFlow optimizers do not '\n",
            "/tensorflow-1.15.2/python3.6/keras/engine/saving.py:341: UserWarning: No training configuration found in save file: the model was *not* compiled. Compile it manually.\n",
            "  warnings.warn('No training configuration found in save file: '\n"
          ],
          "name": "stderr"
        },
        {
          "output_type": "stream",
          "text": [
            "6:33 >>> Train F0\n",
            "WARNING:tensorflow:From /tensorflow-1.15.2/python3.6/keras/backend/tensorflow_backend.py:422: The name tf.global_variables is deprecated. Please use tf.compat.v1.global_variables instead.\n",
            "\n",
            "WARNING:tensorflow:From /tensorflow-1.15.2/python3.6/keras/backend/tensorflow_backend.py:431: The name tf.is_variable_initialized is deprecated. Please use tf.compat.v1.is_variable_initialized instead.\n",
            "\n",
            "WARNING:tensorflow:From /tensorflow-1.15.2/python3.6/keras/backend/tensorflow_backend.py:438: The name tf.variables_initializer is deprecated. Please use tf.compat.v1.variables_initializer instead.\n",
            "\n",
            "Epoch 1/200\n",
            "1000/1000 [==============================] - 12s 12ms/step - loss: 0.2118 - accuracy: 0.6700\n",
            "Epoch 2/200\n",
            "1000/1000 [==============================] - 1s 530us/step - loss: 0.0724 - accuracy: 0.8980\n",
            "Epoch 3/200\n",
            "1000/1000 [==============================] - 1s 522us/step - loss: 0.0285 - accuracy: 0.9730\n",
            "Epoch 4/200\n",
            "1000/1000 [==============================] - 1s 522us/step - loss: 0.0145 - accuracy: 0.9930\n",
            "Epoch 5/200\n",
            "1000/1000 [==============================] - 1s 522us/step - loss: 0.0089 - accuracy: 0.9950\n",
            "Epoch 6/200\n",
            "1000/1000 [==============================] - 1s 528us/step - loss: 0.0047 - accuracy: 0.9980\n",
            "Epoch 7/200\n",
            "1000/1000 [==============================] - 1s 524us/step - loss: 0.0026 - accuracy: 0.9990\n",
            "Epoch 8/200\n",
            "1000/1000 [==============================] - 1s 520us/step - loss: 0.0018 - accuracy: 0.9990\n",
            "Epoch 9/200\n",
            "1000/1000 [==============================] - 1s 521us/step - loss: 0.0018 - accuracy: 0.9990\n",
            "Epoch 10/200\n",
            "1000/1000 [==============================] - 1s 519us/step - loss: 0.0016 - accuracy: 0.9990\n",
            "Epoch 11/200\n",
            "1000/1000 [==============================] - 1s 518us/step - loss: 0.0014 - accuracy: 0.9990\n",
            "Epoch 12/200\n",
            "1000/1000 [==============================] - 1s 522us/step - loss: 0.0013 - accuracy: 0.9990\n",
            "Epoch 13/200\n",
            "1000/1000 [==============================] - 1s 522us/step - loss: 0.0013 - accuracy: 0.9990\n",
            "Epoch 14/200\n",
            "1000/1000 [==============================] - 1s 523us/step - loss: 0.0012 - accuracy: 0.9990\n",
            "Epoch 15/200\n",
            "1000/1000 [==============================] - 1s 520us/step - loss: 0.0012 - accuracy: 0.9990\n",
            "Epoch 16/200\n",
            "1000/1000 [==============================] - 1s 521us/step - loss: 0.0011 - accuracy: 0.9990\n",
            "Epoch 17/200\n",
            "1000/1000 [==============================] - 1s 533us/step - loss: 0.0011 - accuracy: 0.9990\n",
            "Epoch 18/200\n",
            "1000/1000 [==============================] - 1s 518us/step - loss: 0.0011 - accuracy: 0.9990\n",
            "Epoch 19/200\n",
            "1000/1000 [==============================] - 1s 522us/step - loss: 3.9748e-04 - accuracy: 1.0000\n",
            "Epoch 20/200\n",
            "1000/1000 [==============================] - 1s 519us/step - loss: 1.1990e-04 - accuracy: 1.0000\n",
            "Epoch 21/200\n",
            "1000/1000 [==============================] - 1s 520us/step - loss: 1.0792e-04 - accuracy: 1.0000\n",
            "Epoch 22/200\n",
            "1000/1000 [==============================] - 1s 534us/step - loss: 1.2342e-04 - accuracy: 1.0000\n",
            "Epoch 23/200\n",
            "1000/1000 [==============================] - 1s 522us/step - loss: 9.3812e-05 - accuracy: 1.0000\n",
            "Epoch 24/200\n",
            "1000/1000 [==============================] - 1s 523us/step - loss: 1.1239e-04 - accuracy: 1.0000\n",
            "Epoch 25/200\n",
            "1000/1000 [==============================] - 1s 521us/step - loss: 8.6738e-05 - accuracy: 1.0000\n",
            "Epoch 26/200\n",
            "1000/1000 [==============================] - 1s 520us/step - loss: 9.0819e-05 - accuracy: 1.0000\n",
            "Epoch 27/200\n",
            "1000/1000 [==============================] - 1s 520us/step - loss: 1.0920e-04 - accuracy: 1.0000\n",
            "Epoch 28/200\n",
            "1000/1000 [==============================] - 1s 521us/step - loss: 7.9969e-05 - accuracy: 1.0000\n",
            "Epoch 29/200\n",
            "1000/1000 [==============================] - 1s 522us/step - loss: 8.8666e-05 - accuracy: 1.0000\n",
            "Epoch 30/200\n",
            "1000/1000 [==============================] - 1s 527us/step - loss: 1.1003e-04 - accuracy: 1.0000\n",
            "Epoch 31/200\n",
            "1000/1000 [==============================] - 1s 525us/step - loss: 6.3316e-05 - accuracy: 1.0000\n",
            "Epoch 32/200\n",
            "1000/1000 [==============================] - 1s 526us/step - loss: 1.1029e-04 - accuracy: 1.0000\n",
            "Epoch 33/200\n",
            "1000/1000 [==============================] - 1s 519us/step - loss: 5.8683e-05 - accuracy: 1.0000\n",
            "Epoch 34/200\n",
            "1000/1000 [==============================] - 1s 521us/step - loss: 8.1583e-05 - accuracy: 1.0000\n",
            "Epoch 35/200\n",
            "1000/1000 [==============================] - 1s 520us/step - loss: 6.3072e-05 - accuracy: 1.0000\n",
            "Epoch 36/200\n",
            "1000/1000 [==============================] - 1s 523us/step - loss: 4.3883e-05 - accuracy: 1.0000\n",
            "Epoch 37/200\n",
            "1000/1000 [==============================] - 1s 522us/step - loss: 1.0004e-04 - accuracy: 1.0000\n",
            "Epoch 38/200\n",
            "1000/1000 [==============================] - 1s 521us/step - loss: 5.9229e-05 - accuracy: 1.0000\n",
            "Epoch 39/200\n",
            "1000/1000 [==============================] - 1s 523us/step - loss: 6.4969e-05 - accuracy: 1.0000\n",
            "Epoch 40/200\n",
            "1000/1000 [==============================] - 1s 525us/step - loss: 7.8452e-05 - accuracy: 1.0000\n",
            "Epoch 41/200\n",
            "1000/1000 [==============================] - 1s 522us/step - loss: 5.9866e-05 - accuracy: 1.0000\n",
            "Epoch 42/200\n",
            "1000/1000 [==============================] - 1s 520us/step - loss: 6.2808e-05 - accuracy: 1.0000\n",
            "Epoch 43/200\n",
            "1000/1000 [==============================] - 1s 523us/step - loss: 4.0663e-05 - accuracy: 1.0000\n",
            "Epoch 44/200\n",
            "1000/1000 [==============================] - 1s 518us/step - loss: 3.5747e-05 - accuracy: 1.0000\n",
            "Epoch 45/200\n",
            "1000/1000 [==============================] - 1s 524us/step - loss: 3.5117e-05 - accuracy: 1.0000\n",
            "Epoch 46/200\n",
            "1000/1000 [==============================] - 1s 519us/step - loss: 3.8486e-05 - accuracy: 1.0000\n",
            "Epoch 47/200\n",
            "1000/1000 [==============================] - 1s 524us/step - loss: 4.0275e-05 - accuracy: 1.0000\n",
            "Epoch 48/200\n",
            "1000/1000 [==============================] - 1s 519us/step - loss: 3.1359e-05 - accuracy: 1.0000\n",
            "Epoch 49/200\n",
            "1000/1000 [==============================] - 1s 524us/step - loss: 3.1402e-05 - accuracy: 1.0000\n",
            "Epoch 50/200\n",
            "1000/1000 [==============================] - 1s 525us/step - loss: 3.4761e-05 - accuracy: 1.0000\n",
            "Epoch 51/200\n",
            "1000/1000 [==============================] - 1s 520us/step - loss: 4.4687e-05 - accuracy: 1.0000\n",
            "Epoch 52/200\n",
            "1000/1000 [==============================] - 1s 523us/step - loss: 3.7753e-05 - accuracy: 1.0000\n",
            "Epoch 53/200\n",
            "1000/1000 [==============================] - 1s 524us/step - loss: 3.2374e-05 - accuracy: 1.0000\n",
            "Epoch 54/200\n",
            "1000/1000 [==============================] - 1s 526us/step - loss: 4.1070e-05 - accuracy: 1.0000\n",
            "Epoch 55/200\n",
            "1000/1000 [==============================] - 1s 521us/step - loss: 2.6685e-05 - accuracy: 1.0000\n",
            "Epoch 56/200\n",
            "1000/1000 [==============================] - 1s 521us/step - loss: 2.8704e-05 - accuracy: 1.0000\n",
            "Epoch 57/200\n",
            "1000/1000 [==============================] - 1s 526us/step - loss: 3.1683e-05 - accuracy: 1.0000\n",
            "Epoch 58/200\n",
            "1000/1000 [==============================] - 1s 526us/step - loss: 2.8717e-05 - accuracy: 1.0000\n",
            "Epoch 59/200\n",
            "1000/1000 [==============================] - 1s 527us/step - loss: 2.8651e-05 - accuracy: 1.0000\n",
            "Epoch 60/200\n",
            "1000/1000 [==============================] - 1s 528us/step - loss: 2.6132e-05 - accuracy: 1.0000\n",
            "Epoch 61/200\n",
            "1000/1000 [==============================] - 1s 522us/step - loss: 3.0928e-05 - accuracy: 1.0000\n",
            "Epoch 62/200\n",
            "1000/1000 [==============================] - 1s 528us/step - loss: 3.1870e-05 - accuracy: 1.0000\n",
            "Epoch 63/200\n",
            "1000/1000 [==============================] - 1s 526us/step - loss: 2.6935e-05 - accuracy: 1.0000\n",
            "Epoch 64/200\n",
            "1000/1000 [==============================] - 1s 523us/step - loss: 3.3701e-05 - accuracy: 1.0000\n",
            "Epoch 65/200\n",
            "1000/1000 [==============================] - 1s 520us/step - loss: 2.8597e-05 - accuracy: 1.0000\n",
            "Epoch 66/200\n",
            "1000/1000 [==============================] - 1s 521us/step - loss: 2.2985e-05 - accuracy: 1.0000\n",
            "Epoch 67/200\n",
            "1000/1000 [==============================] - 1s 519us/step - loss: 2.8209e-05 - accuracy: 1.0000\n",
            "Epoch 68/200\n",
            "1000/1000 [==============================] - 1s 524us/step - loss: 4.5348e-05 - accuracy: 1.0000\n",
            "Epoch 69/200\n",
            "1000/1000 [==============================] - 1s 521us/step - loss: 2.8189e-05 - accuracy: 1.0000\n",
            "Epoch 70/200\n",
            "1000/1000 [==============================] - 1s 524us/step - loss: 3.1004e-05 - accuracy: 1.0000\n",
            "Epoch 71/200\n",
            "1000/1000 [==============================] - 1s 522us/step - loss: 2.4263e-05 - accuracy: 1.0000\n",
            "Epoch 72/200\n",
            "1000/1000 [==============================] - 1s 521us/step - loss: 2.1051e-05 - accuracy: 1.0000\n",
            "Epoch 73/200\n",
            "1000/1000 [==============================] - 1s 524us/step - loss: 2.0774e-05 - accuracy: 1.0000\n",
            "Epoch 74/200\n",
            "1000/1000 [==============================] - 1s 523us/step - loss: 2.1517e-05 - accuracy: 1.0000\n",
            "Epoch 75/200\n",
            "1000/1000 [==============================] - 1s 526us/step - loss: 2.3828e-05 - accuracy: 1.0000\n",
            "Epoch 76/200\n",
            "1000/1000 [==============================] - 1s 520us/step - loss: 2.3245e-05 - accuracy: 1.0000\n",
            "Epoch 77/200\n",
            "1000/1000 [==============================] - 1s 525us/step - loss: 1.7307e-05 - accuracy: 1.0000\n",
            "Epoch 78/200\n",
            "1000/1000 [==============================] - 1s 522us/step - loss: 2.0436e-05 - accuracy: 1.0000\n",
            "Epoch 79/200\n",
            "1000/1000 [==============================] - 1s 524us/step - loss: 2.7326e-05 - accuracy: 1.0000\n",
            "Epoch 80/200\n",
            "1000/1000 [==============================] - 1s 525us/step - loss: 2.2692e-05 - accuracy: 1.0000\n",
            "Epoch 81/200\n",
            "1000/1000 [==============================] - 1s 522us/step - loss: 2.6469e-05 - accuracy: 1.0000\n",
            "Epoch 82/200\n",
            "1000/1000 [==============================] - 1s 526us/step - loss: 1.7947e-05 - accuracy: 1.0000\n",
            "Epoch 83/200\n",
            "1000/1000 [==============================] - 1s 522us/step - loss: 1.8013e-05 - accuracy: 1.0000\n",
            "Epoch 84/200\n",
            "1000/1000 [==============================] - 1s 523us/step - loss: 1.7713e-05 - accuracy: 1.0000\n",
            "Epoch 85/200\n",
            "1000/1000 [==============================] - 1s 528us/step - loss: 2.2072e-05 - accuracy: 1.0000\n",
            "Epoch 86/200\n",
            "1000/1000 [==============================] - 1s 522us/step - loss: 1.7916e-05 - accuracy: 1.0000\n",
            "Epoch 87/200\n",
            "1000/1000 [==============================] - 1s 523us/step - loss: 1.4884e-05 - accuracy: 1.0000\n",
            "Epoch 88/200\n",
            "1000/1000 [==============================] - 1s 525us/step - loss: 3.0033e-05 - accuracy: 1.0000\n",
            "Epoch 89/200\n",
            "1000/1000 [==============================] - 1s 524us/step - loss: 1.5199e-05 - accuracy: 1.0000\n",
            "Epoch 90/200\n",
            "1000/1000 [==============================] - 1s 526us/step - loss: 1.4747e-05 - accuracy: 1.0000\n",
            "Epoch 91/200\n",
            "1000/1000 [==============================] - 1s 526us/step - loss: 1.4630e-05 - accuracy: 1.0000\n",
            "Epoch 92/200\n",
            "1000/1000 [==============================] - 1s 531us/step - loss: 1.3059e-05 - accuracy: 1.0000\n",
            "Epoch 93/200\n",
            "1000/1000 [==============================] - 1s 519us/step - loss: 1.6943e-05 - accuracy: 1.0000\n",
            "Epoch 94/200\n",
            "1000/1000 [==============================] - 1s 532us/step - loss: 1.5074e-05 - accuracy: 1.0000\n",
            "Epoch 95/200\n",
            "1000/1000 [==============================] - 1s 521us/step - loss: 1.9391e-05 - accuracy: 1.0000\n",
            "Epoch 96/200\n",
            "1000/1000 [==============================] - 1s 521us/step - loss: 1.2997e-05 - accuracy: 1.0000\n",
            "Epoch 97/200\n",
            "1000/1000 [==============================] - 1s 525us/step - loss: 1.2804e-05 - accuracy: 1.0000\n",
            "Epoch 98/200\n",
            "1000/1000 [==============================] - 1s 527us/step - loss: 1.7054e-05 - accuracy: 1.0000\n",
            "Epoch 99/200\n",
            "1000/1000 [==============================] - 1s 526us/step - loss: 1.3229e-05 - accuracy: 1.0000\n",
            "Epoch 100/200\n",
            "1000/1000 [==============================] - 1s 522us/step - loss: 2.0560e-05 - accuracy: 1.0000\n",
            "Epoch 101/200\n",
            "1000/1000 [==============================] - 1s 531us/step - loss: 1.3022e-05 - accuracy: 1.0000\n",
            "Epoch 102/200\n",
            "1000/1000 [==============================] - 1s 521us/step - loss: 1.1547e-05 - accuracy: 1.0000\n",
            "Epoch 103/200\n",
            "1000/1000 [==============================] - 1s 533us/step - loss: 1.5254e-05 - accuracy: 1.0000\n",
            "Epoch 104/200\n",
            "1000/1000 [==============================] - 1s 521us/step - loss: 1.2461e-05 - accuracy: 1.0000\n",
            "Epoch 105/200\n",
            "1000/1000 [==============================] - 1s 523us/step - loss: 1.1998e-05 - accuracy: 1.0000\n",
            "Epoch 106/200\n",
            "1000/1000 [==============================] - 1s 524us/step - loss: 1.5370e-05 - accuracy: 1.0000\n",
            "Epoch 107/200\n",
            "1000/1000 [==============================] - 1s 527us/step - loss: 1.8628e-05 - accuracy: 1.0000\n",
            "Epoch 108/200\n",
            "1000/1000 [==============================] - 1s 524us/step - loss: 1.1502e-05 - accuracy: 1.0000\n",
            "Epoch 109/200\n",
            "1000/1000 [==============================] - 1s 526us/step - loss: 1.5199e-05 - accuracy: 1.0000\n",
            "Epoch 110/200\n",
            "1000/1000 [==============================] - 1s 523us/step - loss: 9.7294e-06 - accuracy: 1.0000\n",
            "Epoch 111/200\n",
            "1000/1000 [==============================] - 1s 526us/step - loss: 1.1339e-05 - accuracy: 1.0000\n",
            "Epoch 112/200\n",
            "1000/1000 [==============================] - 1s 524us/step - loss: 1.3709e-05 - accuracy: 1.0000\n",
            "Epoch 113/200\n",
            "1000/1000 [==============================] - 1s 529us/step - loss: 1.8454e-05 - accuracy: 1.0000\n",
            "Epoch 114/200\n",
            "1000/1000 [==============================] - 1s 526us/step - loss: 2.0358e-05 - accuracy: 1.0000\n",
            "Epoch 115/200\n",
            "1000/1000 [==============================] - 1s 522us/step - loss: 1.3593e-05 - accuracy: 1.0000\n",
            "Epoch 116/200\n",
            "1000/1000 [==============================] - 1s 525us/step - loss: 9.6515e-06 - accuracy: 1.0000\n",
            "Epoch 117/200\n",
            "1000/1000 [==============================] - 1s 523us/step - loss: 1.0572e-05 - accuracy: 1.0000\n",
            "Epoch 118/200\n",
            "1000/1000 [==============================] - 1s 525us/step - loss: 9.7176e-06 - accuracy: 1.0000\n",
            "Epoch 119/200\n",
            "1000/1000 [==============================] - 1s 521us/step - loss: 8.6397e-06 - accuracy: 1.0000\n",
            "Epoch 120/200\n",
            "1000/1000 [==============================] - 1s 528us/step - loss: 1.4166e-05 - accuracy: 1.0000\n",
            "Epoch 121/200\n",
            "1000/1000 [==============================] - 1s 524us/step - loss: 1.2581e-05 - accuracy: 1.0000\n",
            "Epoch 122/200\n",
            "1000/1000 [==============================] - 1s 525us/step - loss: 1.1080e-05 - accuracy: 1.0000\n",
            "Epoch 123/200\n",
            "1000/1000 [==============================] - 1s 523us/step - loss: 1.5202e-05 - accuracy: 1.0000\n",
            "Epoch 124/200\n",
            "1000/1000 [==============================] - 1s 522us/step - loss: 1.1875e-05 - accuracy: 1.0000\n",
            "Epoch 125/200\n",
            "1000/1000 [==============================] - 1s 533us/step - loss: 1.5713e-05 - accuracy: 1.0000\n",
            "Epoch 126/200\n",
            "1000/1000 [==============================] - 1s 524us/step - loss: 9.3967e-06 - accuracy: 1.0000\n",
            "Epoch 127/200\n",
            "1000/1000 [==============================] - 1s 527us/step - loss: 8.8176e-06 - accuracy: 1.0000\n",
            "Epoch 128/200\n",
            "1000/1000 [==============================] - 1s 525us/step - loss: 8.2735e-06 - accuracy: 1.0000\n",
            "Epoch 129/200\n",
            "1000/1000 [==============================] - 1s 528us/step - loss: 1.1656e-05 - accuracy: 1.0000\n",
            "Epoch 130/200\n",
            "1000/1000 [==============================] - 1s 529us/step - loss: 2.4283e-05 - accuracy: 1.0000\n",
            "Epoch 131/200\n",
            "1000/1000 [==============================] - 1s 525us/step - loss: 1.2890e-05 - accuracy: 1.0000\n",
            "Epoch 132/200\n",
            "1000/1000 [==============================] - 1s 527us/step - loss: 8.0768e-06 - accuracy: 1.0000\n",
            "Epoch 133/200\n",
            "1000/1000 [==============================] - 1s 524us/step - loss: 8.7576e-06 - accuracy: 1.0000\n",
            "Epoch 134/200\n",
            "1000/1000 [==============================] - 1s 526us/step - loss: 1.0407e-05 - accuracy: 1.0000\n",
            "Epoch 135/200\n",
            "1000/1000 [==============================] - 1s 528us/step - loss: 1.0061e-05 - accuracy: 1.0000\n",
            "Epoch 136/200\n",
            "1000/1000 [==============================] - 1s 529us/step - loss: 7.4271e-06 - accuracy: 1.0000\n",
            "Epoch 137/200\n",
            "1000/1000 [==============================] - 1s 526us/step - loss: 7.7285e-06 - accuracy: 1.0000\n",
            "Epoch 138/200\n",
            "1000/1000 [==============================] - 1s 520us/step - loss: 1.2898e-05 - accuracy: 1.0000\n",
            "Epoch 139/200\n",
            "1000/1000 [==============================] - 1s 531us/step - loss: 9.5410e-06 - accuracy: 1.0000\n",
            "Epoch 140/200\n",
            "1000/1000 [==============================] - 1s 525us/step - loss: 8.3186e-06 - accuracy: 1.0000\n",
            "Epoch 141/200\n",
            "1000/1000 [==============================] - 1s 526us/step - loss: 1.4255e-05 - accuracy: 1.0000\n",
            "Epoch 142/200\n",
            "1000/1000 [==============================] - 1s 524us/step - loss: 9.2803e-06 - accuracy: 1.0000\n",
            "Epoch 143/200\n",
            "1000/1000 [==============================] - 1s 527us/step - loss: 7.9159e-06 - accuracy: 1.0000\n",
            "Epoch 144/200\n",
            "1000/1000 [==============================] - 1s 529us/step - loss: 8.7231e-06 - accuracy: 1.0000\n",
            "Epoch 145/200\n",
            "1000/1000 [==============================] - 1s 526us/step - loss: 6.3377e-06 - accuracy: 1.0000\n",
            "Epoch 146/200\n",
            "1000/1000 [==============================] - 1s 524us/step - loss: 8.5611e-06 - accuracy: 1.0000\n",
            "Epoch 147/200\n",
            "1000/1000 [==============================] - 1s 535us/step - loss: 7.3632e-06 - accuracy: 1.0000\n",
            "Epoch 148/200\n",
            "1000/1000 [==============================] - 1s 523us/step - loss: 7.7182e-06 - accuracy: 1.0000\n",
            "Epoch 149/200\n",
            "1000/1000 [==============================] - 1s 530us/step - loss: 7.8436e-06 - accuracy: 1.0000\n",
            "Epoch 150/200\n",
            "1000/1000 [==============================] - 1s 527us/step - loss: 7.5894e-06 - accuracy: 1.0000\n",
            "Epoch 151/200\n",
            "1000/1000 [==============================] - 1s 528us/step - loss: 6.3512e-06 - accuracy: 1.0000\n",
            "Epoch 152/200\n",
            "1000/1000 [==============================] - 1s 526us/step - loss: 8.7628e-06 - accuracy: 1.0000\n",
            "Epoch 153/200\n",
            "1000/1000 [==============================] - 1s 521us/step - loss: 6.3485e-06 - accuracy: 1.0000\n",
            "Epoch 154/200\n",
            "1000/1000 [==============================] - 1s 523us/step - loss: 7.9239e-06 - accuracy: 1.0000\n",
            "Epoch 155/200\n",
            "1000/1000 [==============================] - 1s 523us/step - loss: 5.8328e-06 - accuracy: 1.0000\n",
            "Epoch 156/200\n",
            "1000/1000 [==============================] - 1s 524us/step - loss: 7.0508e-06 - accuracy: 1.0000\n",
            "Epoch 157/200\n",
            "1000/1000 [==============================] - 1s 520us/step - loss: 6.3283e-06 - accuracy: 1.0000\n",
            "Epoch 158/200\n",
            "1000/1000 [==============================] - 1s 526us/step - loss: 6.7894e-06 - accuracy: 1.0000\n",
            "Epoch 159/200\n",
            "1000/1000 [==============================] - 1s 525us/step - loss: 6.3816e-06 - accuracy: 1.0000\n",
            "Epoch 160/200\n",
            "1000/1000 [==============================] - 1s 531us/step - loss: 7.0043e-06 - accuracy: 1.0000\n",
            "Epoch 161/200\n",
            "1000/1000 [==============================] - 1s 523us/step - loss: 9.2492e-06 - accuracy: 1.0000\n",
            "Epoch 162/200\n",
            "1000/1000 [==============================] - 1s 535us/step - loss: 6.5696e-06 - accuracy: 1.0000\n",
            "Epoch 163/200\n",
            "1000/1000 [==============================] - 1s 529us/step - loss: 7.2670e-06 - accuracy: 1.0000\n",
            "Epoch 164/200\n",
            "1000/1000 [==============================] - 1s 526us/step - loss: 6.3959e-06 - accuracy: 1.0000\n",
            "Epoch 165/200\n",
            "1000/1000 [==============================] - 1s 522us/step - loss: 7.9438e-06 - accuracy: 1.0000\n",
            "Epoch 166/200\n",
            "1000/1000 [==============================] - 1s 527us/step - loss: 6.3259e-06 - accuracy: 1.0000\n",
            "Epoch 167/200\n",
            "1000/1000 [==============================] - 1s 525us/step - loss: 5.6922e-06 - accuracy: 1.0000\n",
            "Epoch 168/200\n",
            "1000/1000 [==============================] - 1s 534us/step - loss: 5.8449e-06 - accuracy: 1.0000\n",
            "Epoch 169/200\n",
            "1000/1000 [==============================] - 1s 525us/step - loss: 9.1426e-06 - accuracy: 1.0000\n",
            "Epoch 170/200\n",
            "1000/1000 [==============================] - 1s 527us/step - loss: 6.1354e-06 - accuracy: 1.0000\n",
            "Epoch 171/200\n",
            "1000/1000 [==============================] - 1s 525us/step - loss: 7.6401e-06 - accuracy: 1.0000\n",
            "Epoch 172/200\n",
            "1000/1000 [==============================] - 1s 527us/step - loss: 7.9784e-06 - accuracy: 1.0000\n",
            "Epoch 173/200\n",
            "1000/1000 [==============================] - 1s 529us/step - loss: 6.2545e-06 - accuracy: 1.0000\n",
            "Epoch 174/200\n",
            "1000/1000 [==============================] - 1s 525us/step - loss: 5.6071e-06 - accuracy: 1.0000\n",
            "Epoch 175/200\n",
            "1000/1000 [==============================] - 1s 525us/step - loss: 5.5500e-06 - accuracy: 1.0000\n",
            "Epoch 176/200\n",
            "1000/1000 [==============================] - 1s 527us/step - loss: 7.1667e-06 - accuracy: 1.0000\n",
            "Epoch 177/200\n",
            "1000/1000 [==============================] - 1s 529us/step - loss: 7.0292e-06 - accuracy: 1.0000\n",
            "Epoch 178/200\n",
            "1000/1000 [==============================] - 1s 524us/step - loss: 5.1340e-06 - accuracy: 1.0000\n",
            "Epoch 179/200\n",
            "1000/1000 [==============================] - 1s 520us/step - loss: 6.9235e-06 - accuracy: 1.0000\n",
            "Epoch 180/200\n",
            "1000/1000 [==============================] - 1s 527us/step - loss: 4.8537e-06 - accuracy: 1.0000\n",
            "Epoch 181/200\n",
            "1000/1000 [==============================] - 1s 526us/step - loss: 4.4182e-06 - accuracy: 1.0000\n",
            "Epoch 182/200\n",
            "1000/1000 [==============================] - 1s 527us/step - loss: 4.9065e-06 - accuracy: 1.0000\n",
            "Epoch 183/200\n",
            "1000/1000 [==============================] - 1s 528us/step - loss: 5.8656e-06 - accuracy: 1.0000\n",
            "Epoch 184/200\n",
            "1000/1000 [==============================] - 1s 519us/step - loss: 5.2774e-06 - accuracy: 1.0000\n",
            "Epoch 185/200\n",
            "1000/1000 [==============================] - 1s 525us/step - loss: 4.4078e-06 - accuracy: 1.0000\n",
            "Epoch 186/200\n",
            "1000/1000 [==============================] - 1s 523us/step - loss: 4.6615e-06 - accuracy: 1.0000\n",
            "Epoch 187/200\n",
            "1000/1000 [==============================] - 1s 529us/step - loss: 4.0203e-06 - accuracy: 1.0000\n",
            "Epoch 188/200\n",
            "1000/1000 [==============================] - 1s 529us/step - loss: 4.8552e-06 - accuracy: 1.0000\n",
            "Epoch 189/200\n",
            "1000/1000 [==============================] - 1s 532us/step - loss: 1.1538e-05 - accuracy: 1.0000\n",
            "Epoch 190/200\n",
            "1000/1000 [==============================] - 1s 531us/step - loss: 7.0411e-06 - accuracy: 1.0000\n",
            "Epoch 191/200\n",
            "1000/1000 [==============================] - 1s 532us/step - loss: 6.9566e-06 - accuracy: 1.0000\n",
            "Epoch 192/200\n",
            "1000/1000 [==============================] - 1s 531us/step - loss: 9.2692e-06 - accuracy: 1.0000\n",
            "Epoch 193/200\n",
            "1000/1000 [==============================] - 1s 538us/step - loss: 5.2935e-06 - accuracy: 1.0000\n",
            "Epoch 194/200\n",
            "1000/1000 [==============================] - 1s 529us/step - loss: 8.2723e-06 - accuracy: 1.0000\n",
            "Epoch 195/200\n",
            "1000/1000 [==============================] - 1s 526us/step - loss: 5.6591e-06 - accuracy: 1.0000\n",
            "Epoch 196/200\n",
            "1000/1000 [==============================] - 1s 535us/step - loss: 4.2156e-06 - accuracy: 1.0000\n",
            "Epoch 197/200\n",
            "1000/1000 [==============================] - 1s 530us/step - loss: 5.0481e-06 - accuracy: 1.0000\n",
            "Epoch 198/200\n",
            "1000/1000 [==============================] - 1s 540us/step - loss: 6.0359e-06 - accuracy: 1.0000\n",
            "Epoch 199/200\n",
            "1000/1000 [==============================] - 1s 525us/step - loss: 4.9593e-06 - accuracy: 1.0000\n",
            "Epoch 200/200\n",
            "1000/1000 [==============================] - 1s 534us/step - loss: 4.0193e-06 - accuracy: 1.0000\n"
          ],
          "name": "stdout"
        },
        {
          "output_type": "execute_result",
          "data": {
            "text/plain": [
              "<keras.callbacks.callbacks.History at 0x7f71bd6de6a0>"
            ]
          },
          "metadata": {
            "tags": []
          },
          "execution_count": 9
        }
      ]
    },
    {
      "cell_type": "code",
      "metadata": {
        "id": "82dgK7eHyVg9",
        "colab_type": "code",
        "colab": {}
      },
      "source": [
        "foolModel = foolbox.models.KerasModel(theClassifieurs[0], bounds=(0, 255))\n",
        "attack = foolbox.attacks.GradientSignAttack(foolModel, distance=foolbox.distances.MeanSquaredDistance)"
      ],
      "execution_count": null,
      "outputs": []
    },
    {
      "cell_type": "code",
      "metadata": {
        "id": "8FD16txoyVm_",
        "colab_type": "code",
        "colab": {
          "base_uri": "https://localhost:8080/",
          "height": 70
        },
        "outputId": "6e079930-508e-4eff-a162-f661cfb547d5"
      },
      "source": [
        "ZK = attack(image, labelf, epsilons=2000, max_epsilon=1)\n",
        "eqm  = tf.keras.losses.MSE(image/255,ZK/255)\n",
        "print(sess.run(eqm).mean())"
      ],
      "execution_count": null,
      "outputs": [
        {
          "output_type": "stream",
          "text": [
            "/usr/local/lib/python3.6/dist-packages/foolbox/attacks/base.py:95: UserWarning: GradientSignAttack did not find an adversarial, maybe the model or the criterion is not supported by this attack.\n",
            "  \" attack.\".format(self.name())\n"
          ],
          "name": "stderr"
        },
        {
          "output_type": "stream",
          "text": [
            "0.02792364\n"
          ],
          "name": "stdout"
        }
      ]
    },
    {
      "cell_type": "code",
      "metadata": {
        "id": "Vk5b5-vOyVqM",
        "colab_type": "code",
        "colab": {}
      },
      "source": [
        ""
      ],
      "execution_count": null,
      "outputs": []
    },
    {
      "cell_type": "code",
      "metadata": {
        "id": "Q6JxBESCyVs8",
        "colab_type": "code",
        "colab": {}
      },
      "source": [
        ""
      ],
      "execution_count": null,
      "outputs": []
    },
    {
      "cell_type": "markdown",
      "metadata": {
        "id": "PgIcXrlByb3A",
        "colab_type": "text"
      },
      "source": [
        "# Interprète"
      ]
    },
    {
      "cell_type": "code",
      "metadata": {
        "scrolled": true,
        "id": "bgsqlF41XSWX",
        "colab_type": "code",
        "colab": {
          "base_uri": "https://localhost:8080/",
          "height": 70
        },
        "outputId": "c5cd07bb-5afe-429e-ea43-45f34a5db923"
      },
      "source": [
        "sess = tf.InteractiveSession()\n",
        "sess.run(tf.initialize_all_variables())"
      ],
      "execution_count": null,
      "outputs": [
        {
          "output_type": "stream",
          "text": [
            "WARNING:tensorflow:From /tensorflow-1.15.2/python3.6/tensorflow_core/python/util/tf_should_use.py:198: initialize_all_variables (from tensorflow.python.ops.variables) is deprecated and will be removed after 2017-03-02.\n",
            "Instructions for updating:\n",
            "Use `tf.global_variables_initializer` instead.\n"
          ],
          "name": "stdout"
        }
      ]
    },
    {
      "cell_type": "code",
      "metadata": {
        "scrolled": true,
        "id": "eupGVSawXSWc",
        "colab_type": "code",
        "colab": {}
      },
      "source": [
        "image, label, labelf = loadCIFAR(False,True)\n",
        "imageTest, labelTest, labelTestf = loadCIFAR(True,True)"
      ],
      "execution_count": null,
      "outputs": []
    },
    {
      "cell_type": "code",
      "metadata": {
        "id": "vQAzWTi6XSWj",
        "colab_type": "code",
        "colab": {}
      },
      "source": [
        "ResNet18, preprocess_input = Classifiers.get('resnet18')\n",
        "\n",
        "filePath=\"resnetCifarTT_Madry_FGSM2\"\n",
        "batchSize, maxIter = 50, 30\n",
        "nbBatch = int(len(image)/batchSize)\n",
        "\n",
        "model = ResNet18(input_shape=[32,32,3], include_top=True, classes=2, weights=None)\n",
        "optim = tf.train.AdamOptimizer(1e-4)\n",
        "loss=tf.keras.losses.MeanSquaredError()\n",
        "model.compile(optim, loss, metrics=['accuracy'])"
      ],
      "execution_count": null,
      "outputs": []
    },
    {
      "cell_type": "code",
      "metadata": {
        "id": "2JJpgM9zXSW7",
        "colab_type": "code",
        "colab": {}
      },
      "source": [
        "foolModel = foolbox.models.KerasModel(model, bounds=(0, 255))\n",
        "attack = foolbox.attacks.L2BasicIterativeAttack(foolModel, distance=foolbox.distances.MeanSquaredDistance)"
      ],
      "execution_count": null,
      "outputs": []
    },
    {
      "cell_type": "code",
      "metadata": {
        "id": "mF_KqrrhmXpL",
        "colab_type": "code",
        "colab": {}
      },
      "source": [
        "def loadDatas(iterMax,batchSize) :\n",
        "    global theClassifieurs, allFGSM\n",
        "    ResNet18, preprocess_input = Classifiers.get('resnet18')\n",
        "    \n",
        "    f0 = ResNet18(input_shape=[32,32,3], include_top=True, classes=10, weights=None)\n",
        "    optim = tf.compat.v1.train.AdamOptimizer(1e-4)\n",
        "    f0.compile(optim, loss=tf.keras.losses.MeanSquaredError(), metrics=['accuracy'])\n",
        "    theClassifieurs = np.array([copy(f0) for i in range(iterMax+1)])\n",
        "    \n",
        "    theClassifieurs[0].load_weights(filePath+'/Madry'+str(0))\n",
        "    \n",
        "    allFGSM = [[] for i in range(iterMax+1)]\n",
        "    allFGSM[0] = np.array(image)\n",
        "    for k in range(1,iterMax+1) : \n",
        "        theClassifieurs[k].load_weights(filePath+'/Madry'+str(k))\n",
        "\n",
        "        FGSM_k = np.array([])\n",
        "        nbBatch = int(len(image)/batchSize)\n",
        "        for i in range(nbBatch) :\n",
        "          FGSM_i = np.load(filePath+\"/dataset/FGSM\"+str(nbBatch*k+i)+\".npy\")\n",
        "\n",
        "          if FGSM_k.size == 0 :\n",
        "              FGSM_k = np.array(FGSM_i)\n",
        "          else :\n",
        "              FGSM_k = np.concatenate((FGSM_k,FGSM_i))\n",
        "          \n",
        "        allFGSM[k] = FGSM_k"
      ],
      "execution_count": null,
      "outputs": []
    },
    {
      "cell_type": "code",
      "metadata": {
        "id": "vxVSMh3oCJH-",
        "colab_type": "code",
        "colab": {
          "base_uri": "https://localhost:8080/",
          "height": 107
        },
        "outputId": "09da69fb-04db-49e7-ef16-73c56a505d0f"
      },
      "source": [
        "loadDatas(maxIter,batchSize)"
      ],
      "execution_count": null,
      "outputs": [
        {
          "output_type": "stream",
          "text": [
            "/tensorflow-1.15.2/python3.6/keras/engine/saving.py:165: UserWarning: TensorFlow optimizers do not make it possible to access optimizer attributes or optimizer state after instantiation. As a result, we cannot save the optimizer as part of the model save file.You will have to compile your model again after loading it. Prefer using a Keras optimizer instead (see keras.io/optimizers).\n",
            "  'TensorFlow optimizers do not '\n",
            "/tensorflow-1.15.2/python3.6/keras/engine/saving.py:341: UserWarning: No training configuration found in save file: the model was *not* compiled. Compile it manually.\n",
            "  warnings.warn('No training configuration found in save file: '\n"
          ],
          "name": "stderr"
        }
      ]
    },
    {
      "cell_type": "markdown",
      "metadata": {
        "id": "_mIddE6vD87a",
        "colab_type": "text"
      },
      "source": [
        "# Distance"
      ]
    },
    {
      "cell_type": "code",
      "metadata": {
        "id": "ONGEC2WRo3b_",
        "colab_type": "code",
        "colab": {}
      },
      "source": [
        "byK = []\n",
        "for k in range(1,maxIter+1) :\n",
        "    print(k)\n",
        "    eqm  = tf.keras.losses.MSE(image/255,allFGSM[k]/255)\n",
        "    byK.append(sess.run(eqm).mean())"
      ],
      "execution_count": null,
      "outputs": []
    },
    {
      "cell_type": "code",
      "metadata": {
        "id": "L4izsh7YEoP0",
        "colab_type": "code",
        "colab": {}
      },
      "source": [
        "MinMax = [0.015992733, 0.017746173, 0.025917938, 0.026299607, 0.03607481, 0.061176937, 0.04476796, 0.04778953, 0.05705339, 0.054934464, 0.055128127, 0.056212276, 0.056809224, 0.057206534, 0.05812963, 0.058632523, 0.059248295, 0.061355244, 0.056303915, 0.05673906, 0.057492733, 0.05783018, 0.057819773, 0.05781946, 0.0581184, 0.058632437, 0.05881376, 0.059115205, 0.05918139, 0.05929843]"
      ],
      "execution_count": null,
      "outputs": []
    },
    {
      "cell_type": "code",
      "metadata": {
        "id": "n1MNpInWo3fG",
        "colab_type": "code",
        "colab": {
          "base_uri": "https://localhost:8080/",
          "height": 445
        },
        "outputId": "5899106a-f137-46da-8afa-545ad37d6ec6"
      },
      "source": [
        "plt.rcParams[\"figure.figsize\"] = (10,7)\n",
        "plt.plot([i+1 for i in range(maxIter)], byK, 'b',    label=\"Madry\")\n",
        "plt.plot([i+1 for i in range(maxIter)], MinMax, 'r', label=\"MinMax\")\n",
        "plt.legend()"
      ],
      "execution_count": null,
      "outputs": [
        {
          "output_type": "execute_result",
          "data": {
            "text/plain": [
              "<matplotlib.legend.Legend at 0x7f967d56f3c8>"
            ]
          },
          "metadata": {
            "tags": []
          },
          "execution_count": 24
        },
        {
          "output_type": "display_data",
          "data": {
            "image/png": "[encoded data removed]",
            "text/plain": [
              "<Figure size 720x504 with 1 Axes>"
            ]
          },
          "metadata": {
            "tags": [],
            "needs_background": "light"
          }
        }
      ]
    },
    {
      "cell_type": "code",
      "metadata": {
        "id": "bVRgy_AQNRJ3",
        "colab_type": "code",
        "colab": {}
      },
      "source": [
        "byI = []\n",
        "for k in range(1,maxIter+1) :\n",
        "    print(k)\n",
        "    for i in range(nbBatch) :\n",
        "      FGSM_ki = np.load(filePath+\"/dataset/FGSM\"+str(nbBatch*k+i)+\".npy\")\n",
        "      eqm  = tf.keras.losses.MSE(image[i*batchSize:i*batchSize+batchSize]/255,FGSM_ki/255)\n",
        "      byI.append(sess.run(eqm).mean())"
      ],
      "execution_count": null,
      "outputs": []
    },
    {
      "cell_type": "code",
      "metadata": {
        "id": "y-i78KstNRNN",
        "colab_type": "code",
        "colab": {
          "base_uri": "https://localhost:8080/",
          "height": 445
        },
        "outputId": "0c18d25a-483b-4495-f089-a1641aebba0b"
      },
      "source": [
        "plt.rcParams[\"figure.figsize\"] = (10,7)\n",
        "plt.plot([i+1 for i in range(nbBatch*maxIter)], byI, 'b', label=\"Prediction Image\")\n",
        "#plt.plot([nbBatch*i+0 for i in range(maxIter)], MinMax, 'r', label=\"MinMax\")"
      ],
      "execution_count": null,
      "outputs": [
        {
          "output_type": "execute_result",
          "data": {
            "text/plain": [
              "[<matplotlib.lines.Line2D at 0x7f967c8ba048>]"
            ]
          },
          "metadata": {
            "tags": []
          },
          "execution_count": 30
        },
        {
          "output_type": "display_data",
          "data": {
            "image/png": "[encoded data removed]",
            "text/plain": [
              "<Figure size 720x504 with 1 Axes>"
            ]
          },
          "metadata": {
            "tags": [],
            "needs_background": "light"
          }
        }
      ]
    },
    {
      "cell_type": "code",
      "metadata": {
        "id": "rjzZWjOlFdYp",
        "colab_type": "code",
        "colab": {
          "base_uri": "https://localhost:8080/",
          "height": 1000
        },
        "outputId": "88537e94-08be-4030-95d6-664d21a4ff3a"
      },
      "source": [
        "ResNet18, preprocess_input = Classifiers.get('resnet18')\n",
        "\n",
        "# Charge les images\n",
        "image, label, labelf = loadCIFAR(False,True)\n",
        "N = len(image)\n",
        "\n",
        "# Creer le modèle\n",
        "# model = ResNet50(input_shape=[32,32,3], include_top=True, classes=2, weights=None)\n",
        "model = ResNet18(input_shape=[32,32,3], include_top=True, classes=2, weights=None)\n",
        "optim = tf.compat.v1.train.AdamOptimizer(1e-4)\n",
        "loss = tf.keras.losses.MeanSquaredError()\n",
        "model.compile(optim, loss, metrics=['accuracy'])\n",
        "\n",
        "print(giveTime()+\" >>> Train Madry\")\n",
        "model.fit(image, label, epochs=200, batch_size=256)\n",
        "model.save_weights(filePath+'/Madry0')"
      ],
      "execution_count": null,
      "outputs": [
        {
          "output_type": "stream",
          "text": [
            "12:42 >>> Train Madry\n",
            "WARNING:tensorflow:From /tensorflow-1.15.2/python3.6/keras/backend/tensorflow_backend.py:431: The name tf.is_variable_initialized is deprecated. Please use tf.compat.v1.is_variable_initialized instead.\n",
            "\n",
            "WARNING:tensorflow:From /tensorflow-1.15.2/python3.6/keras/backend/tensorflow_backend.py:438: The name tf.variables_initializer is deprecated. Please use tf.compat.v1.variables_initializer instead.\n",
            "\n",
            "Epoch 1/200\n",
            "1000/1000 [==============================] - 10s 10ms/step - loss: 0.2477 - accuracy: 0.6390\n",
            "Epoch 2/200\n",
            "1000/1000 [==============================] - 0s 207us/step - loss: 0.0976 - accuracy: 0.8800\n",
            "Epoch 3/200\n",
            "1000/1000 [==============================] - 0s 201us/step - loss: 0.0541 - accuracy: 0.9320\n",
            "Epoch 4/200\n",
            "1000/1000 [==============================] - 0s 209us/step - loss: 0.0281 - accuracy: 0.9760\n",
            "Epoch 5/200\n",
            "1000/1000 [==============================] - 0s 200us/step - loss: 0.0165 - accuracy: 0.9870\n",
            "Epoch 6/200\n",
            "1000/1000 [==============================] - 0s 200us/step - loss: 0.0107 - accuracy: 0.9910\n",
            "Epoch 7/200\n",
            "1000/1000 [==============================] - 0s 205us/step - loss: 0.0070 - accuracy: 0.9940\n",
            "Epoch 8/200\n",
            "1000/1000 [==============================] - 0s 202us/step - loss: 0.0058 - accuracy: 0.9950\n",
            "Epoch 9/200\n",
            "1000/1000 [==============================] - 0s 207us/step - loss: 0.0049 - accuracy: 0.9960\n",
            "Epoch 10/200\n",
            "1000/1000 [==============================] - 0s 202us/step - loss: 0.0042 - accuracy: 0.9960\n",
            "Epoch 11/200\n",
            "1000/1000 [==============================] - 0s 203us/step - loss: 0.0033 - accuracy: 0.9970\n",
            "Epoch 12/200\n",
            "1000/1000 [==============================] - 0s 201us/step - loss: 0.0028 - accuracy: 0.9970\n",
            "Epoch 13/200\n",
            "1000/1000 [==============================] - 0s 203us/step - loss: 0.0023 - accuracy: 0.9980\n",
            "Epoch 14/200\n",
            "1000/1000 [==============================] - 0s 210us/step - loss: 0.0022 - accuracy: 0.9980\n",
            "Epoch 15/200\n",
            "1000/1000 [==============================] - 0s 204us/step - loss: 0.0020 - accuracy: 0.9980\n",
            "Epoch 16/200\n",
            "1000/1000 [==============================] - 0s 199us/step - loss: 0.0013 - accuracy: 0.9980\n",
            "Epoch 17/200\n",
            "1000/1000 [==============================] - 0s 205us/step - loss: 2.6648e-04 - accuracy: 1.0000\n",
            "Epoch 18/200\n",
            "1000/1000 [==============================] - 0s 210us/step - loss: 1.7862e-04 - accuracy: 1.0000\n",
            "Epoch 19/200\n",
            "1000/1000 [==============================] - 0s 204us/step - loss: 1.7751e-04 - accuracy: 1.0000\n",
            "Epoch 20/200\n",
            "1000/1000 [==============================] - 0s 201us/step - loss: 1.5072e-04 - accuracy: 1.0000\n",
            "Epoch 21/200\n",
            "1000/1000 [==============================] - 0s 204us/step - loss: 1.4834e-04 - accuracy: 1.0000\n",
            "Epoch 22/200\n",
            "1000/1000 [==============================] - 0s 208us/step - loss: 1.9190e-04 - accuracy: 1.0000\n",
            "Epoch 23/200\n",
            "1000/1000 [==============================] - 0s 207us/step - loss: 1.6467e-04 - accuracy: 1.0000\n",
            "Epoch 24/200\n",
            "1000/1000 [==============================] - 0s 207us/step - loss: 8.8289e-05 - accuracy: 1.0000\n",
            "Epoch 25/200\n",
            "1000/1000 [==============================] - 0s 201us/step - loss: 1.2650e-04 - accuracy: 1.0000\n",
            "Epoch 26/200\n",
            "1000/1000 [==============================] - 0s 203us/step - loss: 7.4361e-05 - accuracy: 1.0000\n",
            "Epoch 27/200\n",
            "1000/1000 [==============================] - 0s 202us/step - loss: 9.1913e-05 - accuracy: 1.0000\n",
            "Epoch 28/200\n",
            "1000/1000 [==============================] - 0s 204us/step - loss: 9.1954e-05 - accuracy: 1.0000\n",
            "Epoch 29/200\n",
            "1000/1000 [==============================] - 0s 203us/step - loss: 1.2816e-04 - accuracy: 1.0000\n",
            "Epoch 30/200\n",
            "1000/1000 [==============================] - 0s 203us/step - loss: 6.0222e-05 - accuracy: 1.0000\n",
            "Epoch 31/200\n",
            "1000/1000 [==============================] - 0s 205us/step - loss: 6.1598e-05 - accuracy: 1.0000\n",
            "Epoch 32/200\n",
            "1000/1000 [==============================] - 0s 205us/step - loss: 5.7761e-05 - accuracy: 1.0000\n",
            "Epoch 33/200\n",
            "1000/1000 [==============================] - 0s 214us/step - loss: 7.3427e-05 - accuracy: 1.0000\n",
            "Epoch 34/200\n",
            "1000/1000 [==============================] - 0s 206us/step - loss: 6.5016e-05 - accuracy: 1.0000\n",
            "Epoch 35/200\n",
            "1000/1000 [==============================] - 0s 204us/step - loss: 6.3503e-05 - accuracy: 1.0000\n",
            "Epoch 36/200\n",
            "1000/1000 [==============================] - 0s 203us/step - loss: 6.8475e-05 - accuracy: 1.0000\n",
            "Epoch 37/200\n",
            "1000/1000 [==============================] - 0s 204us/step - loss: 5.4846e-05 - accuracy: 1.0000\n",
            "Epoch 38/200\n",
            "1000/1000 [==============================] - 0s 213us/step - loss: 8.0900e-05 - accuracy: 1.0000\n",
            "Epoch 39/200\n",
            "1000/1000 [==============================] - 0s 202us/step - loss: 4.3599e-05 - accuracy: 1.0000\n",
            "Epoch 40/200\n",
            "1000/1000 [==============================] - 0s 204us/step - loss: 4.0171e-05 - accuracy: 1.0000\n",
            "Epoch 41/200\n",
            "1000/1000 [==============================] - 0s 208us/step - loss: 9.8404e-05 - accuracy: 1.0000\n",
            "Epoch 42/200\n",
            "1000/1000 [==============================] - 0s 203us/step - loss: 5.2622e-05 - accuracy: 1.0000\n",
            "Epoch 43/200\n",
            "1000/1000 [==============================] - 0s 206us/step - loss: 3.7552e-05 - accuracy: 1.0000\n",
            "Epoch 44/200\n",
            "1000/1000 [==============================] - 0s 206us/step - loss: 5.3553e-05 - accuracy: 1.0000\n",
            "Epoch 45/200\n",
            "1000/1000 [==============================] - 0s 202us/step - loss: 3.4747e-05 - accuracy: 1.0000\n",
            "Epoch 46/200\n",
            "1000/1000 [==============================] - 0s 203us/step - loss: 3.8227e-05 - accuracy: 1.0000\n",
            "Epoch 47/200\n",
            "1000/1000 [==============================] - 0s 208us/step - loss: 4.0343e-05 - accuracy: 1.0000\n",
            "Epoch 48/200\n",
            "1000/1000 [==============================] - 0s 209us/step - loss: 4.7895e-05 - accuracy: 1.0000\n",
            "Epoch 49/200\n",
            "1000/1000 [==============================] - 0s 203us/step - loss: 3.2116e-05 - accuracy: 1.0000\n",
            "Epoch 50/200\n",
            "1000/1000 [==============================] - 0s 204us/step - loss: 4.0002e-05 - accuracy: 1.0000\n",
            "Epoch 51/200\n",
            "1000/1000 [==============================] - 0s 204us/step - loss: 2.7809e-05 - accuracy: 1.0000\n",
            "Epoch 52/200\n",
            "1000/1000 [==============================] - 0s 213us/step - loss: 6.6559e-05 - accuracy: 1.0000\n",
            "Epoch 53/200\n",
            "1000/1000 [==============================] - 0s 205us/step - loss: 2.7868e-05 - accuracy: 1.0000\n",
            "Epoch 54/200\n",
            "1000/1000 [==============================] - 0s 206us/step - loss: 4.1315e-05 - accuracy: 1.0000\n",
            "Epoch 55/200\n",
            "1000/1000 [==============================] - 0s 203us/step - loss: 2.2728e-05 - accuracy: 1.0000\n",
            "Epoch 56/200\n",
            "1000/1000 [==============================] - 0s 204us/step - loss: 2.5983e-05 - accuracy: 1.0000\n",
            "Epoch 57/200\n",
            "1000/1000 [==============================] - 0s 204us/step - loss: 2.6055e-05 - accuracy: 1.0000\n",
            "Epoch 58/200\n",
            "1000/1000 [==============================] - 0s 206us/step - loss: 5.6931e-05 - accuracy: 1.0000\n",
            "Epoch 59/200\n",
            "1000/1000 [==============================] - 0s 203us/step - loss: 2.1462e-05 - accuracy: 1.0000\n",
            "Epoch 60/200\n",
            "1000/1000 [==============================] - 0s 204us/step - loss: 2.5935e-05 - accuracy: 1.0000\n",
            "Epoch 61/200\n",
            "1000/1000 [==============================] - 0s 207us/step - loss: 2.2912e-05 - accuracy: 1.0000\n",
            "Epoch 62/200\n",
            "1000/1000 [==============================] - 0s 219us/step - loss: 2.7825e-05 - accuracy: 1.0000\n",
            "Epoch 63/200\n",
            "1000/1000 [==============================] - 0s 206us/step - loss: 3.3407e-05 - accuracy: 1.0000\n",
            "Epoch 64/200\n",
            "1000/1000 [==============================] - 0s 207us/step - loss: 3.2823e-05 - accuracy: 1.0000\n",
            "Epoch 65/200\n",
            "1000/1000 [==============================] - 0s 205us/step - loss: 5.2417e-05 - accuracy: 1.0000\n",
            "Epoch 66/200\n",
            "1000/1000 [==============================] - 0s 211us/step - loss: 2.4856e-05 - accuracy: 1.0000\n",
            "Epoch 67/200\n",
            "1000/1000 [==============================] - 0s 206us/step - loss: 2.1963e-05 - accuracy: 1.0000\n",
            "Epoch 68/200\n",
            "1000/1000 [==============================] - 0s 206us/step - loss: 3.0398e-05 - accuracy: 1.0000\n",
            "Epoch 69/200\n",
            "1000/1000 [==============================] - 0s 202us/step - loss: 3.3024e-05 - accuracy: 1.0000\n",
            "Epoch 70/200\n",
            "1000/1000 [==============================] - 0s 210us/step - loss: 2.3052e-05 - accuracy: 1.0000\n",
            "Epoch 71/200\n",
            "1000/1000 [==============================] - 0s 213us/step - loss: 2.9839e-05 - accuracy: 1.0000\n",
            "Epoch 72/200\n",
            "1000/1000 [==============================] - 0s 205us/step - loss: 2.4831e-05 - accuracy: 1.0000\n",
            "Epoch 73/200\n",
            "1000/1000 [==============================] - 0s 206us/step - loss: 1.9868e-05 - accuracy: 1.0000\n",
            "Epoch 74/200\n",
            "1000/1000 [==============================] - 0s 207us/step - loss: 1.9495e-05 - accuracy: 1.0000\n",
            "Epoch 75/200\n",
            "1000/1000 [==============================] - 0s 205us/step - loss: 1.6688e-05 - accuracy: 1.0000\n",
            "Epoch 76/200\n",
            "1000/1000 [==============================] - 0s 209us/step - loss: 1.8083e-05 - accuracy: 1.0000\n",
            "Epoch 77/200\n",
            "1000/1000 [==============================] - 0s 204us/step - loss: 2.0587e-05 - accuracy: 1.0000\n",
            "Epoch 78/200\n",
            "1000/1000 [==============================] - 0s 204us/step - loss: 1.5217e-05 - accuracy: 1.0000\n",
            "Epoch 79/200\n",
            "1000/1000 [==============================] - 0s 204us/step - loss: 2.0613e-05 - accuracy: 1.0000\n",
            "Epoch 80/200\n",
            "1000/1000 [==============================] - 0s 204us/step - loss: 1.4983e-05 - accuracy: 1.0000\n",
            "Epoch 81/200\n",
            "1000/1000 [==============================] - 0s 215us/step - loss: 2.2816e-05 - accuracy: 1.0000\n",
            "Epoch 82/200\n",
            "1000/1000 [==============================] - 0s 207us/step - loss: 2.0651e-05 - accuracy: 1.0000\n",
            "Epoch 83/200\n",
            "1000/1000 [==============================] - 0s 202us/step - loss: 1.5219e-05 - accuracy: 1.0000\n",
            "Epoch 84/200\n",
            "1000/1000 [==============================] - 0s 204us/step - loss: 1.9653e-05 - accuracy: 1.0000\n",
            "Epoch 85/200\n",
            "1000/1000 [==============================] - 0s 206us/step - loss: 1.4298e-05 - accuracy: 1.0000\n",
            "Epoch 86/200\n",
            "1000/1000 [==============================] - 0s 208us/step - loss: 1.5456e-05 - accuracy: 1.0000\n",
            "Epoch 87/200\n",
            "1000/1000 [==============================] - 0s 204us/step - loss: 2.6276e-05 - accuracy: 1.0000\n",
            "Epoch 88/200\n",
            "1000/1000 [==============================] - 0s 206us/step - loss: 1.3970e-05 - accuracy: 1.0000\n",
            "Epoch 89/200\n",
            "1000/1000 [==============================] - 0s 208us/step - loss: 1.5223e-05 - accuracy: 1.0000\n",
            "Epoch 90/200\n",
            "1000/1000 [==============================] - 0s 205us/step - loss: 1.9218e-05 - accuracy: 1.0000\n",
            "Epoch 91/200\n",
            "1000/1000 [==============================] - 0s 205us/step - loss: 1.7324e-05 - accuracy: 1.0000\n",
            "Epoch 92/200\n",
            "1000/1000 [==============================] - 0s 209us/step - loss: 1.6062e-05 - accuracy: 1.0000\n",
            "Epoch 93/200\n",
            "1000/1000 [==============================] - 0s 205us/step - loss: 1.9877e-05 - accuracy: 1.0000\n",
            "Epoch 94/200\n",
            "1000/1000 [==============================] - 0s 208us/step - loss: 1.2852e-05 - accuracy: 1.0000\n",
            "Epoch 95/200\n",
            "1000/1000 [==============================] - 0s 208us/step - loss: 1.1009e-05 - accuracy: 1.0000\n",
            "Epoch 96/200\n",
            "1000/1000 [==============================] - 0s 205us/step - loss: 1.3078e-05 - accuracy: 1.0000\n",
            "Epoch 97/200\n",
            "1000/1000 [==============================] - 0s 207us/step - loss: 1.1972e-05 - accuracy: 1.0000\n",
            "Epoch 98/200\n",
            "1000/1000 [==============================] - 0s 209us/step - loss: 1.2740e-05 - accuracy: 1.0000\n",
            "Epoch 99/200\n",
            "1000/1000 [==============================] - 0s 206us/step - loss: 1.5300e-05 - accuracy: 1.0000\n",
            "Epoch 100/200\n",
            "1000/1000 [==============================] - 0s 215us/step - loss: 1.2641e-05 - accuracy: 1.0000\n",
            "Epoch 101/200\n",
            "1000/1000 [==============================] - 0s 207us/step - loss: 1.9625e-05 - accuracy: 1.0000\n",
            "Epoch 102/200\n",
            "1000/1000 [==============================] - 0s 205us/step - loss: 1.2905e-05 - accuracy: 1.0000\n",
            "Epoch 103/200\n",
            "1000/1000 [==============================] - 0s 208us/step - loss: 1.2914e-05 - accuracy: 1.0000\n",
            "Epoch 104/200\n",
            "1000/1000 [==============================] - 0s 207us/step - loss: 1.2276e-05 - accuracy: 1.0000\n",
            "Epoch 105/200\n",
            "1000/1000 [==============================] - 0s 221us/step - loss: 1.1448e-05 - accuracy: 1.0000\n",
            "Epoch 106/200\n",
            "1000/1000 [==============================] - 0s 206us/step - loss: 9.2391e-06 - accuracy: 1.0000\n",
            "Epoch 107/200\n",
            "1000/1000 [==============================] - 0s 204us/step - loss: 1.4179e-05 - accuracy: 1.0000\n",
            "Epoch 108/200\n",
            "1000/1000 [==============================] - 0s 207us/step - loss: 9.6319e-06 - accuracy: 1.0000\n",
            "Epoch 109/200\n",
            "1000/1000 [==============================] - 0s 205us/step - loss: 1.0570e-05 - accuracy: 1.0000\n",
            "Epoch 110/200\n",
            "1000/1000 [==============================] - 0s 208us/step - loss: 1.5895e-05 - accuracy: 1.0000\n",
            "Epoch 111/200\n",
            "1000/1000 [==============================] - 0s 209us/step - loss: 1.3422e-05 - accuracy: 1.0000\n",
            "Epoch 112/200\n",
            "1000/1000 [==============================] - 0s 206us/step - loss: 8.5491e-06 - accuracy: 1.0000\n",
            "Epoch 113/200\n",
            "1000/1000 [==============================] - 0s 207us/step - loss: 1.6728e-05 - accuracy: 1.0000\n",
            "Epoch 114/200\n",
            "1000/1000 [==============================] - 0s 213us/step - loss: 9.4375e-06 - accuracy: 1.0000\n",
            "Epoch 115/200\n",
            "1000/1000 [==============================] - 0s 206us/step - loss: 1.1480e-05 - accuracy: 1.0000\n",
            "Epoch 116/200\n",
            "1000/1000 [==============================] - 0s 205us/step - loss: 1.0006e-05 - accuracy: 1.0000\n",
            "Epoch 117/200\n",
            "1000/1000 [==============================] - 0s 206us/step - loss: 9.1079e-06 - accuracy: 1.0000\n",
            "Epoch 118/200\n",
            "1000/1000 [==============================] - 0s 208us/step - loss: 8.7113e-06 - accuracy: 1.0000\n",
            "Epoch 119/200\n",
            "1000/1000 [==============================] - 0s 207us/step - loss: 8.6320e-06 - accuracy: 1.0000\n",
            "Epoch 120/200\n",
            "1000/1000 [==============================] - 0s 206us/step - loss: 1.2417e-05 - accuracy: 1.0000\n",
            "Epoch 121/200\n",
            "1000/1000 [==============================] - 0s 208us/step - loss: 1.4476e-05 - accuracy: 1.0000\n",
            "Epoch 122/200\n",
            "1000/1000 [==============================] - 0s 207us/step - loss: 1.1194e-05 - accuracy: 1.0000\n",
            "Epoch 123/200\n",
            "1000/1000 [==============================] - 0s 207us/step - loss: 8.6449e-06 - accuracy: 1.0000\n",
            "Epoch 124/200\n",
            "1000/1000 [==============================] - 0s 213us/step - loss: 2.0475e-05 - accuracy: 1.0000\n",
            "Epoch 125/200\n",
            "1000/1000 [==============================] - 0s 210us/step - loss: 2.2704e-05 - accuracy: 1.0000\n",
            "Epoch 126/200\n",
            "1000/1000 [==============================] - 0s 204us/step - loss: 7.9270e-06 - accuracy: 1.0000\n",
            "Epoch 127/200\n",
            "1000/1000 [==============================] - 0s 208us/step - loss: 9.1052e-06 - accuracy: 1.0000\n",
            "Epoch 128/200\n",
            "1000/1000 [==============================] - 0s 211us/step - loss: 8.1081e-06 - accuracy: 1.0000\n",
            "Epoch 129/200\n",
            "1000/1000 [==============================] - 0s 217us/step - loss: 7.8505e-06 - accuracy: 1.0000\n",
            "Epoch 130/200\n",
            "1000/1000 [==============================] - 0s 211us/step - loss: 7.1113e-06 - accuracy: 1.0000\n",
            "Epoch 131/200\n",
            "1000/1000 [==============================] - 0s 211us/step - loss: 1.0008e-05 - accuracy: 1.0000\n",
            "Epoch 132/200\n",
            "1000/1000 [==============================] - 0s 208us/step - loss: 1.2999e-05 - accuracy: 1.0000\n",
            "Epoch 133/200\n",
            "1000/1000 [==============================] - 0s 214us/step - loss: 8.8190e-06 - accuracy: 1.0000\n",
            "Epoch 134/200\n",
            "1000/1000 [==============================] - 0s 206us/step - loss: 9.0317e-06 - accuracy: 1.0000\n",
            "Epoch 135/200\n",
            "1000/1000 [==============================] - 0s 207us/step - loss: 7.1488e-06 - accuracy: 1.0000\n",
            "Epoch 136/200\n",
            "1000/1000 [==============================] - 0s 205us/step - loss: 7.5664e-06 - accuracy: 1.0000\n",
            "Epoch 137/200\n",
            "1000/1000 [==============================] - 0s 211us/step - loss: 9.7688e-06 - accuracy: 1.0000\n",
            "Epoch 138/200\n",
            "1000/1000 [==============================] - 0s 217us/step - loss: 7.2903e-06 - accuracy: 1.0000\n",
            "Epoch 139/200\n",
            "1000/1000 [==============================] - 0s 217us/step - loss: 7.1358e-06 - accuracy: 1.0000\n",
            "Epoch 140/200\n",
            "1000/1000 [==============================] - 0s 216us/step - loss: 8.1204e-06 - accuracy: 1.0000\n",
            "Epoch 141/200\n",
            "1000/1000 [==============================] - 0s 211us/step - loss: 6.2180e-06 - accuracy: 1.0000\n",
            "Epoch 142/200\n",
            "1000/1000 [==============================] - 0s 210us/step - loss: 8.5787e-06 - accuracy: 1.0000\n",
            "Epoch 143/200\n",
            "1000/1000 [==============================] - 0s 212us/step - loss: 1.0023e-05 - accuracy: 1.0000\n",
            "Epoch 144/200\n",
            "1000/1000 [==============================] - 0s 211us/step - loss: 6.8120e-06 - accuracy: 1.0000\n",
            "Epoch 145/200\n",
            "1000/1000 [==============================] - 0s 209us/step - loss: 6.3623e-06 - accuracy: 1.0000\n",
            "Epoch 146/200\n",
            "1000/1000 [==============================] - 0s 209us/step - loss: 5.6190e-06 - accuracy: 1.0000\n",
            "Epoch 147/200\n",
            "1000/1000 [==============================] - 0s 217us/step - loss: 5.8403e-06 - accuracy: 1.0000\n",
            "Epoch 148/200\n",
            "1000/1000 [==============================] - 0s 208us/step - loss: 6.7843e-06 - accuracy: 1.0000\n",
            "Epoch 149/200\n",
            "1000/1000 [==============================] - 0s 208us/step - loss: 8.0266e-06 - accuracy: 1.0000\n",
            "Epoch 150/200\n",
            "1000/1000 [==============================] - 0s 217us/step - loss: 6.6855e-06 - accuracy: 1.0000\n",
            "Epoch 151/200\n",
            "1000/1000 [==============================] - 0s 212us/step - loss: 6.4638e-06 - accuracy: 1.0000\n",
            "Epoch 152/200\n",
            "1000/1000 [==============================] - 0s 208us/step - loss: 9.1071e-06 - accuracy: 1.0000\n",
            "Epoch 153/200\n",
            "1000/1000 [==============================] - 0s 207us/step - loss: 9.4965e-06 - accuracy: 1.0000\n",
            "Epoch 154/200\n",
            "1000/1000 [==============================] - 0s 207us/step - loss: 8.0207e-06 - accuracy: 1.0000\n",
            "Epoch 155/200\n",
            "1000/1000 [==============================] - 0s 210us/step - loss: 1.0275e-05 - accuracy: 1.0000\n",
            "Epoch 156/200\n",
            "1000/1000 [==============================] - 0s 213us/step - loss: 6.1088e-06 - accuracy: 1.0000\n",
            "Epoch 157/200\n",
            "1000/1000 [==============================] - 0s 211us/step - loss: 8.9202e-06 - accuracy: 1.0000\n",
            "Epoch 158/200\n",
            "1000/1000 [==============================] - 0s 208us/step - loss: 6.8174e-06 - accuracy: 1.0000\n",
            "Epoch 159/200\n",
            "1000/1000 [==============================] - 0s 209us/step - loss: 9.2310e-06 - accuracy: 1.0000\n",
            "Epoch 160/200\n",
            "1000/1000 [==============================] - 0s 210us/step - loss: 7.5769e-06 - accuracy: 1.0000\n",
            "Epoch 161/200\n",
            "1000/1000 [==============================] - 0s 213us/step - loss: 6.6012e-06 - accuracy: 1.0000\n",
            "Epoch 162/200\n",
            "1000/1000 [==============================] - 0s 209us/step - loss: 4.6626e-06 - accuracy: 1.0000\n",
            "Epoch 163/200\n",
            "1000/1000 [==============================] - 0s 212us/step - loss: 5.7958e-06 - accuracy: 1.0000\n",
            "Epoch 164/200\n",
            "1000/1000 [==============================] - 0s 207us/step - loss: 5.6857e-06 - accuracy: 1.0000\n",
            "Epoch 165/200\n",
            "1000/1000 [==============================] - 0s 214us/step - loss: 6.4504e-06 - accuracy: 1.0000\n",
            "Epoch 166/200\n",
            "1000/1000 [==============================] - 0s 212us/step - loss: 6.0742e-06 - accuracy: 1.0000\n",
            "Epoch 167/200\n",
            "1000/1000 [==============================] - 0s 207us/step - loss: 5.2918e-06 - accuracy: 1.0000\n",
            "Epoch 168/200\n",
            "1000/1000 [==============================] - 0s 212us/step - loss: 5.0296e-06 - accuracy: 1.0000\n",
            "Epoch 169/200\n",
            "1000/1000 [==============================] - 0s 207us/step - loss: 4.9635e-06 - accuracy: 1.0000\n",
            "Epoch 170/200\n",
            "1000/1000 [==============================] - 0s 215us/step - loss: 6.9870e-06 - accuracy: 1.0000\n",
            "Epoch 171/200\n",
            "1000/1000 [==============================] - 0s 213us/step - loss: 6.7431e-06 - accuracy: 1.0000\n",
            "Epoch 172/200\n",
            "1000/1000 [==============================] - 0s 206us/step - loss: 4.2472e-06 - accuracy: 1.0000\n",
            "Epoch 173/200\n",
            "1000/1000 [==============================] - 0s 208us/step - loss: 5.0974e-06 - accuracy: 1.0000\n",
            "Epoch 174/200\n",
            "1000/1000 [==============================] - 0s 211us/step - loss: 5.0883e-06 - accuracy: 1.0000\n",
            "Epoch 175/200\n",
            "1000/1000 [==============================] - 0s 210us/step - loss: 4.9991e-06 - accuracy: 1.0000\n",
            "Epoch 176/200\n",
            "1000/1000 [==============================] - 0s 207us/step - loss: 6.3998e-06 - accuracy: 1.0000\n",
            "Epoch 177/200\n",
            "1000/1000 [==============================] - 0s 209us/step - loss: 5.7636e-06 - accuracy: 1.0000\n",
            "Epoch 178/200\n",
            "1000/1000 [==============================] - 0s 210us/step - loss: 4.6142e-06 - accuracy: 1.0000\n",
            "Epoch 179/200\n",
            "1000/1000 [==============================] - 0s 214us/step - loss: 5.7911e-06 - accuracy: 1.0000\n",
            "Epoch 180/200\n",
            "1000/1000 [==============================] - 0s 212us/step - loss: 6.4641e-06 - accuracy: 1.0000\n",
            "Epoch 181/200\n",
            "1000/1000 [==============================] - 0s 213us/step - loss: 7.0947e-06 - accuracy: 1.0000\n",
            "Epoch 182/200\n",
            "1000/1000 [==============================] - 0s 206us/step - loss: 6.1130e-06 - accuracy: 1.0000\n",
            "Epoch 183/200\n",
            "1000/1000 [==============================] - 0s 208us/step - loss: 4.5142e-06 - accuracy: 1.0000\n",
            "Epoch 184/200\n",
            "1000/1000 [==============================] - 0s 209us/step - loss: 5.6675e-06 - accuracy: 1.0000\n",
            "Epoch 185/200\n",
            "1000/1000 [==============================] - 0s 214us/step - loss: 5.4931e-06 - accuracy: 1.0000\n",
            "Epoch 186/200\n",
            "1000/1000 [==============================] - 0s 211us/step - loss: 4.1270e-06 - accuracy: 1.0000\n",
            "Epoch 187/200\n",
            "1000/1000 [==============================] - 0s 212us/step - loss: 5.3299e-06 - accuracy: 1.0000\n",
            "Epoch 188/200\n",
            "1000/1000 [==============================] - 0s 210us/step - loss: 7.3184e-06 - accuracy: 1.0000\n",
            "Epoch 189/200\n",
            "1000/1000 [==============================] - 0s 208us/step - loss: 4.2025e-06 - accuracy: 1.0000\n",
            "Epoch 190/200\n",
            "1000/1000 [==============================] - 0s 221us/step - loss: 5.2675e-06 - accuracy: 1.0000\n",
            "Epoch 191/200\n",
            "1000/1000 [==============================] - 0s 207us/step - loss: 1.3002e-05 - accuracy: 1.0000\n",
            "Epoch 192/200\n",
            "1000/1000 [==============================] - 0s 209us/step - loss: 4.4574e-06 - accuracy: 1.0000\n",
            "Epoch 193/200\n",
            "1000/1000 [==============================] - 0s 210us/step - loss: 4.5895e-06 - accuracy: 1.0000\n",
            "Epoch 194/200\n",
            "1000/1000 [==============================] - 0s 212us/step - loss: 8.4725e-06 - accuracy: 1.0000\n",
            "Epoch 195/200\n",
            "1000/1000 [==============================] - 0s 208us/step - loss: 7.9157e-06 - accuracy: 1.0000\n",
            "Epoch 196/200\n",
            "1000/1000 [==============================] - 0s 208us/step - loss: 5.3946e-06 - accuracy: 1.0000\n",
            "Epoch 197/200\n",
            "1000/1000 [==============================] - 0s 208us/step - loss: 4.9221e-06 - accuracy: 1.0000\n",
            "Epoch 198/200\n",
            "1000/1000 [==============================] - 0s 209us/step - loss: 4.3392e-06 - accuracy: 1.0000\n",
            "Epoch 199/200\n",
            "1000/1000 [==============================] - 0s 213us/step - loss: 4.5404e-06 - accuracy: 1.0000\n",
            "Epoch 200/200\n",
            "1000/1000 [==============================] - 0s 209us/step - loss: 3.9782e-06 - accuracy: 1.0000\n"
          ],
          "name": "stdout"
        }
      ]
    },
    {
      "cell_type": "code",
      "metadata": {
        "id": "lCHrArtaH4d-",
        "colab_type": "code",
        "colab": {}
      },
      "source": [
        "foolModel = foolbox.models.KerasModel(model, bounds=(0, 255))\n",
        "attack = foolbox.attacks.GradientSignAttack(foolModel, distance=foolbox.distances.MeanSquaredDistance)"
      ],
      "execution_count": null,
      "outputs": []
    },
    {
      "cell_type": "code",
      "metadata": {
        "id": "so1l6WNLGO_-",
        "colab_type": "code",
        "colab": {
          "base_uri": "https://localhost:8080/",
          "height": 70
        },
        "outputId": "4bcb8550-da41-4085-eea5-ee35fa94775c"
      },
      "source": [
        "FGSM = attack(image, labelf, epsilons=2000, max_epsilon=1)\n",
        "eqm  = tf.keras.losses.MSE(image/255,FGSM/255)\n",
        "print(sess.run(eqm).mean())"
      ],
      "execution_count": null,
      "outputs": [
        {
          "output_type": "stream",
          "text": [
            "/usr/local/lib/python3.6/dist-packages/foolbox/attacks/base.py:95: UserWarning: GradientSignAttack did not find an adversarial, maybe the model or the criterion is not supported by this attack.\n",
            "  \" attack.\".format(self.name())\n"
          ],
          "name": "stderr"
        },
        {
          "output_type": "stream",
          "text": [
            "0.033484053\n"
          ],
          "name": "stdout"
        }
      ]
    },
    {
      "cell_type": "code",
      "metadata": {
        "id": "FXSXz0J-HHmd",
        "colab_type": "code",
        "colab": {}
      },
      "source": [
        ""
      ],
      "execution_count": null,
      "outputs": []
    },
    {
      "cell_type": "code",
      "metadata": {
        "id": "2_P9cGmXHHpt",
        "colab_type": "code",
        "colab": {}
      },
      "source": [
        ""
      ],
      "execution_count": null,
      "outputs": []
    },
    {
      "cell_type": "code",
      "metadata": {
        "id": "vB5wCoxhHHtH",
        "colab_type": "code",
        "colab": {}
      },
      "source": [
        ""
      ],
      "execution_count": null,
      "outputs": []
    },
    {
      "cell_type": "markdown",
      "metadata": {
        "id": "EIXYL7JDE9Oq",
        "colab_type": "text"
      },
      "source": [
        "Prédiction\n"
      ]
    },
    {
      "cell_type": "code",
      "metadata": {
        "id": "e7oxXybKo3lt",
        "colab_type": "code",
        "colab": {
          "base_uri": "https://localhost:8080/",
          "height": 1000
        },
        "outputId": "2c6eda72-cfd3-4757-e5b1-70c85f784c21"
      },
      "source": [
        "FGSM_Test = np.array([])\n",
        "for k in range(0,maxIter+1) :\n",
        "  model.load_weights(filePath+'/Madry'+str(k))\n",
        "  foolModel = foolbox.models.KerasModel(model, bounds=(0, 255))\n",
        "  attack = foolbox.attacks.GradientSignAttack(foolModel, distance=foolbox.distances.MeanSquaredDistance) # L2BasicIterativeAttack\n",
        "  adv = attack(image, labelf, epsilons=2000, max_epsilon=1)\n",
        "  \n",
        "  if FGSM_Test.size == 0 :\n",
        "      FGSM_Test = np.array([adv])\n",
        "  else :\n",
        "      FGSM_Test = np.concatenate((FGSM_Test,[adv]))"
      ],
      "execution_count": null,
      "outputs": [
        {
          "output_type": "stream",
          "text": [
            "/usr/local/lib/python3.6/dist-packages/foolbox/attacks/base.py:95: UserWarning: GradientSignAttack did not find an adversarial, maybe the model or the criterion is not supported by this attack.\n",
            "  \" attack.\".format(self.name())\n",
            "/usr/local/lib/python3.6/dist-packages/foolbox/attacks/base.py:95: UserWarning: GradientSignAttack did not find an adversarial, maybe the model or the criterion is not supported by this attack.\n",
            "  \" attack.\".format(self.name())\n",
            "/usr/local/lib/python3.6/dist-packages/foolbox/attacks/base.py:95: UserWarning: GradientSignAttack did not find an adversarial, maybe the model or the criterion is not supported by this attack.\n",
            "  \" attack.\".format(self.name())\n",
            "/usr/local/lib/python3.6/dist-packages/foolbox/attacks/base.py:95: UserWarning: GradientSignAttack did not find an adversarial, maybe the model or the criterion is not supported by this attack.\n",
            "  \" attack.\".format(self.name())\n",
            "/usr/local/lib/python3.6/dist-packages/foolbox/attacks/base.py:95: UserWarning: GradientSignAttack did not find an adversarial, maybe the model or the criterion is not supported by this attack.\n",
            "  \" attack.\".format(self.name())\n",
            "/usr/local/lib/python3.6/dist-packages/foolbox/attacks/base.py:95: UserWarning: GradientSignAttack did not find an adversarial, maybe the model or the criterion is not supported by this attack.\n",
            "  \" attack.\".format(self.name())\n",
            "/usr/local/lib/python3.6/dist-packages/foolbox/attacks/base.py:95: UserWarning: GradientSignAttack did not find an adversarial, maybe the model or the criterion is not supported by this attack.\n",
            "  \" attack.\".format(self.name())\n",
            "/usr/local/lib/python3.6/dist-packages/foolbox/attacks/base.py:95: UserWarning: GradientSignAttack did not find an adversarial, maybe the model or the criterion is not supported by this attack.\n",
            "  \" attack.\".format(self.name())\n",
            "/usr/local/lib/python3.6/dist-packages/foolbox/attacks/base.py:95: UserWarning: GradientSignAttack did not find an adversarial, maybe the model or the criterion is not supported by this attack.\n",
            "  \" attack.\".format(self.name())\n",
            "/usr/local/lib/python3.6/dist-packages/foolbox/attacks/base.py:95: UserWarning: GradientSignAttack did not find an adversarial, maybe the model or the criterion is not supported by this attack.\n",
            "  \" attack.\".format(self.name())\n",
            "/usr/local/lib/python3.6/dist-packages/foolbox/attacks/base.py:95: UserWarning: GradientSignAttack did not find an adversarial, maybe the model or the criterion is not supported by this attack.\n",
            "  \" attack.\".format(self.name())\n",
            "/usr/local/lib/python3.6/dist-packages/foolbox/attacks/base.py:95: UserWarning: GradientSignAttack did not find an adversarial, maybe the model or the criterion is not supported by this attack.\n",
            "  \" attack.\".format(self.name())\n",
            "/usr/local/lib/python3.6/dist-packages/foolbox/attacks/base.py:95: UserWarning: GradientSignAttack did not find an adversarial, maybe the model or the criterion is not supported by this attack.\n",
            "  \" attack.\".format(self.name())\n",
            "/usr/local/lib/python3.6/dist-packages/foolbox/attacks/base.py:95: UserWarning: GradientSignAttack did not find an adversarial, maybe the model or the criterion is not supported by this attack.\n",
            "  \" attack.\".format(self.name())\n",
            "/usr/local/lib/python3.6/dist-packages/foolbox/attacks/base.py:95: UserWarning: GradientSignAttack did not find an adversarial, maybe the model or the criterion is not supported by this attack.\n",
            "  \" attack.\".format(self.name())\n",
            "/usr/local/lib/python3.6/dist-packages/foolbox/attacks/base.py:95: UserWarning: GradientSignAttack did not find an adversarial, maybe the model or the criterion is not supported by this attack.\n",
            "  \" attack.\".format(self.name())\n",
            "/usr/local/lib/python3.6/dist-packages/foolbox/attacks/base.py:95: UserWarning: GradientSignAttack did not find an adversarial, maybe the model or the criterion is not supported by this attack.\n",
            "  \" attack.\".format(self.name())\n",
            "/usr/local/lib/python3.6/dist-packages/foolbox/attacks/base.py:95: UserWarning: GradientSignAttack did not find an adversarial, maybe the model or the criterion is not supported by this attack.\n",
            "  \" attack.\".format(self.name())\n",
            "/usr/local/lib/python3.6/dist-packages/foolbox/attacks/base.py:95: UserWarning: GradientSignAttack did not find an adversarial, maybe the model or the criterion is not supported by this attack.\n",
            "  \" attack.\".format(self.name())\n",
            "/usr/local/lib/python3.6/dist-packages/foolbox/attacks/base.py:95: UserWarning: GradientSignAttack did not find an adversarial, maybe the model or the criterion is not supported by this attack.\n",
            "  \" attack.\".format(self.name())\n",
            "/usr/local/lib/python3.6/dist-packages/foolbox/attacks/base.py:95: UserWarning: GradientSignAttack did not find an adversarial, maybe the model or the criterion is not supported by this attack.\n",
            "  \" attack.\".format(self.name())\n",
            "/usr/local/lib/python3.6/dist-packages/foolbox/attacks/base.py:95: UserWarning: GradientSignAttack did not find an adversarial, maybe the model or the criterion is not supported by this attack.\n",
            "  \" attack.\".format(self.name())\n",
            "/usr/local/lib/python3.6/dist-packages/foolbox/attacks/base.py:95: UserWarning: GradientSignAttack did not find an adversarial, maybe the model or the criterion is not supported by this attack.\n",
            "  \" attack.\".format(self.name())\n",
            "/usr/local/lib/python3.6/dist-packages/foolbox/attacks/base.py:95: UserWarning: GradientSignAttack did not find an adversarial, maybe the model or the criterion is not supported by this attack.\n",
            "  \" attack.\".format(self.name())\n",
            "/usr/local/lib/python3.6/dist-packages/foolbox/attacks/base.py:95: UserWarning: GradientSignAttack did not find an adversarial, maybe the model or the criterion is not supported by this attack.\n",
            "  \" attack.\".format(self.name())\n",
            "/usr/local/lib/python3.6/dist-packages/foolbox/attacks/base.py:95: UserWarning: GradientSignAttack did not find an adversarial, maybe the model or the criterion is not supported by this attack.\n",
            "  \" attack.\".format(self.name())\n",
            "/usr/local/lib/python3.6/dist-packages/foolbox/attacks/base.py:95: UserWarning: GradientSignAttack did not find an adversarial, maybe the model or the criterion is not supported by this attack.\n",
            "  \" attack.\".format(self.name())\n",
            "/usr/local/lib/python3.6/dist-packages/foolbox/attacks/base.py:95: UserWarning: GradientSignAttack did not find an adversarial, maybe the model or the criterion is not supported by this attack.\n",
            "  \" attack.\".format(self.name())\n",
            "/usr/local/lib/python3.6/dist-packages/foolbox/attacks/base.py:95: UserWarning: GradientSignAttack did not find an adversarial, maybe the model or the criterion is not supported by this attack.\n",
            "  \" attack.\".format(self.name())\n",
            "/usr/local/lib/python3.6/dist-packages/foolbox/attacks/base.py:95: UserWarning: GradientSignAttack did not find an adversarial, maybe the model or the criterion is not supported by this attack.\n",
            "  \" attack.\".format(self.name())\n",
            "/usr/local/lib/python3.6/dist-packages/foolbox/attacks/base.py:95: UserWarning: GradientSignAttack did not find an adversarial, maybe the model or the criterion is not supported by this attack.\n",
            "  \" attack.\".format(self.name())\n"
          ],
          "name": "stderr"
        }
      ]
    },
    {
      "cell_type": "code",
      "metadata": {
        "id": "nINgl18mXSXb",
        "colab_type": "code",
        "colab": {
          "base_uri": "https://localhost:8080/",
          "height": 87
        },
        "outputId": "af91de37-e9b3-48f8-8f00-f2f5b2aff903"
      },
      "source": [
        "predictN, predictT, predictT0, predictNT = [], [], [], []\n",
        "\n",
        "for k in range(0,maxIter+1) :    \n",
        "    predictNT.append(np.mean(theClassifieurs[k].predict(imageTest).argmax(axis=-1) == labelTestf))\n",
        "    predictN.append(np.mean(theClassifieurs[k].predict(image).argmax(axis=-1) == labelf))\n",
        "    \n",
        "    if k != 0 :\n",
        "      predictT0.append(np.mean(theClassifieurs[k-1].predict(FGSM_Test[k]).argmax(axis=-1) == labelTestf))\n",
        "    else :\n",
        "      predictT0.append(0)\n",
        "\n",
        "    predictT.append(np.mean(theClassifieurs[k].predict(FGSM_Test[k]).argmax(axis=-1) == labelTestf))  "
      ],
      "execution_count": null,
      "outputs": [
        {
          "output_type": "stream",
          "text": [
            "/usr/local/lib/python3.6/dist-packages/ipykernel_launcher.py:12: DeprecationWarning: elementwise comparison failed; this will raise an error in the future.\n",
            "  if sys.path[0] == '':\n",
            "/usr/local/lib/python3.6/dist-packages/ipykernel_launcher.py:8: DeprecationWarning: elementwise comparison failed; this will raise an error in the future.\n",
            "  \n"
          ],
          "name": "stderr"
        }
      ]
    },
    {
      "cell_type": "code",
      "metadata": {
        "id": "ZCaNmYfxpBh0",
        "colab_type": "code",
        "colab": {
          "base_uri": "https://localhost:8080/",
          "height": 445
        },
        "outputId": "0ed8ae15-4ffa-43ac-89a3-eb93bb0f8156"
      },
      "source": [
        "plt.rcParams[\"figure.figsize\"] = (10,7) #(8,5)\n",
        "plt.plot([i for i in range(maxIter+1)], predictN, 'b', label=\"Prediction Image\", dashes=[3, 4])\n",
        "plt.plot([i for i in range(maxIter+1)], predictNT, 'gold', label=\"Prediction Image Naturel Test en fonction de K\", dashes=[3, 2])\n",
        "plt.plot([i for i in range(maxIter+1)], predictT, 'red', label=\"Prediction Image Test adeverse en fonction de K\", dashes=[6, 2])\n",
        "plt.plot([i for i in range(1,maxIter+1)], predictT0[1:], 'y', label=\"Prediction Image Test adeverse par Fk en fonction de K-1\", dashes=[10, 3])\n",
        "#plt.plot([i for i in range(maxIter+1)], predictZ, 'y', label=\"Prediction Zk  par Fk-1 en fonction de K\", dashes=[3, 2])\n",
        "#plt.plot([i for i in range(maxIter+1)], predictZF, 'purple', label=\"Prediction de Zk par Zfinal en fonction de K\")\n",
        "#plt.plot([i for i in range(maxIter+1)], [0.5 for i in range(maxIter+1)], 'orange', label=\"Y=0.5\")\n",
        "plt.legend()\n",
        "x1,x2,y1,y2 = plt.axis()\n",
        "plt.axis((x1,x2,0,1.1))"
      ],
      "execution_count": null,
      "outputs": [
        {
          "output_type": "execute_result",
          "data": {
            "text/plain": [
              "(-1.5, 31.5, 0.0, 1.1)"
            ]
          },
          "metadata": {
            "tags": []
          },
          "execution_count": 39
        },
        {
          "output_type": "display_data",
          "data": {
            "image/png": "[encoded data removed]",
            "text/plain": [
              "<Figure size 720x504 with 1 Axes>"
            ]
          },
          "metadata": {
            "tags": [],
            "needs_background": "light"
          }
        }
      ]
    },
    {
      "cell_type": "markdown",
      "metadata": {
        "id": "iFqL64ingz7j",
        "colab_type": "text"
      },
      "source": [
        "# Show Image Exemple"
      ]
    },
    {
      "cell_type": "code",
      "metadata": {
        "id": "_zWkChhRgzQu",
        "colab_type": "code",
        "colab": {
          "base_uri": "https://localhost:8080/",
          "height": 474
        },
        "outputId": "4738f1e9-718c-4c16-d2bc-bb2f06b15642"
      },
      "source": [
        "imgNum, plt.rcParams[\"figure.figsize\"] = 10, (10,7)\n",
        "\n",
        "model.load_weights(filePath+'/Madry'+str(maxIter))\n",
        "if model.predict(image[imgNum:imgNum+1]).argmax(axis=-1) != labelf[imgNum:imgNum+1] : \n",
        "  print(\"diff\")\n",
        "\n",
        "model = ResNet18(input_shape=[32,32,3], include_top=True, classes=2, weights=None)\n",
        "optim = tf.compat.v1.train.AdamOptimizer(1e-4)\n",
        "loss = tf.keras.losses.MeanSquaredError()\n",
        "model.compile(optim, loss, metrics=['accuracy'])\n",
        "\n",
        "plt.subplot(2, 3, 1)\n",
        "plt.imshow(image[imgNum])\n",
        "\n",
        "model.load_weights(filePath+'/Madry0')\n",
        "foolModel = foolbox.models.KerasModel(model, bounds=(0, 255))\n",
        "attack = foolbox.attacks.GradientSignAttack(foolModel, distance=foolbox.distances.MeanSquaredDistance)\n",
        "ad0 = attack(image[imgNum:imgNum+1], labelf[imgNum:imgNum+1], epsilons=2000, max_epsilon=1)\n",
        "plt.subplot(2, 3, 2)\n",
        "plt.imshow(np.asarray(ad0[0], dtype=int))\n",
        "\n",
        "model.load_weights(filePath+'/Madry'+str(maxIter))\n",
        "foolModel = foolbox.models.KerasModel(model, bounds=(0, 255))\n",
        "attack = foolbox.attacks.GradientSignAttack(foolModel, distance=foolbox.distances.MeanSquaredDistance)\n",
        "adf = attack(image[imgNum:imgNum+1], labelf[imgNum:imgNum+1], epsilons=2000, max_epsilon=1)\n",
        "plt.subplot(2, 3, 3)\n",
        "plt.imshow(np.asarray(adf[0], dtype=int))\n",
        "\n",
        "plt.subplot(2, 3, 4)\n",
        "plt.imshow(np.absolute(image[imgNum] - image[imgNum]))\n",
        "\n",
        "diff1 = np.absolute(image[imgNum] - ad0)\n",
        "diff1 = (diff1)**(1/2)\n",
        "mi, ma = np.min(diff1[0]), np.max(diff1[0])\n",
        "#diff1 = 255*(diff1[0]-mi)/(ma-mi)\n",
        "plt.subplot(2, 3, 5)\n",
        "plt.imshow(np.asarray(diff1[0]*50, dtype=int))\n",
        "\n",
        "diff2 = np.absolute(image[imgNum] - adf)\n",
        "diff2 = (diff2)**(1/2)\n",
        "diff2 = np.absolute(image[imgNum] - adf)\n",
        "mi, ma = np.min(diff2[0]), np.max(diff2[0])\n",
        "#diff2 = 255*(diff2[0]-mi)/(ma-mi)\n",
        "plt.subplot(2, 3, 6)\n",
        "plt.imshow(np.asarray(diff2[0]*50, dtype=int)) #diff2[0]*10"
      ],
      "execution_count": null,
      "outputs": [
        {
          "output_type": "stream",
          "text": [
            "/usr/local/lib/python3.6/dist-packages/foolbox/attacks/base.py:95: UserWarning: GradientSignAttack did not find an adversarial, maybe the model or the criterion is not supported by this attack.\n",
            "  \" attack.\".format(self.name())\n"
          ],
          "name": "stderr"
        },
        {
          "output_type": "execute_result",
          "data": {
            "text/plain": [
              "<matplotlib.image.AxesImage at 0x7f9376225400>"
            ]
          },
          "metadata": {
            "tags": []
          },
          "execution_count": 40
        },
        {
          "output_type": "display_data",
          "data": {
            "image/png": "[encoded data removed]",
            "text/plain": [
              "<Figure size 720x504 with 6 Axes>"
            ]
          },
          "metadata": {
            "tags": [],
            "needs_background": "light"
          }
        }
      ]
    },
    {
      "cell_type": "code",
      "metadata": {
        "id": "68eUNA9cEgF8",
        "colab_type": "code",
        "colab": {
          "base_uri": "https://localhost:8080/",
          "height": 456
        },
        "outputId": "919b357d-8d7e-4d56-d0b6-6d2325098c9a"
      },
      "source": [
        "imgNum, plt.rcParams[\"figure.figsize\"] = 88, (10,7)\n",
        "\n",
        "model.load_weights(filePath+'/Madry'+str(maxIter))\n",
        "if model.predict(image[imgNum:imgNum+1]).argmax(axis=-1) != labelf[imgNum:imgNum+1] : \n",
        "  print(\"diff\")\n",
        "\n",
        "model = ResNet18(input_shape=[32,32,3], include_top=True, classes=2, weights=None)\n",
        "optim = tf.compat.v1.train.AdamOptimizer(1e-4)\n",
        "loss = tf.keras.losses.MeanSquaredError()\n",
        "model.compile(optim, loss, metrics=['accuracy'])\n",
        "\n",
        "plt.subplot(2, 3, 1)\n",
        "plt.imshow(image[imgNum])\n",
        "\n",
        "model.load_weights(filePath+'/Madry0')\n",
        "foolModel = foolbox.models.KerasModel(model, bounds=(0, 255))\n",
        "attack = foolbox.attacks.GradientSignAttack(foolModel, distance=foolbox.distances.MeanSquaredDistance)\n",
        "ad0 = attack(image[imgNum:imgNum+1], labelf[imgNum:imgNum+1], epsilons=2000, max_epsilon=1)\n",
        "plt.subplot(2, 3, 2)\n",
        "plt.imshow(np.asarray(ad0[0], dtype=int))\n",
        "\n",
        "model.load_weights(filePath+'/Madry'+str(maxIter))\n",
        "foolModel = foolbox.models.KerasModel(model, bounds=(0, 255))\n",
        "attack = foolbox.attacks.GradientSignAttack(foolModel, distance=foolbox.distances.MeanSquaredDistance)\n",
        "adf = attack(image[imgNum:imgNum+1], labelf[imgNum:imgNum+1], epsilons=2000, max_epsilon=1)\n",
        "plt.subplot(2, 3, 3)\n",
        "plt.imshow(np.asarray(adf[0], dtype=int))\n",
        "\n",
        "plt.subplot(2, 3, 4)\n",
        "plt.imshow(np.absolute(image[imgNum] - image[imgNum]))\n",
        "\n",
        "diff1 = np.absolute(image[imgNum] - ad0)\n",
        "diff1 = (diff1)**(1/2)\n",
        "mi, ma = np.min(diff1[0]), np.max(diff1[0])\n",
        "#diff1 = 255*(diff1[0]-mi)/(ma-mi)\n",
        "plt.subplot(2, 3, 5)\n",
        "plt.imshow(np.asarray(diff1[0]*50, dtype=int))\n",
        "\n",
        "diff2 = np.absolute(image[imgNum] - adf)\n",
        "diff2 = (diff2)**(1/2)\n",
        "diff2 = np.absolute(image[imgNum] - adf)\n",
        "mi, ma = np.min(diff2[0]), np.max(diff2[0])\n",
        "#diff2 = 255*(diff2[0]-mi)/(ma-mi)\n",
        "plt.subplot(2, 3, 6)\n",
        "plt.imshow(np.asarray(diff2[0]*50, dtype=int))"
      ],
      "execution_count": null,
      "outputs": [
        {
          "output_type": "stream",
          "text": [
            "diff\n"
          ],
          "name": "stdout"
        },
        {
          "output_type": "execute_result",
          "data": {
            "text/plain": [
              "<matplotlib.image.AxesImage at 0x7f9375128e80>"
            ]
          },
          "metadata": {
            "tags": []
          },
          "execution_count": 41
        },
        {
          "output_type": "display_data",
          "data": {
            "image/png": "[encoded data removed]",
            "text/plain": [
              "<Figure size 720x504 with 6 Axes>"
            ]
          },
          "metadata": {
            "tags": [],
            "needs_background": "light"
          }
        }
      ]
    },
    {
      "cell_type": "code",
      "metadata": {
        "id": "U8essUlDY3qR",
        "colab_type": "code",
        "colab": {}
      },
      "source": [
        "imgNum, plt.rcParams[\"figure.figsize\"] = 11, (10,7)\n",
        "\n",
        "tab = []\n",
        "\n",
        "model.load_weights(filePath+'/Madry'+str(maxIter))\n",
        "if model.predict(image[imgNum:imgNum+1]).argmax(axis=-1) != labelf[imgNum:imgNum+1] : \n",
        "  print(\"diff\")\n",
        "\n",
        "model = ResNet18(input_shape=[32,32,3], include_top=True, classes=2, weights=None)\n",
        "optim = tf.compat.v1.train.AdamOptimizer(1e-4)\n",
        "loss = tf.keras.losses.MeanSquaredError()\n",
        "model.compile(optim, loss, metrics=['accuracy'])\n",
        "\n",
        "for i in range(100) :\n",
        "  model.load_weights(filePath+'/Madry0')\n",
        "\n",
        "  if model.predict(image[i:i+1]).argmax(axis=-1) != labelf[i:i+1] : \n",
        "    print(str(i)+\" : 0\")\n",
        "\n",
        "  model.load_weights(filePath+'/Madry'+str(maxIter))\n",
        "  if model.predict(image[i:i+1]).argmax(axis=-1) != labelf[i:i+1] : \n",
        "    print(str(i)+\" : 30\")\n",
        "\n",
        "  foolModel = foolbox.models.KerasModel(model, bounds=(0, 255))\n",
        "  attack = foolbox.attacks.GradientSignAttack(foolModel, distance=foolbox.distances.MeanSquaredDistance)\n",
        "  ad0 = attack(image[i:i+1], labelf[i:i+1], epsilons=2000, max_epsilon=1)\n",
        "  eqm  = tf.keras.losses.MSE(image[i:i+1]/255,ad0/255)\n",
        "  tab.append(sess.run(eqm).mean())"
      ],
      "execution_count": null,
      "outputs": []
    }
  ]
}